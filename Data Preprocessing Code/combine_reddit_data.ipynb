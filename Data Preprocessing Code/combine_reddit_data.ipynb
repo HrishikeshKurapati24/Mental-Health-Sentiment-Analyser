{
 "cells": [
  {
   "cell_type": "code",
   "execution_count": 1,
   "id": "a9ffc5ba-3e8b-4661-9492-af272bbbc27e",
   "metadata": {},
   "outputs": [
    {
     "name": "stdout",
     "output_type": "stream",
     "text": [
      "⚠️ Found 77 rows with missing or invalid labels. Please label them manually.\n",
      "\n",
      "📝 Text:\n",
      " Been in therapy since I was 12. I'm almost 30 now.\n",
      "I have Major Depressive Disorder, Autism/Aspergers/, Borderline Personality Disorder, ADHD, insomnia.\n",
      "All diagnosed at age 12-16.\n",
      "I am now drug/medication resistant.\n",
      "I have now done ECT(modern shock treatment) and it has made everything, every symptom, worse.\n",
      "I've been wanting to die since I was 10.\n",
      "After every attempt (17 failed) I only wish it worked even more after each one.\n",
      "The longer I'm alive, the more I want to die.\n",
      "I've lost all my friends due to my illnesses.\n",
      "I am no longer able to work.\n",
      "My parents have gained guardianship/conservatorship over me now. And it's making things even worse for me mentally.\n",
      "\n",
      "I'm many other ways, I now qualify for M.A.i.D. In Canada.\n",
      " But my parents are determined to keep me alive. They only want me alive for themselves. Not for my own sake.\n",
      "\n",
      "I am now getting worse. And I'm beyond tired. \n",
      "\n",
      "Believe me I have tried to get better. I have tried for years. And now I see I am beyond repair. And that there is no reason for me to get better.\n",
      "\n",
      "And I think it's ok for me to put myself out of my misery. If we are all going to die anyway, why can't I end my life and end my suffering?\n",
      "\n",
      "I truly, really, have not one reason to live.\n",
      "And I'm at peace with that.\n",
      "I should be aloud to end my suffering.\n",
      "Death is what I want. Death. Not life.\n",
      "And that's ok.\n"
     ]
    },
    {
     "name": "stdin",
     "output_type": "stream",
     "text": [
      "Enter label (0=neutral, 1=low mood, 2=anxious, 3=stressed):  1\n"
     ]
    },
    {
     "name": "stdout",
     "output_type": "stream",
     "text": [
      "\n",
      "📝 Text:\n",
      " I’d appreciate any advice or insights on this situation. My (23F) younger sister has been diagnosed with depression and anxiety when this started, and both run in our family. Her struggles are real, but there hasn’t been improvement and our family is barely holding on mentally and financially. \n",
      "\n",
      "I have been trying to be there as her sister but I don’t know what else I can do to support besides helping pay hospital bills. I feel like she doesn’t want to get better and I can’t motivate or change those feelings. At the same time, there have been instances where I believe she’s also been desperate for attention.\n",
      "\n",
      "In her first time at inpatient, she says she hears voices telling her to hurt herself. However, there have been two instances now where the police have come to our house because she’s used the hotline and stopped responding. In both situations, she got in trouble and lost phone access or other privileges. After both situations, my mom has completely freaked out yet my sister doesn’t understand the severity it seems. \n",
      "\n",
      "This most recent time at inpatient was most severe. She was taken out of school staring February and has been doing online work. She is now in outpatient for about a month and will then continue to have therapy sessions for 4 hours for a month. She is in 8th grade, and I think she’s realizing how much she missed out on, leading to more depression. She ended up at inpatient this time after running into the street after therapy to try and get hit by a car. Her grades had been good (besides math), no friend drama, and she had started to learn guitar. \n",
      "\n",
      "Recently, at outpatient she told the therapist she felt unsafe and was going to hurt herself. My dad had to leave work at 12 to get her and sit at the hospital for 6 hours. During the ride home she said she shrugged it all off. \n",
      "\n",
      "Our family is in serious debt because of all this.  Even my dad missing work today will affect the bills. My parents’ marriage is falling apart. In family therapy sessions my sister blames my mom and only has bad perceptions to share. \n",
      "\n",
      "After coming home from inpatient, my sister begged us for tickets to a broadway show. She doesn’t speak when my mom complains and stresses about paying bills. Even at inpatient she asked me to send her gifts. \n",
      "\n",
      "I don’t know how to feel. As someone with depression and anxiety myself, I don’t want to ever deny her feelings. But for 3 years, she goes to the extremes. I feel like she doesn’t want to make improvements or changes, and even her last therapist recommended another one because she couldn’t help her anymore. \n",
      "\n",
      "I’m scared that for the entirety of high school, of her life, she’ll just be in inpatient. But I also can’t make her make a change, that has to be on her own accord.\n",
      "\n",
      "I’ve had conversations with her about tips she can apply when she’s feeling suicidal that I’ve followed and found worked. I’ve told her to stop telling us to buy her things because we are still paying for older hospital visits. \n",
      "\n",
      "She is on so many medications now at only 13. My mom plans to just home school her for the rest of high school and she most likely will need to be handheld after that if this continues.\n",
      "\n",
      "I am burnt out and don’t know what else to do. I will talk to her about all this soon, but am wary it needs to be put gently in case it causes her to spiral. \n",
      "\n",
      "If anyone has had a similar experience with their child, sibling, or even growing up please let me know on what I can do. Or if you have general advice it would be appreciated. I’m sorry this is so long, and i can answer other questions if there are any.\n",
      "\n"
     ]
    },
    {
     "name": "stdin",
     "output_type": "stream",
     "text": [
      "Enter label (0=neutral, 1=low mood, 2=anxious, 3=stressed):  3\n"
     ]
    },
    {
     "name": "stdout",
     "output_type": "stream",
     "text": [
      "\n",
      "📝 Text:\n",
      " I had to treat my hair for lice, found a bedbug in the closet, spent the night at the ER, and today I found out my AFC home won't take me back. \n",
      "\n",
      "I have no reason to be alive now. \n"
     ]
    },
    {
     "name": "stdin",
     "output_type": "stream",
     "text": [
      "Enter label (0=neutral, 1=low mood, 2=anxious, 3=stressed):  1\n"
     ]
    },
    {
     "name": "stdout",
     "output_type": "stream",
     "text": [
      "\n",
      "📝 Text:\n",
      " I know the internet really isn't the best place to be looking for a diagnosis I'm not trying to just some ideas or some insight of what I could be having.\n",
      "\n",
      "I've got some communication issues, I don't know if it's possible to be emotionally mature that you understand people's feelings but also emotionally immature you're not able to process those feelings. I have issues with self identity too rather I'm the type of persont to not have a self identity not knowing who I am or what I'm supposed to he doing. I'm the type of person to have high highs and lows lows, I can't handle emotions the way I think normal people do, for example when I'm sad I'm completely just extremely sad to the point I cannot get out of bed, when I'm happy it's like I just won the lottery (people find me annoying for being too happy over the smallest things) but at the same time there are times where people have told me how emotionally unavailable I am where I don't show the right emotions, I'm not emotional at the right times for them. So it's like I'm either 0% or 120% emotional which I don't really understand why. I over think at like.. Every moment but I also don't think at all if that makes sense.\n",
      "\n",
      "I've always thought my emotions contradict each other, my whole personality is a contradiction at moments, to be emotionally mature but also emotions unavailable doesn't make sense to me at all. I just want to know what's going on I've been suffering and dealing with my own issues for so long, I just want to know what issue I really have to be able to put a name to it. If really there isn't a name for what I have, I really just think I'd be the issue in my own life, that I was just born wrong.\n"
     ]
    },
    {
     "name": "stdin",
     "output_type": "stream",
     "text": [
      "Enter label (0=neutral, 1=low mood, 2=anxious, 3=stressed):  2\n"
     ]
    },
    {
     "name": "stdout",
     "output_type": "stream",
     "text": [
      "\n",
      "📝 Text:\n",
      " It may seem confusing I suppose, why someone would avoid treatment to cling to hope. I have tried literally every SSRI over the span of 10 years. And a few tricyclics. I’ve been in therapy for over a decade. I’ve been to all sorts of inpatient and outpatient clinics. My depression stems from CPTSD, OCD and is worsened by my autism. Not to mention, my OCPD and avoidant personality. I also struggle with Anorexia that had ravaged my health, for 9 years, at points being forced onto a feeding tube. And to top it all off, I have chronic pain and illness. The list of issues feels never ending, and I am so. So. Desperate. \n",
      "\n",
      "I want to get better. I can’t work so I spend every day working to improve. I live in a host home for people with mental illness that is chronic and severe. I do light exercise, I eat well, lots of fruit and veggies, I eat 6 pounds of fruit in a week minimum. I try to see a friend at least once a week, I have chronic fatigue which has really led me to live an isolated life. I try to visit others for 2 hours once a week, but I also go outside every day , usually short trips to the nearby stores. I have hobbies I do when my body allows me. All of this to say, I really feel like I’ve done everything “right”. I struggle a lot with panic attack and meltdowns on top of all of this, and my CPTSD is so severe I have large gaps in my memory. \n",
      "\n",
      "My current meds only help to an extent. I’m on stimulants for narcolepsy and ME/CFS, and ADHD, and Wellbutrin for depression and fatigue, gabapentin for pain and anxiety, and multiple PRN anxiety medications I rely on just to function. When you’ve tried so many different things and STILL feel depressed and often suicidal, you lose all hope. \n",
      "\n",
      "I’ve been offered ketamine therapy. I want it. I will do anything to get a will to live. To make this torment better. But part of me wants to keep putting it off, because if I don’t get this , I can always tell myself there is still another treatment avenue left. If I get this , and it fails, I am going to honestly be in a v bad place. Because this is basically the last thing I haven’t tried, other than TMS which is hard to get where I live. I can’t keep living a life where I hurt myself and spend every waking moment trying to keep myself from ending my life. I don’t want to simply endure. \n",
      "\n",
      "Idk what my point is or why I’m posting this. I just need to get it out. I’ve not met anyone who’s tried as many different things as me and I feel hopeless. I have such little faith that anything will help at this point but try to push that aside bc I know that thinking is self defeating. But I still worry I’ll be let down again and left with no other options for treatment. Then what? Idk. \n"
     ]
    },
    {
     "name": "stdin",
     "output_type": "stream",
     "text": [
      "Enter label (0=neutral, 1=low mood, 2=anxious, 3=stressed):  1\n"
     ]
    },
    {
     "name": "stdout",
     "output_type": "stream",
     "text": [
      "\n",
      "📝 Text:\n",
      " It had been a while since I S.H. but my parents came over today and I couldnt handle their shit. I grew up parenting them and keeping everyone from hating each other. I told her I had no capacity to deal with her venting and dumping everything on me. \"Oh well I'm not expecting you to fix anything.\" Well guess what? Kind of hard to feel completely detached from things when you tell me about Dads drug abuse, my sisters spending, all while drinking when you also have an alcohol problem. Also chewing on your nails, spitting them everywhere, vaping in my house, not knowing how to read the room. My dad showed up, I left the room to try and get myself together because I couldn't tune it out anymore and cried for a while. I gave in to my S.H. urges that started last night actually. I have been punching myself / hitting my head on things but tonight I finally grabbed the blade. I haven't told my partner yet but I probably will. I just feel bad because he's working and I'm not because my last job fucking killed me for minimum wage. I'm so fucking sad about everything lately I'm lonely I'm confused. Just needed to vent. I needed to get this off my chest somewhere.\n"
     ]
    },
    {
     "name": "stdin",
     "output_type": "stream",
     "text": [
      "Enter label (0=neutral, 1=low mood, 2=anxious, 3=stressed):  1\n"
     ]
    },
    {
     "name": "stdout",
     "output_type": "stream",
     "text": [
      "\n",
      "📝 Text:\n",
      " I'm prolly just gonna yap bc Idk what I'm gonna say but I think somethings seriously wrong. Today I found out a friend was in the hospital and was really hurt. They didn't know if he was gonna be ok. We aren't the closest but I still hang out with him pretty often. Me and some other friends left school early to visit him in the hospital and stay there until he woke up hopefully. Hearing the news didn't affect me pretty much. The whole time we were there my friends and his family were obviously very affcted. They cried whenever the saw him but I never really felt anything even though I'm as good of friends with him as some of the people there who were obviously sad. Even when I went home my parents were crying and they didn't even know his family. They barely even knew him.\n",
      "\n",
      "Now that this happened I realise this has happened before. Prolly a year ago a kid I knew committed suicide. I wasn't close to him but even when I was at the funeral I didn't feel that much. Everyone else cried besides me.\n",
      "\n",
      "I don't really feel empathy in general. I'm never happy for someone and it doesn't make sense when I see people genuinely happy for others. I don't remember but I think I've been like this forever.\n",
      "\n",
      "I've had depression before and very recently I think its started to come back a bit but I'm not entirely sure. If you guys have any idea what could be making me this way please let me know it would mean a lot.\n"
     ]
    },
    {
     "name": "stdin",
     "output_type": "stream",
     "text": [
      "Enter label (0=neutral, 1=low mood, 2=anxious, 3=stressed):  2\n"
     ]
    },
    {
     "name": "stdout",
     "output_type": "stream",
     "text": [
      "\n",
      "📝 Text:\n",
      " Just a rant after some pre-therapy survey sessions.\n",
      "\n",
      "I’ve been struggling for years and the last few months has been possibly the absolute worst time of my entire life. Although I feel this way way too often lmao \n",
      "It took me months to just book a session and I haven’t even had a real session yet because there are so much pre-therapy evaluations but talking to a real person and not just myself is quite helpful. I don’t see therapy as a blanket solution that will fix me up perfectly but I’m actually looking forward to it. But also unsure if this my usual pre-anything new excitement or a real progress. \n",
      "I think I have a severe bipolar/borderline personality symptoms so I get anxious and nervous about my own feelings and I’m always unsure of myself. So it’s hard to tell what the fuck is going on with myself but I’m hoping things will get better. While also trying not to get too ahead of myself because I don’t wanna jinx it either. \n"
     ]
    },
    {
     "name": "stdin",
     "output_type": "stream",
     "text": [
      "Enter label (0=neutral, 1=low mood, 2=anxious, 3=stressed):  3\n"
     ]
    },
    {
     "name": "stdout",
     "output_type": "stream",
     "text": [
      "\n",
      "📝 Text:\n",
      " One of my ways of thinking is that I feel like I'm faking myself, and I feel like I can't be emotional.\n",
      "\n",
      "However, when I use one of my other ways of thinking, I can be more emotional, but my mind feels foggy, numb, and hard to think and focus.\n",
      "\n",
      "When I wrote this, I was using my way of thinking that I felt like I was faking.\n",
      "\n",
      "The way I switch to one of my two ways of thinking is, for the way of thinking that I feel like I'm faking myself, I only need to \"believe\" in a note I made that I think is true and reflects me, which more or less the contents of the note are about my idealism to be honest with myself (I know this is weird but this is how I switch to this way of thinking), I have deleted the note in an effort so that I can't \"believe\" in the note, but by writing back only the title of the note, I can still \"believe\" and so I can still switch to this way of thinking.\n",
      "\n",
      "To switch to my way of thinking that I can be more emotional, I just erase my sense of \"believe\" from my mind to the notes about my honest idealism, and live by thinking as it is. \n",
      "\n",
      "I once decided to try to live forever using my way of thinking that I fake myself, and the result was that I felt dissatisfied with myself, because I actually preferred to do something low effort like scrolling social media, watching youtube, watching anime, etc, I also felt like I was more ignorant to other people and became not too care to doing something that should be important for me in the future such as studying for my college (I'm 20 years old btw), and in the end I returned to the phase of confused about which way of thinking I'm going to choose to live. \n",
      "\n",
      "I also once decided to try to live forever using my way of thinking that I can be more emotional, the result was that I found it difficult to think, difficult to decide something or became less assertive than when I used the way of thinking that I faked myself, I also felt numb and I was less able to express my feelings and thoughts, especially when I'm with someone else, I often just listen to what they're saying without me trying to continue the conversation. And in the end is the same, I returned to the phase of confused about which way of thinking I'm going to choose to live.\n",
      "\n",
      "I'm confused about which way of thinking is right, because if I switch between my two ways of thinking too often, I'll just feel dizzy. So I have to really decide on just one way of thinking that I can use forever in my life. But what always makes it difficult for me to decide is that both of my ways of thinking have their own advantages and disadvantages, so I still feel the need for both of my ways of thinking depending on the situation. But if I didn't decide this soon, I will always hesitate in living my life, will continue to feel confused about my identity, will continue to think about this, and will not be able to move on in my life.\n",
      "\n",
      "I'm sorry if my english is bad. \n"
     ]
    },
    {
     "name": "stdin",
     "output_type": "stream",
     "text": [
      "Enter label (0=neutral, 1=low mood, 2=anxious, 3=stressed):  2\n"
     ]
    },
    {
     "name": "stdout",
     "output_type": "stream",
     "text": [
      "\n",
      "📝 Text:\n",
      " Sometimes, I catch women glancing or looking in my direction, and my brain automatically thinks they are attracted to me. Deep down, I know this is ridiculous, but my brain automatically goes there, and I really want it to stop.\n",
      "\n",
      "  \n",
      "I am not a narcissist. My diagnosis is OCD, and I very much care about my family and other people but my ego is just so warped. I also have a good memory and yesterday, I was fanaticizing about impressing my co-workers with my memory skills. I imagined how they would be amazed how smart and different I was. \n",
      "\n",
      "  \n",
      "Anyway, back to women. I am not a hideous man but I look in the mirror and I cringe at what I see. I am average build, average height (5'10) and my mother, grandmother and my gay friend say I am good-looking. I don't buy a word of it.\n",
      "\n",
      "  \n",
      "My co-worker stopped walking, turned to me and gave me a big smile before walking out the door and I was thinking \"She's into me\". Yet, she is married with kids and 20 years my senior.\n",
      "\n",
      "An even older woman in my grandmothers building told me in the elevator that I had a great smile.\n",
      "\n",
      "Now I think she has a crush on me.\n",
      "\n",
      "  \n",
      "I am a delusional moron, but this is my where my consciousness goes first, and I don't know how to break this mechanism\n",
      "\n",
      "  \n",
      "I've been in therapy for 14 YEARS, and while my latest iteration of a therapist is great, NOBODY can get to the root of my problem OR how I can go about fixing it.\n",
      "\n",
      "  \n",
      "I am also vain and shallow and only like busty petites with beautiful faces and long silky hair, so this doesn't help AT ALL\n"
     ]
    },
    {
     "name": "stdin",
     "output_type": "stream",
     "text": [
      "Enter label (0=neutral, 1=low mood, 2=anxious, 3=stressed):  2\n"
     ]
    },
    {
     "name": "stdout",
     "output_type": "stream",
     "text": [
      "\n",
      "📝 Text:\n",
      " Hello please this is my first time on this app i can’t say too much cz its a lot but im going trough a breakup ( he left me without an explanation meanwhile i’ve done nothing but loving him ) and he ended our relationship with “ I’m sorry bcs i broke my promise of not ever hurting you but i have to let you go and i know you’re hurt but it’s not my job anymore to comfort you “ then he blocked me in everything i get that he have avoidant attachment style but i’ve never see this coming now i’m not okay at all i feel like the world is about the end i can’t do anything I’m studying aboard im away from my family and i dont have here anyone to talk to i ‘m trying to hold my self but i swear it scares me i start to look up on google how to overdose… which is weird cz this is not me this never happens to me i even wrote a letter to my mum in case of something i feel so so so so much pain i cant even distract my self it’s so fucking scary pls h\n"
     ]
    },
    {
     "name": "stdin",
     "output_type": "stream",
     "text": [
      "Enter label (0=neutral, 1=low mood, 2=anxious, 3=stressed):  1\n"
     ]
    },
    {
     "name": "stdout",
     "output_type": "stream",
     "text": [
      "\n",
      "📝 Text:\n",
      " I'm much calmer now than I was maybe a few months back. I can handle my emotions better but two nights ago I had like an \"episode\"?? Not much in particular triggered this except for maybe the person I'm interested in said they found a girl pretty, and it kinda fueled some jealousy then I remembered all my shortcomings which turned into feeling worthless and replaceable and stupid for my thoughts. I felt kinda lonely and empty, yk? All that heebie-jeebies.\n",
      "\n",
      "Anyway, it reminded me of when I was in middle/high school when I used to feel this way for no reason at all and it was quite frequent. I also had anger issues, still think i do and I get moodswings often. I usually switch between anger or feelings of emptiness and being ecstatic.\n",
      "\n",
      "Idk if these are worth noting but I'm also a lazy perfectionist who overthinks a lot. I like things to be perfect but I struggle with procrastination then feel worthless again. I also have very bad homesickness coupled with fear of abandonment/getting replaced. I really do struggle with feeling replaceable and always having to look for validation esp with my friends. And then recently, like a couple months ago maybe 3, I started starving myself unintentionally, lost weight, then said \"fuck it I'm gonna starve myself intentionally\" to lose weight. Now, whenever I feel worthless, I just starve myself and feel kind of relieved that I feel hungry.\n",
      "\n",
      "im open to questions if it'll help me figure out if it's okay to think this isn't normal\n"
     ]
    },
    {
     "name": "stdin",
     "output_type": "stream",
     "text": [
      "Enter label (0=neutral, 1=low mood, 2=anxious, 3=stressed):  1\n"
     ]
    },
    {
     "name": "stdout",
     "output_type": "stream",
     "text": [
      "\n",
      "📝 Text:\n",
      " Back to 2022, I took all my sleeping pills like 150 tablets with vodka ,it seems stupid but I am allergic to alcohol.\n",
      "\n",
      "I shouldn't left my last words on facebook , someone called 911 and they saved me.\n",
      "\n",
      "I shouldn't be saved, these years I tried so hard but all i get is suffer.\n",
      "\n",
      "I work 7 days a week just to make my life better.\n",
      "\n",
      "But when I need someone understand my feeling, they just said I am too negative.\n",
      "\n",
      "They know I have bipolar. Somehow I am too tired to believe theres hope.\n"
     ]
    },
    {
     "name": "stdin",
     "output_type": "stream",
     "text": [
      "Enter label (0=neutral, 1=low mood, 2=anxious, 3=stressed):  1\n"
     ]
    },
    {
     "name": "stdout",
     "output_type": "stream",
     "text": [
      "\n",
      "📝 Text:\n",
      " So I’m struggling with a spread-out mind which makes me unable to carry out tasks that require good concentration. I’m on disability benefits because of this. I’ve had an MRI, but it showed nothing unusual. Why?\n"
     ]
    },
    {
     "name": "stdin",
     "output_type": "stream",
     "text": [
      "Enter label (0=neutral, 1=low mood, 2=anxious, 3=stressed):  3\n"
     ]
    },
    {
     "name": "stdout",
     "output_type": "stream",
     "text": [
      "\n",
      "📝 Text:\n",
      " I know you read the title and probably skeptical but I think I have a mental disorder worse than what I know I have. I currently have ADHD, autism and C-PTSD but I think I also have Pica. Pica is the craving to eat non-nutritional and usually inedible things. Mine might be hyalophagia, AKA, the craving for glass. I already have a history of consuming glass and I’m shocked at my luck if no noticeable effect. \n",
      "I’d like your opinion and advice. \n"
     ]
    },
    {
     "name": "stdin",
     "output_type": "stream",
     "text": [
      "Enter label (0=neutral, 1=low mood, 2=anxious, 3=stressed):  2\n"
     ]
    },
    {
     "name": "stdout",
     "output_type": "stream",
     "text": [
      "\n",
      "📝 Text:\n",
      " I don’t believe I have bipolar.. I don’t experience long periods of highs followed by lows.. my moods change on a day to day basis.. I get upset over small things that most people can probably move past without thinking twice.. I spoke with my doctor about trying a mood stabilizer and that I’ve heard good things about lamictal but he’s hesitant as I don’t meet bipolar criteria.. I just want to feel stabile for once in my life. I’m so tired of feeling angry all the time or having a couple days that I feel great and then right back to feeling all over the place again. At times, I can have a bad day followed by a great day… other times, I feel many different emotions just in one day. From what I’ve researched, I believe I could possibly have borderline personality disorder or cyclothymic disorder.. it’s so frustrating.. I snap over little things or sometimes just feel overwhelmed with no actual reason.. I do currently take lexapro for anxiety/depression  but I knew something more had to be wrong because I still have mood irregularity. I’m also ADHD, without my Vyvanse I am ten times worse.. I get overstimulated which also impacts my moods. Has anyone tried lamictal and had success? \n"
     ]
    },
    {
     "name": "stdin",
     "output_type": "stream",
     "text": [
      "Enter label (0=neutral, 1=low mood, 2=anxious, 3=stressed):  1\n"
     ]
    },
    {
     "name": "stdout",
     "output_type": "stream",
     "text": [
      "\n",
      "📝 Text:\n",
      " Last night, I was really scared because I was seeing unknown entities watching me. I saw one watching me through the window. I even saw Satan himself. The voices kept saying \"They're coming for you\". I was crying under my blanket because I was so scared. I no longer feel safe, whether it's day or night. Especially at night. \n",
      "\n",
      "When should I reach out for help? I don't want to go through another night with those scary entities but I see my case manager tomorrow. \n"
     ]
    },
    {
     "name": "stdin",
     "output_type": "stream",
     "text": [
      "Enter label (0=neutral, 1=low mood, 2=anxious, 3=stressed):  2\n"
     ]
    },
    {
     "name": "stdout",
     "output_type": "stream",
     "text": [
      "\n",
      "📝 Text:\n",
      " Hello please this is my first time on this app im a girl im 19 , i can’t say too much cz its a lot but im going trough a breakup ( he left me without an explanation meanwhile i’ve done nothing but loving him ) and he ended our relationship with “ I’m sorry bcs i broke my promise of not ever hurting you but i have to let you go and i know you’re hurt but it’s not my job anymore to comfort you “ then he blocked me in everything i get that he have avoidant attachment style but i’ve never see this coming now i’m not okay at all i feel like the world is about the end i can’t do anything I’m studying aboard im away from my family and i dont have here anyone to talk to i ‘m trying to hold my self but i swear it scares me i start to look up on google how to overdose… which is weird cz this is not me this never happens to me i even wrote a letter to my mum in case of something i feel so so so so much pain i cant even distract my self it’s so fucking scary pls help me.\n"
     ]
    },
    {
     "name": "stdin",
     "output_type": "stream",
     "text": [
      "Enter label (0=neutral, 1=low mood, 2=anxious, 3=stressed):  1\n"
     ]
    },
    {
     "name": "stdout",
     "output_type": "stream",
     "text": [
      "\n",
      "📝 Text:\n",
      " I am 18 as of a few days ago, and as I've reflected on my thoughts(while running all my thoughts past my gf) and I've been alerted that I'm very not normal. So I know I have adhd(I take vivance), and depression, and I recently learned that I was diagnosed as \"on the spectrum\" as a child.\n",
      " But that's not what I'm here to talk about. So, I've been paranoid since I was a child, and it really hasn't gotten that much better. I've always been convinced that there are cameras in the vents, or out windows, always recording me. I also lose the ability to feel emotions sometimes, usually when I'm in public. She thinks it's dissociation.\n",
      "That's not the weirdest thing about me. So, I'm about to spill a secret I've never told ANYONE, not even my girlfriend, but im honestly kind of convinced that nothing I'm experiencing is real, and that when I sleep, my body in the real world if being surgically pulled apart, starting with my brain. It's bad enough that I don't sleep without my head covered, though my girlfriend has been helping me get over that(she doesn't know why I do it). I know that sounds batshit insane, which is why I've never told anyone, not even my therapist. I've never trusted anyone, the person I've been the most mask off with is my girlfriend, but I never pull it off completely, unless I'm \"dissociated\" around her. I also have these rare moments where I lose grip on reality. Like this one time I was washing the dishes, when the plate I was holding started breathing, it made me angry, and so I screamed at it to stop breathing, and almost broke it, but I caught myself last second. Luckily I was home alone, so no one heard. I don't have visual hallucinations often, and audio hallucinations are only a bit more common. Though, I feel thing all the time, if I sit for long enough, I start to feel things under my skin, and I can \"feel\" peoples some people's \"auras\", it feels like a light cold fluid that clings to your skin, and it's not air, or wind, that stuff is different. I also used to see a shadow person in my childhood house, who would walk the same path everyday, ending in my room. I know my great grandmother was schizophrenic, and I've been wondering If some of that passed down to me. I also police my thoughts a lot because I think they affect the things around me, and I'm scared that if I don't control them, I'll accidentally think about my parents or friends dying. \n",
      "\n",
      "Anyways, all of this is to say, can someone at least tell me what this sounds like? I'm scared to talk to a professional, I don't want to get institutionalized again.\n"
     ]
    },
    {
     "name": "stdin",
     "output_type": "stream",
     "text": [
      "Enter label (0=neutral, 1=low mood, 2=anxious, 3=stressed):  3\n"
     ]
    },
    {
     "name": "stdout",
     "output_type": "stream",
     "text": [
      "\n",
      "📝 Text:\n",
      " I’ve been seeing a psychiatrist since age 11 and I’m 19 now. I’ve been formally diagnosed with anxiety and depression and have been on multiple medications for this over the years. But I’ve always had more symptoms than I’ve actually admitted and it’s because it’s just too hard to say out loud. I’ve struggled with self harm and substance abuse and it all seems to just be getting worse now that I’m living on my own. I stopped taking my meds, I drink way more and do risky and impulsive  things like sleep around unproductive and spend way too much money. I cycle between doing that for a week or two and then crashing into depression and feeling so bad about everything f I just did. Hating myself so intensely I will self harm, starve, isolate, anything I just can’t stand myself. I want to open up to my psychiatrist about this and get help and maybe new medication but I just can’t bring myself to say it out loud. I’m so ashamed \n"
     ]
    },
    {
     "name": "stdin",
     "output_type": "stream",
     "text": [
      "Enter label (0=neutral, 1=low mood, 2=anxious, 3=stressed):  1\n"
     ]
    },
    {
     "name": "stdout",
     "output_type": "stream",
     "text": [
      "\n",
      "📝 Text:\n",
      " I’m 19 and recently developed severe anxiety about my mental health. My mother had bipolar disorder, and I’m scared I might develop it too. I had one sleep issue during stress, and now I keep overthinking about getting serious mental illness in the future. I’ve never had symptoms, but I keep checking and worrying. I want to know if I’m okay for now and evr and how to stop this fear.”\n",
      "\n",
      "\n"
     ]
    },
    {
     "name": "stdin",
     "output_type": "stream",
     "text": [
      "Enter label (0=neutral, 1=low mood, 2=anxious, 3=stressed):  2\n"
     ]
    },
    {
     "name": "stdout",
     "output_type": "stream",
     "text": [
      "\n",
      "📝 Text:\n",
      " Ok, so uhm idk how to kinda get until this so I'll js make a list of stuff I've experienced\n",
      "\n",
      "\n",
      "ever since I could remember I hearing voices:  always heard people talk directly to me in my home even if I was alone It would horrify the shit out of me especially if I was alone, at first it was just hearing my name but then it developed into stuff like \"[insert name] c'mere I need help\" and other variations of people calling for me\n",
      "\n",
      "\n",
      "Actual hallucinations:  so I don't rlly remember most if my life so I can't say I hallucinated then but maybe? \n",
      "\n",
      "anyways I used to (and still see but not as often) would always see shadow figures like ALWAYS at least a few times a day. I was always paranoid someone was watching me. At one point I convinced myself I was a phycic and I was seeing spirits (obviously false) \n",
      "\n",
      "but I've been hallucinating more frequently now and not just shadow figures. \n",
      "\n",
      "ex; yesterday I swear there was a door in my classroom? like I saw it and just stared at it for what felt forever but was probably just 10 sec I saw this weird door/entrance? It was all dark and there was wood around it, almost like a mineshaft but I look away and when I look back it's gone. shortly before this I SWEAR a picture was moving like I was just copying notes from a slideshow and it just started moving like the people just started moving but I've kinda js figures out I need to look away to get rid of it \n",
      "\n",
      "or I've seen eyes staring at me through dark cracks like a door, drawers, dark spaces in room\n",
      "\n",
      "one of my scariest this year was something I can't even describe. It was this thing.. With this e-longated neck peering through my Hall way and its head omg it head. It was like a horse skull without a jaw and skin pulled around it with hallow eyes and it's skin was almaot textured. I hate thinking about it. \n",
      "\n",
      "\n",
      "paranoia/de-realization: like I said I can't remember most of my life because well trauma but I've aways had bad paranoia about not being real and about how everyone would die and lowk thought my mom died multiple times even think she was js in the room next to me and was always SO paranoid that people were watching me, even to this day I constantly feel like people are watching me when I'm alone. I know it just my mind being weird but I'm always paranoid that people are watching me through windows, camera's, or just in general. No matter what I do, cover cameras or put up curtains I still feel like people are watching me secretly\n",
      "\n",
      "I don't know if that matters? I just heard that bad paranoia could be a symptom\n",
      "\n",
      "also both sides of my family have schizophrenia and various other mental illnessses\n",
      "\n",
      "and if it matters here are my diagnosis s from my phyc\n",
      "Depression\n",
      "Anxiety (general and social) \n",
      "ADHD\n",
      "And my mental hospital suspected I had PTSD but I left before they could test\n",
      "\n",
      "anyways sorry for the rant it's just when I brought up my concerns to my psychologist he just kinda said \"trust me I would know if your schizophrenic\" and my mental hospital didn't like that they ignored it \n",
      "anyways sorry for the rant! also on mobile so maybe spelling mistakes? \n"
     ]
    },
    {
     "name": "stdin",
     "output_type": "stream",
     "text": [
      "Enter label (0=neutral, 1=low mood, 2=anxious, 3=stressed):  3\n"
     ]
    },
    {
     "name": "stdout",
     "output_type": "stream",
     "text": [
      "\n",
      "📝 Text:\n",
      " Struggling with anxiety and depressions is such a drain. I was okay most of the day, but then my state of mind just plummeted, I feel so empty. Now I just feel like a zombie walking around \n"
     ]
    },
    {
     "name": "stdin",
     "output_type": "stream",
     "text": [
      "Enter label (0=neutral, 1=low mood, 2=anxious, 3=stressed):  1\n"
     ]
    },
    {
     "name": "stdout",
     "output_type": "stream",
     "text": [
      "\n",
      "📝 Text:\n",
      " basically ive struggled with self harm from 13-22. i remember when my mom found out by reading my diary she got so angry. she told me it was “mental illness” and that ppl will call the police on me wtc etc. she mocked me for wanting some help. she told me she already got me therapy and didnt need more (it was aba and im severely traumatized from it) and basically my depression plummeted. she finally caved when she got fed up with my cutting when i was 20, mid 2022. Im just sour i guess. i know i should move on but i have that wound from childhood that doesnt let me feel valid. my feelings never were valudated. you never forget ur dad dragging u throughout your house bc u cut ur ankles. you never forget your mom promising therapy but then right after gaslighting you saying she wasnt going to get it bc you just “do it for attention”. you never forget your mom jufdging you so much. refusing to get you help DIDNT EVEN LET ME GET HELP FROM MY COUNSELOR. i was severely depressed and it ended up causing me to develop borderline personality disorder. i hear anything related to childhood therapy, (hello reddit doomscrolling) Anything related to mental illness in childhood anything i try to do to make myself better in therapy i just get so bitter. do you know how fucking miserable i was? i didnt get to enjoy my youth and now in 2 days im gonna be 23. i have a wheeze due to my smoking addiction and weed reliance i got bc i wasnt able to get on antidepressants sooner. i quit but i live in fear that the damage is already done and i’ll never have healthy lungs again. i have this big chunk of my life thats just a hole, i have a hole before i was even born because i was in a closed adoption and nobody wants to tell me where i come from. i just feel miserable. i want to know im not alone.  i want to feel loved. i have a bad attention seeking problem bc it compensates for my lack of genuine attention and affection in my teen years. i just wanted to be loved. i just want to be loved. but im just numb. all ik is obsession bc of bpd and thats not love. my suicidal thoughts are very bad. im very alone and dont see the point of living\n"
     ]
    },
    {
     "name": "stdin",
     "output_type": "stream",
     "text": [
      "Enter label (0=neutral, 1=low mood, 2=anxious, 3=stressed):  1\n"
     ]
    },
    {
     "name": "stdout",
     "output_type": "stream",
     "text": [
      "\n",
      "📝 Text:\n",
      " Hi, this is gonna be long but i’ll try keep it as short as possible, im a 19 year old student and have been seeing the early intervention into psychosis team for a month now. i started getting lonely and down in november but felt better during december. however in january/febuary my mental health dipped significantly. i didn’t leave my room or speak to anyone unless i had to which i then put on an act. i started hearing someone outside my window and following me. i shortly after that accused my flatmate of trying to poison me which i still do believe. this had an effect on the hole flat. for a while i was dealing with it the best i could until march when i took an overdose. my flatmate heard me on the phone to 111 through the wall about how i felt and when she realised i had taken an overdose she took me to A&E. after that my flatmates contacted my family who were heartbroken however i don’t have a good relationship with my family which is why i came back to our flat on boxing day as i didn’t want to be home so went the whole of january with any real human contact as my flatmates weren’t there till febuary. since i started seeing the early intervention team i’ve tried different ways to commite suicide but not of them have worked so i’ve just kept quite about them. i don’t trust the early intervention team so im not honest with them. however recent i did ask them about inpatient care. i understand in the UK that is rare to receive but i only asked because i had come close to killing one of my friends with a knife. they just told me that because i was honest about it they wont hospitalise me. i told them i dont feel like i can keep myself or others safe. they still kept with their answer. i’ve recently been stockpiling the pills they give me as i feel like the pills aren’t trustable. this “psychosis” (which btw they are trying to say is autism) is just me seeing the real word and they are trying to suppress me. i think that after everything i do need hospitalisation but they won’t hospitalise me and i know eventually soon i am going to hurt someone or myself and do permanent damage. what do i do here?\n"
     ]
    },
    {
     "name": "stdin",
     "output_type": "stream",
     "text": [
      "Enter label (0=neutral, 1=low mood, 2=anxious, 3=stressed):  1\n"
     ]
    },
    {
     "name": "stdout",
     "output_type": "stream",
     "text": [
      "\n",
      "📝 Text:\n",
      " I’m incapable of understanding why so many people will villainize and treat people like monsters if they’re a sociopath, psychopath, or a dark empath. \n",
      "\n",
      "It doesn’t make any sense really.. why do people ask how others can stand being friends with me because of what I am lol? It’s not as if we’re literal monsters we just see everything and feel everything differently.\n"
     ]
    },
    {
     "name": "stdin",
     "output_type": "stream",
     "text": [
      "Enter label (0=neutral, 1=low mood, 2=anxious, 3=stressed):  3\n"
     ]
    },
    {
     "name": "stdout",
     "output_type": "stream",
     "text": [
      "\n",
      "📝 Text:\n",
      " As a Kid life was already difficult, diagnosed with Autism & ADHS, I struggled to ever be \"Normal\", speaking and writing didn't came natural, my struggles with It where Immense but eventually was able to become better at It. Now becoming older It felt like I was just collecting \"Mental Disorders\", some diagnosed, some just feel like they describe my situation.\n",
      "At the Age of 10. the Derealization started because of the PTSD I was going through In my Life, that just became more and more over the Years.. The derealization never stopped, It's still there, this constant feeling of watching my life happening instead of experiencing It happening.\n",
      "It would be amazing to say It's where It all stopped but over the course of my puperty I feel Into Depression, struggled with Suicidal Inclinations, Immense Mood swings.. Now becoming Older at the Age 14-15. everything started to accumulate, Narcissistic tendencies, I started to realize that most people are \"dumb\", you could easily manipulate them, let them do your willing but what I loved more? The chaos, letting the people attack each other without them realizing that I am the reason they even yell at each other.\n",
      "This just increased.. Now it's more about Manipulation, Cheating, Stealing. I want to control the Girls I'm with.. Anybody watched the Netflix Series \"You\", the protagonist Joe feel In love with one girl, eventually grew tired of her and started to fall In love with another.. Yeah that's my experience, currently dating three Woman at once and they don't really know of each other.. Okay, one realized I cheated but I persuaded her till she accepted It and our relationship continued. It's Strange, I don't even feel like any particular person, I'm water, just adapting to whatever person I'm with, there's no real Me, just this emotionless cold facade. \n",
      "I just came out of the Clinic after 8-9. Months, they couldn't pinpoint what I've, they have Conjectures but It could be anything, they named like 12-15. different things that could be the case over the course of my Stay.\n",
      "\n",
      "Now I don't expect Reddit to solve all my problems but I'm now trying to bring everything of myself on the paper.. What can I do?\n"
     ]
    },
    {
     "name": "stdin",
     "output_type": "stream",
     "text": [
      "Enter label (0=neutral, 1=low mood, 2=anxious, 3=stressed):  3\n"
     ]
    },
    {
     "name": "stdout",
     "output_type": "stream",
     "text": [
      "\n",
      "📝 Text:\n",
      " Anybody here with paranoid schizophrenia that also does not wants to work anymore? I am a paranoid schizophrenic and I do not want to work. \n"
     ]
    },
    {
     "name": "stdin",
     "output_type": "stream",
     "text": [
      "Enter label (0=neutral, 1=low mood, 2=anxious, 3=stressed):  2\n"
     ]
    },
    {
     "name": "stdout",
     "output_type": "stream",
     "text": [
      "\n",
      "📝 Text:\n",
      " Hi my wife got arrested and now in jail about child endangerment( She got mental illness)...my baby is doing okay now.. cps involed.. do you know how long she will be in there? im trying to get a custody for my son... there were really bad a few days ago\n"
     ]
    },
    {
     "name": "stdin",
     "output_type": "stream",
     "text": [
      "Enter label (0=neutral, 1=low mood, 2=anxious, 3=stressed):  3\n"
     ]
    },
    {
     "name": "stdout",
     "output_type": "stream",
     "text": [
      "\n",
      "📝 Text:\n",
      " Hi everyone, i have been on losing weight and workout to lose 30lbs so i can start the process in millitary …My wife is really happy about it and im about to go to meps next week... Bad things happened, she has schizophernia and is in jail right now with child endangerment and my son is at forster care.... only me right now...what should i do??.. still do what is the plan is or...?? Im really tired now .. need advice thank you\n"
     ]
    },
    {
     "name": "stdin",
     "output_type": "stream",
     "text": [
      "Enter label (0=neutral, 1=low mood, 2=anxious, 3=stressed):  3\n"
     ]
    },
    {
     "name": "stdout",
     "output_type": "stream",
     "text": [
      "\n",
      "📝 Text:\n",
      " I haven't had the most stable life. Normally something crazy happens to me or I get myself into crazy situations. I have been sober for almost 7 months and have been out of a crazy situation with an ex bf for a month. Not doing anything risky or anything. Like a whole month without a thrill of something crazy. It's like I need constant adrenaline and I'm looking for healthy outlets for that. But I miss the drama and the thrill of something actually fucked up happening in my life. But my life is stable rn and I'm kinda bored and empty and a little depressed. I'm trying to unlearn masochistic behaviors. I'm currently celibate and focusing on my higher power. But it's not enough. Shouldn't I be happy that nothing fucked up is happening? Shouldn't I be proud that I haven't been in any fucked up situations? What have yall done to make your life fun without it being fucked up? My parents emotionally abused me and haven't lived with them in almost a year and yet I should be happy with my life being calm but I'm not. \n"
     ]
    },
    {
     "name": "stdin",
     "output_type": "stream",
     "text": [
      "Enter label (0=neutral, 1=low mood, 2=anxious, 3=stressed):  1\n"
     ]
    },
    {
     "name": "stdout",
     "output_type": "stream",
     "text": [
      "\n",
      "📝 Text:\n",
      " i used to be really fat like 95-98kg with 163cm with like 12-13  and now i am almost 16 180cm and now weigh 79kg which is good and healthy for myself and honestly i like where i am rn but i really struggle eating wizhout feeling distressed even fruits i cant eat without feeling bad abt myself and now it sounds stupid. but after all this time of cutting kcal do loose weighz i forgot how to hold it so like i skip whole meals i need help its not healthy what im doing rn\n"
     ]
    },
    {
     "name": "stdin",
     "output_type": "stream",
     "text": [
      "Enter label (0=neutral, 1=low mood, 2=anxious, 3=stressed):  3\n"
     ]
    },
    {
     "name": "stdout",
     "output_type": "stream",
     "text": [
      "\n",
      "📝 Text:\n",
      " Okay so I recently found out I LOVE being called \"puppy,\" or \"pup\" and idk why, it just makes me happy 😭 I js came here wondering if someone knows why tf I like it so much, like if it means smth or i just like the name lmao \n"
     ]
    },
    {
     "name": "stdin",
     "output_type": "stream",
     "text": [
      "Enter label (0=neutral, 1=low mood, 2=anxious, 3=stressed):  0\n"
     ]
    },
    {
     "name": "stdout",
     "output_type": "stream",
     "text": [
      "\n",
      "📝 Text:\n",
      " Don't want to work\n",
      "\n",
      "I am a 23 year old alcoholic with paranoid schizophrenia. I cannot understand why so many persons with schizophrenia want to work. I am on disability since 2021 and since then I drink a bottle of Vodka per day. \n",
      "\n",
      "I always see my former companions from high school driving nice cars and being able to afford a good life. Then I come back to me and I see myself living in my mom's basement playing video games all night and watching porn. \n",
      "\n",
      "After getting diagnosed with schizophrenia I tried to find a job but got rejected by 140 companies after which I resigned mentally and applied for disability. Then I had to go to a neuropsychological evaluation and failed the test miserably after that the authorities lost all hope in me ever recovering from my schizophrenia. \n",
      "\n",
      "Now I admit that I do not want to work anymore. For the rest of my live my goal is to live of the government and getting drunk with booze. \n"
     ]
    },
    {
     "name": "stdin",
     "output_type": "stream",
     "text": [
      "Enter label (0=neutral, 1=low mood, 2=anxious, 3=stressed):  0\n"
     ]
    },
    {
     "name": "stdout",
     "output_type": "stream",
     "text": [
      "\n",
      "📝 Text:\n",
      " I’m having my medications reevaluated, so I’m doing a med wash. I currently take up to eight meds a day, and have been on this regimen for years now. Despite the handful of pills, my depression, anxiety, OCD, etc does not seem to be better as I’m still crippled by my mental health struggles. \n",
      "\n",
      "Has anyone else had a wash? What was the outcome? Were you able to get meds that work?\n"
     ]
    },
    {
     "name": "stdin",
     "output_type": "stream",
     "text": [
      "Enter label (0=neutral, 1=low mood, 2=anxious, 3=stressed):  3\n"
     ]
    },
    {
     "name": "stdout",
     "output_type": "stream",
     "text": [
      "\n",
      "📝 Text:\n",
      " Ever since I was 12 I’ve known there was something wrong with me. Not just your average lonely kid, sitting alone, AirPods in and drawing in a notebook adorned with stickers. I don’t think i’ve ever felt guilty about anything. I give myself piercings even though it wrecks my mom’s mental health, but I don’t know what feeling bad about that would feel like. I just, don’t care enough about other people. When i beat my classmates up, I never felt guilty or regret from that. I stole, put everything that wasn’t nailed down into my pockets or my backpack. I managed to get my friends caught, and yet i don’t feel bad. I repeat so many mistakes and I can’t stop because I have no urge to stop or think about how others would feel. I would steal from my grandparents and lie to their face. I would run over animals and not give a shit. I don’t think that’s normal. Maybe I’m narcissistic, maybe i have some form of autism, I don’t know. But all I know is that I can’t empathize with anyone or anything. I know all of this is pretty tame, but I think it’s going to get messy when I finally learn how to Un alive people. And I know there’s going to be someone in the comments saying “this is pretty normal“ No its not. I. Don’t. Understand. What. It. Feels. Like. To. Regret. And that’s a problem.\n"
     ]
    },
    {
     "name": "stdin",
     "output_type": "stream",
     "text": [
      "Enter label (0=neutral, 1=low mood, 2=anxious, 3=stressed):  2\n"
     ]
    },
    {
     "name": "stdout",
     "output_type": "stream",
     "text": [
      "\n",
      "📝 Text:\n",
      " I'm only 14 and live in an aisan household that doesn't believe in mental health, but I feel like I might be in the prodomal phase of schizophrenia. Could anyone help me out here 😭😭\n",
      "\n",
      "Some potential signs that I exhibit ig?\n",
      "- I often talk to myself and the presences that live in my head. (Since I was 4 so idk if this counts 🤷\n",
      "- the presences also exist outside of my head\n",
      "- I'm able to tell most things apart from real-life and fake, but sometimes I can't tell with some potential auditory hallucinations.\n",
      "- I used to be an A grade student (always above 90s) but now I find it hars to study even a little bit. Sometimes, I don't hand in tests because I didn't study and all of the answers are blank.\n",
      "- I see brilliant flashes of light and dark shadows that flashes past my vision that nobody else sees.\n",
      "- the voice in my head is so loud that I could almost hear it.\n",
      "- I believe I can predict things in the future, and I'm always right.\n",
      "- It's hard to take care of myself (hygiene and all)\n",
      "- I've been hiding in the bathroom lately to avoid social interactions. I'm an introvert, but I never used to do this. I also wear headphones all the time to block out other people (hiding rn and I'm scared)\n",
      "- my relationships are falling apart\n",
      "- I often forget what I'm about to say, like a little too often (I just forgot what I was gonna say, so I put this here 💀)\n",
      "- I find my attention span to be very short to the point that I can't watch a video without putting it on 2× speed\n",
      "- I do these challenges where I'd set a goal and a certain amount of time I had to complete it in, otherwise I'd die. Eg. \"I have to get to that bus in 30 seconds.\" \n",
      "- I often pretend like life isn't real and that I'm in a FPS game\n",
      "- I've lost interest in everything I used to like. I've given up on video games, art, reading, even YouTube.\n",
      "- I hyperfixate and the characters I like live in my head and I talk to them (I lose interest SO FAST but then I'd bring them back for no reason)\n",
      "- My thoughts are SO messy 😓\n",
      "- I'm attracted to really weird people that nobody else find attractive 😦???\n",
      "\n",
      "\n",
      "That's all (trolly forgot like 30% of my other stuff or just do if it's normal or not), if anyone can, please tell me if I do or don't have schizophrenia 😭😭 I've been obsessing over it lately and I'm going INSANEEEE. An explanation or even knowing if I have it would comfort me so much. \n",
      "\n",
      "EDIT: ifg to mention that I often stay up to 4 on school days and wake up at 7 and sleep at 10 on weekends and get up at 2 pm (I bedrot cuz I usually wake up at 6 those days and it's really hard to get out of bed for me)\n"
     ]
    },
    {
     "name": "stdin",
     "output_type": "stream",
     "text": [
      "Enter label (0=neutral, 1=low mood, 2=anxious, 3=stressed):  3\n"
     ]
    },
    {
     "name": "stdout",
     "output_type": "stream",
     "text": [
      "\n",
      "📝 Text:\n",
      " i don't really know how to ask this but how do you sleep comfortably? especially people with metal illness.   \n",
      "i´m 15 F and i experience psychosis regularly and if i don't keep the lights on in my room i keep looking around because im scared something will be watching me. i do have some things i do, like wear my favorite perfume, or have a plushie close but now that im not allowed to keep the lights on anymore they almost don't calm me down anymore. i can't close my eyes, i can't lay still, it's miserable.  \n",
      "so i was just really wondering how other people slept comfortably to see if your methods could help me:)\n"
     ]
    },
    {
     "name": "stdin",
     "output_type": "stream",
     "text": [
      "Enter label (0=neutral, 1=low mood, 2=anxious, 3=stressed):  2\n"
     ]
    },
    {
     "name": "stdout",
     "output_type": "stream",
     "text": [
      "\n",
      "📝 Text:\n",
      " What would you do if you were sexually abused by the closet people since the age of 9?\n"
     ]
    },
    {
     "name": "stdin",
     "output_type": "stream",
     "text": [
      "Enter label (0=neutral, 1=low mood, 2=anxious, 3=stressed):  \n"
     ]
    },
    {
     "name": "stdout",
     "output_type": "stream",
     "text": [
      "❌ Invalid input. Please enter an integer.\n"
     ]
    },
    {
     "name": "stdin",
     "output_type": "stream",
     "text": [
      "Enter label (0=neutral, 1=low mood, 2=anxious, 3=stressed):  3\n"
     ]
    },
    {
     "name": "stdout",
     "output_type": "stream",
     "text": [
      "\n",
      "📝 Text:\n",
      " \n",
      "I’ve been trying to understand myself better, and I really need help figuring out what’s going on with me. I know I’ve been diagnosed with ADHD, anxiety, and PTSD, but I think there might be more to it.\n",
      "\n",
      "I experience extreme emotional outbursts that feel out of my control—screaming, crying, breaking things, saying really hurtful things, then feeling intense guilt and sometimes going completely numb or suddenly becoming cheerful again. My emotions flip fast, and it’s exhausting.\n",
      "\n",
      "I also struggle with dissociation. When I’m around people, I often feel like I’m “watching myself” from inside my mind, detached from my body and actions. I feel fake, like I’m performing instead of living. I go into long periods of neglect—barely showering or cleaning—and then I “snap” out of it randomly.\n",
      "\n",
      "I often isolate and spiral mentally. Loud noises or someone not believing me can trigger overwhelming fear or anger. Sometimes I feel like people are watching me or plotting against me, even if I logically know it’s probably not true. These paranoid episodes feel real in the moment.\n",
      "\n",
      "I used to take Zoloft (25mg) but stopped because it seemed to block my high from 🪴🪏, and I wasn’t sure if it was helping. I still smoke (mostly sativa) to manage stress, but I’m trying to cut down. I need better tools for coping.\n",
      "\n",
      "I just want to know what’s really going on with me. I feel broken, and I’m scared of the way I act sometimes. Please help me understand if this could be something like BPD, a mood disorder, or something else. I want to get better, and I don’t want to feel like this anymore.\n"
     ]
    },
    {
     "name": "stdin",
     "output_type": "stream",
     "text": [
      "Enter label (0=neutral, 1=low mood, 2=anxious, 3=stressed):  3\n"
     ]
    },
    {
     "name": "stdout",
     "output_type": "stream",
     "text": [
      "\n",
      "📝 Text:\n",
      " Seriously. I cannot fathom the fact that for most people, stability is their normal. They don't get horrifically depressed. They don't seriously consider suicide. For me, that's just  my normal. I have bipolar 2, autism and PTSD. This constant emotional chaos and numbness and complete lack of functioning is just my normal. But most people are just living... stable lives. It makes me jealous. They have it so easy in my eyes. \n"
     ]
    },
    {
     "name": "stdin",
     "output_type": "stream",
     "text": [
      "Enter label (0=neutral, 1=low mood, 2=anxious, 3=stressed):  1\n"
     ]
    },
    {
     "name": "stdout",
     "output_type": "stream",
     "text": [
      "\n",
      "📝 Text:\n",
      " So I'm 24f seeing this guy, and he seems to be really sweet and caring, saying things like \"I'm sorry, I feel sorry for xxxy\" and it's giving me an ick....is this a bpd or trauma thing? Like the idea of someone being nice and caring to me makes me want to throw up. Like you're a man???? Why are you saying all of this? \n"
     ]
    },
    {
     "name": "stdin",
     "output_type": "stream",
     "text": [
      "Enter label (0=neutral, 1=low mood, 2=anxious, 3=stressed):  2\n"
     ]
    },
    {
     "name": "stdout",
     "output_type": "stream",
     "text": [
      "\n",
      "📝 Text:\n",
      " My partner is out of town for work. Nothing out of the usual but this time it's for an undetermined long period of time.\n",
      "\n",
      "I live in a sketchy area with cats and I get really bored and anxious.\n",
      "\n",
      "What do you guys do to help distract yourselves from falling into a pit of despair and anxiousness?\n",
      "\n",
      "I have my comfort shows but that can only take you so far. I find no real desire to make extravagant meals like I normally do with friends and my partner, so that's off the table\n"
     ]
    },
    {
     "name": "stdin",
     "output_type": "stream",
     "text": [
      "Enter label (0=neutral, 1=low mood, 2=anxious, 3=stressed):  3\n"
     ]
    },
    {
     "name": "stdout",
     "output_type": "stream",
     "text": [
      "\n",
      "📝 Text:\n",
      " I use to take lexapro, wellbutrin, and klonopin for ADHD, depression, and anxiety.\n",
      "\n",
      "I took it for almost a year before stopping. \n",
      "\n",
      "My brain is a mess. My memory is so bad, my thoughts are a mess. I have to write down everything. Even plan out what I want to say and read it over several times to make sure I make sense. Especially at work. I don't communicate at work as well and I keep making mistakes. My brain would short circuit in the middle of conversations. I wouldn't remember things and it has been hard for me to keep going.\n",
      "\n",
      "I use to not be like this before I even started the medication. It makes me feel depressed that I am such a mess. Everything that I use to like about myself is gone. My memory use to be really good and my communication skills is what gets me hired. Now I just look like a fool at work.\n"
     ]
    },
    {
     "name": "stdin",
     "output_type": "stream",
     "text": [
      "Enter label (0=neutral, 1=low mood, 2=anxious, 3=stressed):  1\n"
     ]
    },
    {
     "name": "stdout",
     "output_type": "stream",
     "text": [
      "\n",
      "📝 Text:\n",
      " 1. i failed a class in my last semester of uni. i am so upset and angry, mostly bc i don’t think it’s fully my fault, but also because it already took me six years to get here and i fucked up at the last minute. basically, the syllabus stated an incorrect date and i used that as my reference, so i received a 0 on the final and, as a result, failed the class. \n",
      "\n",
      "objectively it is my fault, since the change was communicated and i didn’t correct my calendar, but i still feel slighted that i can’t even do any kind of partial credit. i’m working to get a deferral, but i’m still so scared. i have a job at a great accounting firm that starts in september, which i am beyond lucky to have and am incredibly grateful for, but now it feels like everything is going to fall apart. i have no confidence in myself going into this job and am so anxious that i’ll hate it and my life. \n",
      "\n",
      "2. moving back in with your parents is never easy. i was so happy in my uni city and then i had to leave it all and i miss my friends so so so dearly. it’s so hard being without community again. \n",
      "\n",
      "3. having a weird flare up of my skin disease (HS) that makes any kind of movement feel unbearable. i want to unpack and make my room here cute and cozy but the discomfort is too much. \n",
      "\n",
      "4. i just feel ugly. no other reason. just gross and unhealthy after a grueling finals \n",
      "\n",
      "edit: AND I CANT FIND A FUCKING JOB HERE FOR THE SUMMER \n"
     ]
    },
    {
     "name": "stdin",
     "output_type": "stream",
     "text": [
      "Enter label (0=neutral, 1=low mood, 2=anxious, 3=stressed):  3\n"
     ]
    },
    {
     "name": "stdout",
     "output_type": "stream",
     "text": [
      "\n",
      "📝 Text:\n",
      " A little bit of background: I came from a bad situation- mental, physical, and sexual abuse. I began seeing psychiatry young. I was diagnosed with Major Depressive Disorder, OCD, Panic Disorder, PTSD, and BPD came up frequently but was never diagnosed. \n",
      "\n",
      "\n",
      "TLDR: Long abuse history, BPD-like tendencies in teen years, abusive relationships into adulthood, and development of reactive abuse. Years later, I have changed my life. Now worried that I’m going to destroy my current, incredibly healthy relationship, just like I’ve always done with the not so healthy ones. \n",
      "\n",
      "TW: suicidal thoughts and ideation and unfiltered mental health discussion \n",
      "\n",
      "\n",
      "\n",
      "I have come a long way. I was once so depressed, I assumed I was bound for suicide. I never had any desire to live. I never thought, nor even dreamed, it would get better. As I got older, I started dating and I ended up in many abusive situations, which was fitting for my upbringing. I was a victim for many years, until having so many abusive partners made me spiral- I dealt with codependency, reactive abuse, and learned to make partners addicted to me. I loved picking fights and holding power. So many situations were mutually physical and the power dynamics drove me to harming myself, running away, etc. I think I began getting a high from huge reactions and having control. Ever since I was a young child, I loved hurting people’s feelings. I began to crave the feeling of doing so whenever possible, the more damaging, the more I enjoyed doing it. \n",
      "\n",
      "Well… \n",
      "After years of therapy, and a change of environment and people, I have beat all the odds and changed my life. Good career, good education, great friendships, and a healthy relationship. I have 4 incredible pets, a beautiful apartment, and a person to spend my life with. I’ve been doing amazing for probably 5 years. I met my current partner three years ago: the most wonderful human being. He is objectively amazing: respectful, kind, intelligent, and caring. I waited a year to be with him, I wanted to make sure I was healed before we started dating. \n",
      "\n",
      "I’ve had moments with him where I’ve become a little bit emotional or reactive. I start to be a little mean or condescending, until I break down crying because I hate myself for it. He has never let it escalate. He simply holds me and asks why I’m acting the way I am, and how he can make it better. I have also had occasional moments with friends, feeling the need to impulsively start a fight, but ultimately I don’t see them enough to where that feeling lasts. \n",
      "\n",
      "I am now scared shitless because I feel my “urges” again. They were *never* felt, I lived in constant fear that they would come back, and they never did, until now. Unexpectedly, I feel resentment towards everyone and everything, especially him. I feel like crying all the time, I feel like picking fights all the time, and I feel compelled to make compulsive decisions (ex. running away in the middle of the night).\n",
      "\n",
      "Of course, these urges are targeting the relationship. I have begun testing his boundaries constantly, trying to see what I can get away with. I am picking fights wherever possible and feeling little highs from seeing him get sad or upset. \n",
      "\n",
      "He is so nice that it’s easier than it has ever been with my abusive family or my past partners. Here’s the problem: I know what I’m doing and I can’t stop myself. I don’t know WHY. Even when I’m not aware of it, I’m “pouty”, annoyed, and easily aggravated. When I am aware, I feed into it. \n",
      "\n",
      "Sometimes I feel like I age regress and have tantrums, sometimes I feel like I become the most masterful manipulator and create situations no one can get themselves out of. I feel so driven to be hurtful, even when I try to stop, the urges only get stronger. \n",
      "\n",
      "I keep thinking “We just need a good fight. I need it to escalate, tears shed, fear felt in both of us, and then I’ll be fine!” but I will not enable that. As much as a fight would calm this feeling, it’s not healthy. No one needs to fight. We have absolutely nothing to fight about. \n",
      "\n",
      "I told him not to accept my behavior, and that I have no excuse for mistreating him in any way. I explained to him that he needs not be sympathetic, or try to rationalize this sudden change in behavior. \n",
      "\n",
      "*I am going to have to break up with him*\n",
      "I cannot expect that he’ll know how to deal with this, or set boundaries to protect himself. I will never let myself hurt him. \n",
      "\n",
      "Now I’m looking at my new outlook- moving to a different place, losing my best friend in the world, and accepting potential solitude. \n",
      "\n",
      "The biggest problem: I’m still in therapy, I never left. I still see a psychiatrist despite being off of Zoloft for 6 years. I started at 12 and now at 30, I have stayed. I can’t pinpoint anything in my therapy journey that has specifically helped this issue, beyond mostly my own personal changes. If I can’t fix this while actively pursuing mental health treatment, I don’t know what my options are besides what I mentioned above.  \n",
      "\n",
      "\n",
      "\n",
      "\n",
      "\n",
      "\n"
     ]
    },
    {
     "name": "stdin",
     "output_type": "stream",
     "text": [
      "Enter label (0=neutral, 1=low mood, 2=anxious, 3=stressed):  3\n"
     ]
    },
    {
     "name": "stdout",
     "output_type": "stream",
     "text": [
      "\n",
      "📝 Text:\n",
      " Did anyone had a similar OCD like i did were, when you encountered your OCD for the first time, you would just to \"straight on\" normal compulsions, without ever specifiying specific rules for your compulsions.. since you know your OCD content, you would just \"straight up\" do the compulsion without specifying rules for your compulsions.. but after that, you would literally \"create\" a system for your compulsion, where you would, for example, say (before doing the compulsion) \"i will be doing a systematic and rule-based compulsion where i will declare new rules\" and then you would say innerly, \"i am declaring a new rule: (the content of the rule) and so would declare and initiate a bunch of new rules for your compulsion and afterwards starting to do the compulsion.. but you would say all this in a specific position but of course innerly and not by saying it loud.. i know that almost all OCD patients declare some rules before doing the compulsion, but what i try to mention here is that the compulsions that i did here was much more systematic and literally rule based and after doing the compulsion, it gave a much more meaning and importance for me then the first \"normal\" compulsion that i did at the start.. it would give a feeling for me that, if i would somehow violate the rules in my systematic compulsion (where i declared and intitiated bunch of rules etc.) or if there were rules that I had forgotten to declare and initate after i did the systematic compulsion, and i would no longer declare it into my system and would no longer do the compulsion, thus, it would give me a feeling that maybe the \"system\" that i had \"created\" could maybe declare its own rules or the system could maybe act on its own and do whatever it wants to do, because of that, i would feel much more responsible, guilty and would really feel that i violated the system and the rules, like if i were really violating a real rule out in the real world and thus would get punished because violating the system..  did anyone else outthere also had a similar OCD like i had, with the systematic compulsion etc. and felt like i did?.. if so, i would love to hear your story about it.\n"
     ]
    },
    {
     "name": "stdin",
     "output_type": "stream",
     "text": [
      "Enter label (0=neutral, 1=low mood, 2=anxious, 3=stressed):  2\n"
     ]
    },
    {
     "name": "stdout",
     "output_type": "stream",
     "text": [
      "\n",
      "📝 Text:\n",
      " Hi,  \n",
      "I’ve been hospitalized in psychiatry myself. That experience left me with images, sensations, and sentences that stayed. Today, as part of my **graduation project in art direction in France**, I’m working on a short film inspired by that time.\n",
      "\n",
      "But I don’t want to tell only my own story.  \n",
      "I’m looking to hear from others — to gather fragments born from your own experience.\n",
      "\n",
      "*Was there an image, a scene, a character, a sentence, or a strange idea that came to you during that time — something you’d like to see transformed into a film?*\n",
      "\n",
      "It doesn’t have to be about the hospital itself.  \n",
      "It could be **anything**: a cowboy on a horse, a flooded city, a chair in an empty room, a phrase on repeat, a dream, or a distorted memory.  \n",
      "Something that stayed with you, even if it doesn’t “make sense.”\n",
      "\n",
      "This is **not a documentary**. I want to **transform these stories into poetic, visual, fictional pieces** — fragments of cinema shaped by what you give me.\n",
      "\n",
      "You’re free to tell me your diagnosis — or not.  \n",
      "You can also send **drawings, photos, sketches, or objects**, anything that helps bring your idea across.\n",
      "\n",
      "Please write to me **by private message only**.  \n",
      "Nothing will be used without your permission, and I will treat every message with care and respect.\n",
      "\n",
      "Thank you in advance for your trust. 🖤\n"
     ]
    },
    {
     "name": "stdin",
     "output_type": "stream",
     "text": [
      "Enter label (0=neutral, 1=low mood, 2=anxious, 3=stressed):  0\n"
     ]
    },
    {
     "name": "stdout",
     "output_type": "stream",
     "text": [
      "\n",
      "📝 Text:\n",
      " Did anyone experience a kind of OCD, were you would do specific compulsions not for yourself, but for your \"family\" or your \"loved ones\" in order to prevent them from going to hell and not you?.. and if you would do the compulsion wrong, in a sense that \"it doesnt feel right\", you would feel very responsible and get into anxiety because of that.. something like Responsibility OCD.. if anyone outthere who has experienced a similar situation, i would love to hear you story about it. (This kind of OCD is actually not about scrupulosity or something else and it is not about \"islamic hell\" or \"Christianity hell\" or about other religions.. just in general terms \"about goint to hell\")\n",
      "\n",
      "\n"
     ]
    },
    {
     "name": "stdin",
     "output_type": "stream",
     "text": [
      "Enter label (0=neutral, 1=low mood, 2=anxious, 3=stressed):  3\n"
     ]
    },
    {
     "name": "stdout",
     "output_type": "stream",
     "text": [
      "\n",
      "📝 Text:\n",
      " Small disclaimer: I’m really just looking for info that may pertain to this, similar experiences, etc. I have not received help from a professional and I fully understand nobody in this sub can give me a diagnosis and whatnot and I understand there’s a lot of context needed for something like that. & this is posted in other subs as idk where to ask about something like this. \n",
      "\n",
      "To the point: I tend to have days where my mind races and I can’t filter them at all. I call them “angry days” because I tend to go from somewhat energetic/productive/positive to angry and impatient. But recently, I’ve noticed my pupils are bigger when I’m actively experiencing this. \n",
      "\n",
      "No medications or anything but I do use nicotine and THC products regularly. Is this just like a normal physical response to emotional changes or could this potentially indicate some sort of mania or something? My mom was bipolar among others so there is a history of mental illness within my family. \n",
      "\n"
     ]
    },
    {
     "name": "stdin",
     "output_type": "stream",
     "text": [
      "Enter label (0=neutral, 1=low mood, 2=anxious, 3=stressed):  3\n"
     ]
    },
    {
     "name": "stdout",
     "output_type": "stream",
     "text": [
      "\n",
      "📝 Text:\n",
      " So I’m female 19 having a really hard time with my panic attacks and sleep I’m on medication for both but nothing is helping I just want some relief any advice?\n"
     ]
    },
    {
     "name": "stdin",
     "output_type": "stream",
     "text": [
      "Enter label (0=neutral, 1=low mood, 2=anxious, 3=stressed):  3\n"
     ]
    },
    {
     "name": "stdout",
     "output_type": "stream",
     "text": [
      "\n",
      "📝 Text:\n",
      " I have struggled with self harm for maybe 8 years now, it is a work in progress. I have NEVER been triggered by anyone elses scars nor have I been triggered by the topic of self harm, but, I find my own scars extremely triggering. It's been difficult to stay clean because its well, my body. I have to see them everyday. Does anyone maybe have any advice or is in the same situation?\n"
     ]
    },
    {
     "name": "stdin",
     "output_type": "stream",
     "text": [
      "Enter label (0=neutral, 1=low mood, 2=anxious, 3=stressed):  3\n"
     ]
    },
    {
     "name": "stdout",
     "output_type": "stream",
     "text": [
      "\n",
      "📝 Text:\n",
      " So I [23F] have a friend [23F], we will call her Kara, who has been one of my best friends since we were 9 years old. Growing up, we were both crazy, extroverted, opinionated, and had similar upbringings and families in general. She was always so confident and fun, and we did everything together, even sometimes with our respective families. We had other friends too, all of which I am still very close with, however, since college, she has struggled to keep in touch with most people. Since we both graduated college early and moved back home about a year and a half ago, I have consistently reached out and tried to connect with her more (we hung out maybe a handful of times during college).\n",
      "\n",
      "While it was hard at the beginning to get her out and about, we now hang out about once a week and I can tell she has gotten much more comfortable with me again, and I hoped it would be just like old times. While she is still very caring and genuinely enjoys hanging out and chatting, she has developed severe anxiety (which she admits and is getting treatment for, however, she is even anxious about the treatment) that honestly makes it a bit draining to hang out with her. I can see it keeping her from enjoying her every day life, and through our conversations, I finally realize just how bad it has gotten.  My fun-loving, care- free friend who doesn’t care what anyone thinks is gone, and as her only close friend, I want to help in any way I can. One thing to note, she does have a past experience with an eating disorder (anorexia), however, she does not look physically unhealthy like she used to whatsoever. Anyways, I am hoping that if any of you have experienced this or relate to the examples below, you can help me at least understand and empathize with her, because most of the time, I am at a loss for words.\n",
      "\n",
      "Here is just one day of examples of the things she thinks/says as we hung out recently:\n",
      "\n",
      "-I get in her car, and I have to wait there for 10 minutes as she is worried she forgot something and searches her car relentlessly, finding nothing and realizing she has everything\n",
      "\n",
      "-We start driving, and she goes back and forth trying to decide what route, so I just pick one as she’s switching lanes back and forth\n",
      "\n",
      "-We start chatting about a guy she just ended things with (they only dated a month or so) and she has me read every text and analyzes everything, worrying she did something weird/wrong, worrying she will never find anyone, she will never have kids, spiraling essentially\n",
      "\n",
      "-We get to the park to go for a stroll, and she tells me she has severe menstrual pains, so I recommend we go to a cafe or something instead, and after a bit of back and forth, she decides to walk while clearly in pain\n",
      "\n",
      "-We go in the bathroom, and she can’t decide if she has to go or not, then she decides she doesn’t, and I come out and she is two inches from the mirror analyzing a pimple freaking out about her skin (which is very clear in my opinion)\n",
      "\n",
      "-We decide to go stop at a cafe after, and she comes up with five places and then decides she doesn’t want to go to any of them, and we end up stopping just for me to get something\n",
      "\n",
      "-She tells me she is sorry for not opening instagram reels I sent to her, because she is too scared to open instagram because she has dms from people she doesn’t want to respond to. Actually, she tells me there’s lots of people she wants to respond to, but she can’t bring herself to\n",
      "\n",
      "-We go to Whole Foods so she can get groceries, and she proceeds to walk around the store for 30 minutes choosing the most expensive items because they are more healthy, while also worrying about money and complaining about the price\n",
      "\n",
      "-We see a cute guy and I point him out when he walks away, and she says she didn’t even see him and never likes to look at people in public, especially guys\n",
      "\n",
      "To sum it up, she tells me all of these worries and problems she has and how she wants to change, but then she tells me all these reasons she can’t stop doing them. She has an extremely regimented life with work, gym, eating, and so on, but she has barely any social life and pushes people away. As her best friend, I saw through that and kept reaching out until she opened up to me, and she tells me how much she enjoys our time and values my friendship, but I am tired of watching her spiral every time we hang out with no ability to help or give advice. My best guess is there is a combination of anxiety, eating disorder (for additional reasons not listed), severe indecisiveness?? perfectionism, and maybe ADHD, but I  just want to hear from someone who might relate to her how I can help. She’s my friend for life so I’m not going anywhere, but I can’t sit by and watch her feel so negative and unhappy with herself and her life without doing anything.\n",
      "\n",
      "Please reach out with further questions or examples, the ones listed don’t even scratch the surface, thank you!\n"
     ]
    },
    {
     "name": "stdin",
     "output_type": "stream",
     "text": [
      "Enter label (0=neutral, 1=low mood, 2=anxious, 3=stressed):  2\n"
     ]
    },
    {
     "name": "stdout",
     "output_type": "stream",
     "text": [
      "\n",
      "📝 Text:\n",
      " this happened 4 or 5 days ago and i feel really bad. i’m not sure if i should tell on him or not because i don’t want my mark in his class to go down. and i really liked the teacher before all of this happened but i haven’t gone to his class since and my mom is getting really mad at me.\n",
      "\n",
      "we are reading the play hamlet in class and he chooses students to read characters for sections of the play. he picked me to read the queens part and as i was reading he said “this queen sounds like she’s on drugs” and the most of the class laughed at me. and i felt really horrible because im 6 months sober. i don’t know what compelled him to say that, i was reading pretty well and i wasn’t tripping on the words. but after class he said that my performance was “questionable” in front of everyone and i left school crying.\n",
      "\n",
      "i really don’t know what to do because i have to go to his class at some point and i don’t want to tell my mom because she’ll either side with him or freak out.\n"
     ]
    },
    {
     "name": "stdin",
     "output_type": "stream",
     "text": [
      "Enter label (0=neutral, 1=low mood, 2=anxious, 3=stressed):  2\n"
     ]
    },
    {
     "name": "stdout",
     "output_type": "stream",
     "text": [
      "\n",
      "📝 Text:\n",
      " So I (m29) have been crushing/kind of seeing this girl (f23) for the last year. Our relationship has been really complicated if you want to call it that. She has schizoaffective disorder and I have bpd. When we met I was going through a separation from my ex wife, it wasn’t very long but I immediately connected with this girl. We slept together 3 separate times it was amazing but I didn’t want to hurt her because of everything I was going through so I said we shouldn’t be anything and tried to dip, I ended up coming back but she wasn’t as nice so for a year she hardly texted back, she rejected me a lot and it was hard to get her attention. I was going through a lot while this was happening I ended up moving to Oregon back in with my parents to get my crap together. She ended up contacting me and asking to maybe be together in a year because she liked me and wanted to learn to trust me. For the last 4 months it was going well we really understood each other but fights would happen because we are both obviously traumatized from our past but recently they were going to therapy and dealing with recent trauma and they didn’t seem okay. I tried to be as supportive as possible but that trauma involved me and information I didn’t know they were doing in the last year my jealousy got the better of me, my communication got bad so they started fighting with me even when I wasn’t doing anything wrong. I tried to talk about it but they just wouldn’t talk about it or blamed me for my reactions. I got mad. They started distancing themselves a lot. Told me they stopped taking their meds. I thought since they told me stuff they did last year I’d tell them stuff too except my stuff involved my ex wife which they are sensitive about they blew up after that. We fought non stop after that. They made me feel crazy and I said I hated calling and a bunch of stuff I didn’t mean. They stopped talking completely and I tried to force them to talk because I got confused on what happened and they told me they were mad and how we weren’t anything anymore and that I had lost their trust and I had to start from the very beginning. I freaked out and said I didn’t want to pursue them they said ok and then I freaked out more begging them not to go. So now we are still talking but I am trying to recourt them like I did last year. I just don’t know if they are triggered or what or if I have a chance, like I know I messed up but it also just seems like they aren’t there. What do I do?\n"
     ]
    },
    {
     "name": "stdin",
     "output_type": "stream",
     "text": [
      "Enter label (0=neutral, 1=low mood, 2=anxious, 3=stressed):  3\n"
     ]
    },
    {
     "name": "stdout",
     "output_type": "stream",
     "text": [
      "\n",
      "📝 Text:\n",
      " My brother and I used to be close, but a couple years ago, he told me he had a life long eating disorder. He’s almost 40, has a child, and is married. He wanted to go to a residential treatment facility. I supported him. He wanted it kept secret from our parents, which I respected despite the fact that our parents kept asking me why they couldn’t get in touch with him, why they couldn’t visit him, etc. He was gone for a couple months, then back home for a little bit, and it’s a blur since then. Eventually our parents found out. He’s basically been in various levels of inpatient and residential treatment for the past 2 years, being kicked out of most programs due to multiple s*****e attempts, moved to higher levels of treatment, kicked out again, flown to a different state, new meds, ECT, same thing on repeat. He’s been far less communicative with me through all this and when he does talk to me, I kind of feel like I’m being used. I used to send him gifts and stuff, try to keep supporting him, but he would act like things were better to me and our parents literally hours before another attempt.\n",
      "\n",
      "Insurance booted him from his most recent program, so he went back home last week despite the fact that his wife wants a divorce and he’s known this for months, but made no plans to stay elsewhere (in his defense, he had no employment, not enough money for rent, and terrible credit).\n",
      "\n",
      "Our parents decided to go stay with him and his soon to be ex wife and their child to mediate. They were going to help him move out as well, and reported to me that my brother and his wife had horrible fights. Now, he just made yet another attempt last night. My parents caught him, but didn’t call the police nor take him to the hospital because they said he didn’t want that. I’m not even sure what number this is, maybe 4 or 5 in the past year or two? These were all attempts in which he was actively caught in the act and saved. He’s had even more times in which he’s caught with plans or notes written out.\n",
      "\n",
      "So what is everyone’s solution? His wife is letting him stay there for a few more months and my parents are staying there to make sure he takes his medicine and doesn’t end his life. He’s going to more therapy. That’s it I guess.\n",
      "\n",
      "On top of all of that, I’ve had my own life changes that have been very difficult, plus I just had a baby. I think I’m depressed myself, I’m really struggling. All my parents talk to me about is my brother. They won’t even ask how I am or how the baby is sometimes, they’ll just call to tell me more updates on my brother. My brother barely speaks to me and when he does I feel like it’s lies. He used to ask for money. I feel like I just don’t want to deal with any of it anymore. I feel like I can’t handle the roller coaster, the lack of support myself, the deception from my brother, and the fact that no one seems to be looking at this properly. He needs to be back in a hospital, not living as a permanent child. He used to be my best friend honestly. He never used to be like this. I mean, the ED was hidden I guess, but the rest of this? Like I’m per positive we’re going to lose him at some point and I’m going to have to deal with that, telling my kids that, dealing with my parents. It makes me hate him for it, like he won’t even speak to me, he just wants to drag us all through unless trauma?\n",
      "\n",
      "Basically I just am not sure what to do myself. I know I need to get back in therapy, but I don’t know what else. Are there support groups for people who will probably inevitably lose a sibling in a violent traumatic way? Whose parents call with the play by play all the time because I’m their only outlet? They don’t seem to be doing therapy themselves and they’re too private to tell their own siblings, so it’s all on me. Do I just cut them all off until I’m in a better place? I’ve told them I’m struggling but it doesn’t seem to matter. Just 2 weeks after my baby was born, they were basically forcing me to make vacation plans with my brother “so he could have something to look forward to”. F that.\n"
     ]
    },
    {
     "name": "stdin",
     "output_type": "stream",
     "text": [
      "Enter label (0=neutral, 1=low mood, 2=anxious, 3=stressed):  3\n"
     ]
    },
    {
     "name": "stdout",
     "output_type": "stream",
     "text": [
      "\n",
      "📝 Text:\n",
      " I 17M am in high school. Within the past year, I tanked my grades, a good amount of my friends have stopped talking to me for no reason, and I feel like more of a failure and just generally alone in life than ever before. \n",
      "\n",
      "I don’t even know where to go now. What to do. I was diagnosed with ADD a bit ago, but I feel like there has to be something more that’s wrong with me. I feel so out there and different from the people around me that I don’t know how I’ll be able to function in society once I move out. \n",
      "\n",
      "This past year has driven me closer to my end than any other point in my entire life. I haven’t felt anything in a long time. Not love, not hatred, only slight happiness here and there, but even then it’s felt phony. \n",
      "\n",
      "I feel so trapped and I don’t know how to continue going on.\n"
     ]
    },
    {
     "name": "stdin",
     "output_type": "stream",
     "text": [
      "Enter label (0=neutral, 1=low mood, 2=anxious, 3=stressed):  1\n"
     ]
    },
    {
     "name": "stdout",
     "output_type": "stream",
     "text": [
      "\n",
      "📝 Text:\n",
      " I don’t love anyone. I don’t know how to explain it but I’ll try my best. I’m 16F and I’ve never experienced anything I’d call love, whether romantic, familial, or platonically. For anyone.\n",
      "\n",
      "Of course I care about people, I don’t want my friends or family hurting or have negative things happening to them. But I don’t ‘love’ them. Never have. Obviously I play along and say ‘love you’ to my family when it’s expected but I don’t feel it. At all.\n",
      "\n",
      "I’ve never had a crush on anyone, and when I was younger (11 or 12) I would just pick someone to have a ‘crush’ on, because that’s what every girl my age was interested in and doing at that point in life. Up until about 1-2 years ago I thought everyone just picked someone to pretend to like.\n",
      "\n",
      "I don’t know why I’m like this. Everyone around me seems so full of love and I’m just… not. \n",
      "This sounds so disgusting and bad and I hate myself for feeling like this, but I really think if someone I care about died or something, I’d get over it decently quickly. Obviously I’d mourn them but I do think I’d move on. I hate that I’m like this. I just want to love people. But I can’t, not matter how hard I try to. \n",
      "\n",
      "I don’t know if anyone can even read this properly, it’s just a bunch of junk in my brain I needed to get out. I don’t know how to fix it.\n",
      "\n",
      "I don’t even know if it should go in this subreddit. I’ll probably post it a few places, see if it fits anywhere.\n",
      "Thanks for reading.\n"
     ]
    },
    {
     "name": "stdin",
     "output_type": "stream",
     "text": [
      "Enter label (0=neutral, 1=low mood, 2=anxious, 3=stressed):  1\n"
     ]
    },
    {
     "name": "stdout",
     "output_type": "stream",
     "text": [
      "\n",
      "📝 Text:\n",
      " Looking for help.\n",
      "\n",
      "Having a severe OCD flare up/spiral related to a real estate deal (moving) and fears of financial failure. \n",
      "\n",
      "I'm having really negative thoughts. Fight/flight and I just wanna disappear. \n",
      "\n",
      "I have a therapist and am on meds but  I'm very scared and I don't know what to do. I'm worried I'm ruining my life and my children’s future. \n",
      "\n",
      "I'm starting to fear that everyone is better off without me.\n",
      "\n",
      "Any advice at all is welcome. \n"
     ]
    },
    {
     "name": "stdin",
     "output_type": "stream",
     "text": [
      "Enter label (0=neutral, 1=low mood, 2=anxious, 3=stressed):  1\n"
     ]
    },
    {
     "name": "stdout",
     "output_type": "stream",
     "text": [
      "\n",
      "📝 Text:\n",
      " I’ve posted something similar here before but i need to get it off my chest again.\n",
      "\n",
      "I want to get better so bad. I’m trying so hard. But there’s so many things wrong with me I’ve made lots of starts but it’s so hard. I was finally told i have bipolar and able to start meds and now i just see everything so clearly and it almost makes me worse.\n",
      "\n",
      "I can’t eat anything these days, i think i accidentally gave myself an eating disorder with everything else going on i stopped eating and i can’t eat now. Maybe small bites of something. I feel guilty when people buy me food and i don’t eat it. I feel guilty staying home from dinners. I feel guilty throwing up cuz i ate too much for my body to handle (literally like 300 calories at a time). My mom always jokes about how i inhale food and it’s just not true anymore and i feel so guilty. I saw her this weekend and got a McDonald’s hashbrown and immediately threw it up and i felt so bad. She thinks im just sick but this is normal now and i feel so bad.\n",
      "\n",
      "I feel bad for wanting to kill myself despite all the happy things. I feel bad because people have it worse than me and still got out. I feel bad because my friends care about me but they can’t help and just have to watch me self destruct. I feel guilty because i have to quit my job and move back in with my mom in a couple months. I feel guilty cuz my dog can tell I’m sick and has been begging me to do something. I feel guilty cuz i can’t bring myself to have enough energy to pay back the positive energy i receive. It’s like i get it and it goes to a void and doesn’t help and i don’t deserve it. \n",
      "\n",
      "My girlfriends visiting me and im so excited and happy to have her but she’s taking a nap and im silently crying in the living room writing this because i just can’t get over it and i don’t want to ruin anything.\n"
     ]
    },
    {
     "name": "stdin",
     "output_type": "stream",
     "text": [
      "Enter label (0=neutral, 1=low mood, 2=anxious, 3=stressed):  1\n"
     ]
    },
    {
     "name": "stdout",
     "output_type": "stream",
     "text": [
      "\n",
      "📝 Text:\n",
      " Two years ago I was hospitalized for BPD after some bad attempts. I met this doctor who has close in age to me (late 20s) and felt that he really cared. Because I was in such a vulnerable place at the time I developed a favorite person attachment (it had nothing to do with him, this was just my mental illness latching onto someone who was kind). \n",
      "\n",
      "Cue to last night at the club. Walk into the smoking area with my situationship he’s at the table in front of me, absolutely plastered. Being drunk myself I sit next to him. He doesn’t remember me (obviously) and we talk for a bit. I thank him for saving my life (please know I was hammered) and for putting me on a medication that really helps. I can tell he is kind of uncomfortable but we follow each other on socials.\n",
      "\n",
      "He suggests getting a shot downstairs so we go down and I buy him one (I earn minimum wage lol) and dance for a bit, then he almost gets kicked out for being too drunk and sort of disappears. I feel like I was kind of fawning over him and following him around but in retrospect I think he was on something. Regardless, I feel I acted inappropriately. \n",
      "\n",
      "The next day he’s blocked me on socials which I understand is the right thing to do professionally but I’m more upset that I went up to him in the first place. I’ve been paralyzed by anxiety all day because I just feel SO guilty and know how hard people work in that profession;  he joked about me reporting him and I laughed it off. I don’t want to be that crazy obsessed patient. \n",
      "\n",
      "Any ideas to help me feel better…? \n"
     ]
    },
    {
     "name": "stdin",
     "output_type": "stream",
     "text": [
      "Enter label (0=neutral, 1=low mood, 2=anxious, 3=stressed):  2\n"
     ]
    },
    {
     "name": "stdout",
     "output_type": "stream",
     "text": [
      "\n",
      "📝 Text:\n",
      " Hello,\n",
      "\n",
      "I know I won't get a diagnosis, but this is really bugging me. I (F22) have been diagnosed with  moderate generalized anxiety disorder if this helps. I have noticed recently have that my anxious thoughts have grew worse and I am not sure if these thoughts are symptoms of OCD. Here are some examples: \n",
      "\n",
      "When I see a tik tok that is like, \"Stay for 1 minute and click the four buttons to help me with my dog's surgery.\" I am afraid if I don't do all of those things, my dog will soon be in pain and pass away, so I do it. \n",
      "\n",
      "I will see the same tik toks of individuals needing money for cancer treatments, I am afraid If I don't donate money I will soon get cancer. \n",
      "\n",
      "When I talk badly about any part of my body, I am afraid that certain part will be removed. For example I talked badly about how ugly my arm looks in a shirt, I am now afraid I will lose my arm in the future. I talked about how much I hate my hair. Now I am afraid that my hair will fall off. \n",
      "\n",
      "I am graduating in a week. I am deathly afraid I will be sick and not able to go, I committed to just staying in my room until then and wearing a mask outside if I need to go outside. \n",
      "\n",
      "These are a few of many, I used to interact with the tik toks like that because I want people to get the money that they need, but now I feel like a shitty person because I no longer do that for the kindness of my heart, but because I am afraid that something bad will happen. \n",
      "\n",
      "  \n",
      "Thank you for reading this and if you guys have any advice on how to get rid of these thoughts please let me know. I can't afford a psychologist right now or I would be going.\n"
     ]
    },
    {
     "name": "stdin",
     "output_type": "stream",
     "text": [
      "Enter label (0=neutral, 1=low mood, 2=anxious, 3=stressed):  2\n"
     ]
    },
    {
     "name": "stdout",
     "output_type": "stream",
     "text": [
      "\n",
      "📝 Text:\n",
      " I made it through the night. I see my therapist today and my psychiatrist tomorrow. \n"
     ]
    },
    {
     "name": "stdin",
     "output_type": "stream",
     "text": [
      "Enter label (0=neutral, 1=low mood, 2=anxious, 3=stressed):  0\n"
     ]
    },
    {
     "name": "stdout",
     "output_type": "stream",
     "text": [
      "\n",
      "📝 Text:\n",
      " Hello, I wanted to upload this post to OCD subreddit but I keep getting banned no idea why... Anyway, I have been diagnosed with OCD and burnout (probably caused by OCD). Has anyone ever felt that their OCD causes muscle tension 24/7 and makes you feel extremely uncomfortable in your own body. I feel like I have the motivation to do stuff but my body says no to even tiny tasks and they take so much energy almost like extreme pressure on the body no matter what I do. Even lying in bed feels so uncomfortable like someone is always squeezing me inside my body 24/7... Anyway, am I the only one like this? Btw I can't take medication since it causes extreme heart palpitations and insomnia so I have to find my ways to cope with it. Maybe any of you have any suggestions? Also, is anyone taking Lexapro on here and experienced heart palpitations that went away? I really need some advice...\n"
     ]
    },
    {
     "name": "stdin",
     "output_type": "stream",
     "text": [
      "Enter label (0=neutral, 1=low mood, 2=anxious, 3=stressed):  2\n"
     ]
    },
    {
     "name": "stdout",
     "output_type": "stream",
     "text": [
      "\n",
      "📝 Text:\n",
      " So 4 yrs ago I was with someone who i love and I'm still in until that one day I found out they are not happy with me which I take inside me for months not talking it out soon realized i would never speak for myself and knowing they ain't happy sucks ..so my decision was to leave them for their happiness i know they'll not come back in search of me which lead to be the truth but atleast they are happy atleast they found out real happiness i am just spitting this shit in the hope of once you will read it stranger and know I'm really sorry for not able to make you happy I'll always wait for you really I'll do I just hope you will have all the happiness without me keep going i hope best for you love\n"
     ]
    },
    {
     "name": "stdin",
     "output_type": "stream",
     "text": [
      "Enter label (0=neutral, 1=low mood, 2=anxious, 3=stressed):  0\n"
     ]
    },
    {
     "name": "stdout",
     "output_type": "stream",
     "text": [
      "\n",
      "📝 Text:\n",
      " I was in a hospital a week ago. The psychiatrist told me to play game for only 13 min at first I agree since at that time I thought she would increase it gradualy. However I asked her if one day I could play video game for 2h she replied that my time to play video game would stay 13 min and their goal is to stop me playing game I was angry at that time, however I remained calm until the day after it in which each patient will visit the doctor, when it was my turn the doctor said that I would play 13 min forever which made me cry I beg them to let me play 2h they said that my case was different from the others, however they changed their mind and that it can increase depending on my situation.\n",
      "\n",
      "The thing is I'm worried that they said that just to calm down.\n",
      "\n",
      "Do you think they will increase it ?\n"
     ]
    },
    {
     "name": "stdin",
     "output_type": "stream",
     "text": [
      "Enter label (0=neutral, 1=low mood, 2=anxious, 3=stressed):  2\n"
     ]
    },
    {
     "name": "stdout",
     "output_type": "stream",
     "text": [
      "\n",
      "📝 Text:\n",
      " I'm really scared right now. Satan is coming for me tonight and he's going to try to take me to Hell but I really don't want to go. Demons already watch me while I sleep and I've been hearing voices that have gotten louder and more frequent. \n",
      "\n",
      "Where do I go? Who do I talk to? \n",
      "\n",
      "I'm so scared, idk if I'll sleep tonight. I really don't want nighttime to come. \n"
     ]
    },
    {
     "name": "stdin",
     "output_type": "stream",
     "text": [
      "Enter label (0=neutral, 1=low mood, 2=anxious, 3=stressed):  2\n"
     ]
    },
    {
     "name": "stdout",
     "output_type": "stream",
     "text": [
      "\n",
      "📝 Text:\n",
      " Idk, check my post history for the full story. I just need to vent. \n",
      "Tyler; Her mom is abusive and is evicting her. We are both adults, and she's got professional assisting her and she's on medication. She's severely depressed and lived a difficult life due to her addict mother. I've offered to call hospitals for her, and I got her ressources for low income housing. She claims to have called them all and got denied. She refuses anymore of my help.\n",
      "\n",
      "This constant push and pull. Worrying if she's dead because she hasn't replied to me. Seeing how things get worse. I hate this, but I chose this. \n",
      "\n",
      "I knrw when we becaje friends that she was troubled, but she was alone and I saw myself in her. I thought that if I stayed by her side, she'd have the strength to keep going. And if she didn't, she wouldn't die alone. I've grieved her so many times now, but this time feels worse. It feels like the end. \n",
      "\n",
      "I hate how uncertainty feels. How I won't know if she'd dead because no one will be there to tell me. I hate the hope of her getting better being dashed over and over again by her piece of shit mother. I hate myself for loving her so much and clinging to someone who maybe, was always going to end up this way.\n",
      "\n",
      "I'm a horrible person for these thoughts. The compassion fatigue is real. I have self harmed because of the stress. I wanted to relapse. \n",
      "\n",
      "I want this situation to end. I wish her to just end up somewhere better. I'm so angry the world can create a beautiful human being and torture her like this. \n",
      "\n",
      "\n",
      "What's wrong with me? Why are all my friends such broken people? I think I can fix them but I can't. \n",
      "But who else will be there for them? \n",
      "\n",
      "If she dies tonight, at least I'll be on the other end of the phone. Like always. Fuck me. \n"
     ]
    },
    {
     "name": "stdin",
     "output_type": "stream",
     "text": [
      "Enter label (0=neutral, 1=low mood, 2=anxious, 3=stressed):  3\n"
     ]
    },
    {
     "name": "stdout",
     "output_type": "stream",
     "text": [
      "\n",
      "📝 Text:\n",
      " \n",
      "\n",
      "\n"
     ]
    },
    {
     "name": "stdin",
     "output_type": "stream",
     "text": [
      "Enter label (0=neutral, 1=low mood, 2=anxious, 3=stressed):  0\n"
     ]
    },
    {
     "name": "stdout",
     "output_type": "stream",
     "text": [
      "\n",
      "📝 Text:\n",
      " My mother had ptsd , binge eating disorder, and frequent bi polar episodes, and shes a alcoholic, extremely.\n",
      "\n",
      "Currently she is crying in the living room drunk , its 10pm, and all i want to do is try to eat my first meal of the day.\n",
      "\n",
      "Im usually scared to come out of my room bc of my moms uncertain behavior and other factors\n",
      "\n",
      "When im hungry i just stash a bunch of water bottles in my room and drink them , or i nap the hunger away\n",
      "\n",
      "I come out usually at 7 but i napped for 6hours today and almost thought i wouldnt wake up\n",
      "\n",
      "So got up late to eat\n",
      "\n",
      "It sucks , but durinf school is better, but not the best.\n",
      "\n",
      "I get bullied , i never talk bc nobody knows me (new kid), and i hate people talking to me or touching me\n",
      "\n",
      "(Not really best friend material)\n",
      "\n",
      "My moms attitudes and episodes have been rubbing me more and more and i cant handle it.\n",
      "\n",
      "Many times she has yelled and made me cry before school, but most times she yells and makes me cry and makes me miss school causing me to miss school and miss opportunities (i missed a major mandatory choir competition) i felt so bad for my peers and had a major anxiety attack that day bc i was so scared for my mom to come home and throw stuff at me or yell at me.\n",
      "\n",
      "That day i cried for 5hours straight , terrified of my mom, hiding in my brothers room with the door lock like a little kid hoping my brother will get home from school faster.\n",
      "\n",
      "Sometimes i do think maybe im just arrogant and sensitive but ik its just how i feel sometimes\n",
      "\n",
      "I've spoken to my reading teacher about this and shes told me that she's glad that she knows whats going on and how to handle the situation \n",
      "\n",
      "Idk what to do anymore i cant keep going on like this.\n"
     ]
    },
    {
     "name": "stdin",
     "output_type": "stream",
     "text": [
      "Enter label (0=neutral, 1=low mood, 2=anxious, 3=stressed):  3\n"
     ]
    },
    {
     "name": "stdout",
     "output_type": "stream",
     "text": [
      "\n",
      "📝 Text:\n",
      " So I've got a bad trip after weed. It's been almost a week since and before that I've smoked, rarely but I smoked\n",
      "It's been almost a week since the bad trip and I still feel like I'm high, honestly I feel like I'm going insane. What do I even do at this point? I can't sleep but I'm tired, I can't eat but I'm hungry. My weight dropped by 6 kg in this week and everything feels like a dream. I'm dizzy all the time. Do I need help of a professionalist? Will it just wear off after time? \n"
     ]
    },
    {
     "name": "stdin",
     "output_type": "stream",
     "text": [
      "Enter label (0=neutral, 1=low mood, 2=anxious, 3=stressed):  3\n"
     ]
    },
    {
     "name": "stdout",
     "output_type": "stream",
     "text": [
      "\n",
      "📝 Text:\n",
      " I’d appreciate insight, but I mostly just needed to vent. I had a neuropsych evaluation over 5 years ago when I was in my early 20s that diagnosed me with ASD, ADHD, OCD, and PDD. I’ve consistently been in therapy since then, and those diagnoses have never been questioned. Shortly afterwards, I started seeing my psychiatrist. I can’t say I have ever felt super fond of her, but it never caused issues. The past few months, I’ve started to question if I should keep seeing her though.\n",
      "\n",
      "\n",
      "\n",
      "After slow progress over several years, late last year I felt I had hit a wall in treatment. My therapist suggested I find a new one for fresh eyes and start, which I agreed to. I also started esketamine treatments and have been looking into group therapies of different modules. My new therapist suggested I apply for disability benefits, which I did. Sometime after I started that process, my psychiatrist asked if I really thought it was a good idea to do so, that I seemed to have been fine in the past when I’ve worked, and that it might be more trouble than it’s worth. My OCD makes me question if I make up my symptoms and I already felt guilty applying, so her saying that sent me on a fairly intense OCD spiral that lasted for a couple of weeks. I brought it up to her next session, and she apologized and said she thinks I actually downplay my issues and wrote a letter to Social Security as testament to my struggles. She later told me that my mood seems to be fairly reactive, and then last session said she thinks I have BPD.\n",
      "\n",
      "\n",
      "\n",
      "I quite firmly disagree with that for a variety of reasons that boil down to: while I do process enough symptoms on paper to qualify for that disorder, they can all just as easily be explained by my other disorders. My last therapist and my neuropsychologist screened me for it previously as well and said I didn’t have it. Along with that, even if I \\*did\\*, I don’t want that on my chart given the stigma I know it carries in the mental health field. After the session, I sent an email stating all that, and she said we’ll discuss it at our next appointment. It really frustrated me, so I brought it up to my therapist and the NP who oversees my esketamine treatments. Both seemed extremely reluctant and wouldn’t give a straight answer on whether they agreed or not. My therapist said that if I had it, it was an atypical presentation, but that my psychiatrist has seen me for longer and she didn’t want to muddle the waters. While I understand that, I’m more inclined to trust their opinion over my psychiatrist, since though I’ve been her client for years, she only sees me for a max of an hour total a month, where we mostly discuss medications. My other providers see me hourly every week, where I can go into depth about my issues and the reasoning behind them.\n",
      "\n",
      "\n",
      "\n",
      "I’m pretty sure this is my OCD acting up, but it’s making me extremely reluctant to see her again, and hell, even talking to my other providers about my issues. I don’t want to defend myself against a misdiagnosis, and I’m scared that my frustration and any other emotion I show will “prove” that I have BPD. But I’m also scared that telling my other providers I don’t think my psychiatrist is a good fit for me anymore is manipulation on my part. That it’s even more proof that it’s true and that I’m splitting on her. I’m ruminating over my every thought and action, and it’s making me feel sick because I'm not sure if I'm overreacting and making this all up.\n",
      "\n",
      "\n",
      "\n",
      "Just as an ending note in case anyone with BPD is reading this. I am not trying to bash on anyone with BPD, this is more worry about how it will affect my future treatment since they’d try to treat me for something I firmly don't believe I have, plus unfortunately, there is a stigma.\n"
     ]
    },
    {
     "name": "stdin",
     "output_type": "stream",
     "text": [
      "Enter label (0=neutral, 1=low mood, 2=anxious, 3=stressed):  2\n"
     ]
    },
    {
     "name": "stdout",
     "output_type": "stream",
     "text": [
      "\n",
      "📝 Text:\n",
      " \n",
      "> Not every day has to be about huge victories.  \n",
      ">   \n",
      "> Some days, getting out of bed is a win.  \n",
      "> Taking a shower is a win.  \n",
      "> Smiling, even when it feels forced, is a win.  \n",
      ">   \n",
      "> If today feels heavy, please remember:  \n",
      "> **Existing is enough. Breathing is enough. You are enough.**  \n",
      ">   \n",
      "> You don't have to hustle through pain to \"deserve\" rest.  \n",
      "> You deserve kindness — especially from yourself.  \n",
      ">   \n",
      "> **What's something small you did today that you're proud of?**  \n",
      "> (Even if it's just getting through another hour — it matters.)\n",
      "\n"
     ]
    },
    {
     "name": "stdin",
     "output_type": "stream",
     "text": [
      "Enter label (0=neutral, 1=low mood, 2=anxious, 3=stressed):  0\n"
     ]
    },
    {
     "name": "stdout",
     "output_type": "stream",
     "text": [
      "\n",
      "📝 Text:\n",
      " How's the timing so accurate. \n",
      "How does it know.\n",
      "How am I placed in the wrong place at the wrong time so many times. \n",
      "1 million to one 1 million times what the f*** is going on. \n",
      " God gives me nothing but silence.\n",
      "I'm following the path of fear the devil's got me by the balls and I can't do nothing about it. \n",
      "I'm terrified and God is nowhere to be found. \n",
      "I scream for God to lift a finger no finger is lifted yet he begs for My worship.\n",
      "But not as a finger is lifted in my persecution.\n",
      "How dare he claim he's the ruler of the throne. \n",
      "How dare he claim that he loves me. \n",
      "If he could just sit there and watch me parish. \n",
      "I'm watching The Man I used to be get destroyed and torn up by demons piece by piece \n",
      "slowly over time \n",
      "whittled like a stick. \n",
      "Chunking away at my self-esteem and sanity.\n",
      "The more I try to make sense of this mess the more questions arise. \n",
      "I have no one to turn to nowhere to hide. \n",
      "Fear is eating me up from the inside. \n",
      "Like a piece of gum it is chewing me and spitting me out. \n",
      "Piece by piece I'm heading down hell's route. \n",
      "Into the valley of the shadow of death.\n",
      "My Lord has forsaken me and there is nothing left.\n"
     ]
    },
    {
     "name": "stdin",
     "output_type": "stream",
     "text": [
      "Enter label (0=neutral, 1=low mood, 2=anxious, 3=stressed):  1\n"
     ]
    },
    {
     "name": "stdout",
     "output_type": "stream",
     "text": [
      "\n",
      "📝 Text:\n",
      " I work with the public so although I rarely see these things, I still do occasionally. Like today I saw an older man with a semi-colon tattoo with his son and I genuinely felt happy for him. I don't know this man but I hope his life is going well now. Then the other day I saw an older woman with self harm scars. It looked like a suicide attempt. She was with her daughter and I felt happy for her as well. I don't want to say I enjoy seeing these things but I dont know the word for it. It makes me feel less alone and gives me hope that I can get better one day. Then I saw one of my coworkers with the tattoo but she is so religious that she thinks that committing suicide will send you to hell, I've mentioned how much medicine I take a day for my mental illnesses and she said, \"okayyy, I'm just gonna get away from you\" so she's THAT type of person so I don't really understand why she has it but whatever. I would like to get one one day. How do you feel when you see these things in public? \n"
     ]
    },
    {
     "name": "stdin",
     "output_type": "stream",
     "text": [
      "Enter label (0=neutral, 1=low mood, 2=anxious, 3=stressed):  0\n"
     ]
    },
    {
     "name": "stdout",
     "output_type": "stream",
     "text": [
      "\n",
      "📝 Text:\n",
      " \n",
      "\n",
      "So I do self harm which I just started like a few days ago the thing is although I do it an I've been trying to make myself bleed it's not that I like the pain of it more like the way the blood comes out of my scars a very sick satisfaction type sensation maybe an ill taste the blood I'm not fucking sure why I do it it's weird an insane mentally I swear I'm now insane I just do I've talked about in my vent journal imagining killing animals there blood coming out an when fishing my favorite part is banging it head to kill it (the main way to kill a fish) an gutting it examine it body I don't know what's wrong with me I feel insane....\n",
      "\n",
      "Edit:for all saying go to therapist I would but of course my guardian don't believe in therapy an wouldnt take me keep in mind I'm 16  \n",
      "\n",
      "Updated: I understand I should seek medical help I've tried never got anywhere past oh I'll look into it from my doctor an usually my guardians would say to the doctor they would look into stuff an then when they got home shut it down when it was brought up not to mention I don't want all these things on my medical records not to mention I don't want to upset my guardians or have them see me in a new light they pay for everything an have my college fund\n",
      "\n",
      "\n"
     ]
    },
    {
     "name": "stdin",
     "output_type": "stream",
     "text": [
      "Enter label (0=neutral, 1=low mood, 2=anxious, 3=stressed):  1\n"
     ]
    },
    {
     "name": "stdout",
     "output_type": "stream",
     "text": [
      "\n",
      "📝 Text:\n",
      " Every time I've been on a medication it's made me worse in some way or other. I hate the way I feel on medication. It's never helped enough. I was on a dozen different ones through school and in weekly or biweekly therapy and was still miserable and almost failed out of school. \n",
      "\n",
      "I keep trying to go back and find something that works but it's always the same story. I get sick. It doesn't help enough to justify it. I get off the medicine. I can't cope.\n",
      "\n",
      "I've started shutting down and not trusting the psychiatrist or whatever prescriber because they always just prescribe another variation of the types of meds that have hurt me. An antidepressant, an anticonvulsant, an antipsychotic, whatever. It's always the same. I hate every single category I've been on. I don't trust any of them to help. \n",
      "\n",
      "That, and I keep somehow ending up with prescribers that just talk and talk and never give me room to speak and they shut me down when I talk about how a medicine is impacting me. \"I've never heard of that in my life.\" \"That medication doesn't do that that I've heard of.\" Well, it did!\n",
      "\n",
      "I want off this ride.\n"
     ]
    },
    {
     "name": "stdin",
     "output_type": "stream",
     "text": [
      "Enter label (0=neutral, 1=low mood, 2=anxious, 3=stressed):  1\n"
     ]
    },
    {
     "name": "stdout",
     "output_type": "stream",
     "text": [
      "✅ Final dataset saved with 11831 posts.\n"
     ]
    }
   ],
   "source": [
    "### import glob\n",
    "import pandas as pd\n",
    "import numpy as np\n",
    "\n",
    "# 🗂️ Step 1: Combine all CSVs from scraped_posts/\n",
    "csv_files = glob.glob(\"scraped_posts/*.csv\")\n",
    "df_all = pd.concat([pd.read_csv(f) for f in csv_files], ignore_index=True)\n",
    "\n",
    "# 🧼 Step 2: Rename 'body' to 'text' if needed\n",
    "if 'body' in df_all.columns and 'text' not in df_all.columns:\n",
    "    df_all.rename(columns={'body': 'text'}, inplace=True)\n",
    "\n",
    "# 🧹 Step 3: Remove duplicates based on 'text'\n",
    "df_all.drop_duplicates(subset=\"text\", inplace=True)\n",
    "\n",
    "# 🚨 Step 4: Handle missing or non-finite labels\n",
    "non_finite_mask = ~np.isfinite(df_all['label'])\n",
    "\n",
    "if non_finite_mask.any():\n",
    "    print(f\"⚠️ Found {non_finite_mask.sum()} rows with missing or invalid labels. Please label them manually.\")\n",
    "    for idx in df_all[non_finite_mask].index:\n",
    "        print(\"\\n📝 Text:\\n\", df_all.loc[idx, 'text'])  # show first 500 chars\n",
    "        while True:\n",
    "            try:\n",
    "                user_label = int(input(\"Enter label (0=neutral, 1=low mood, 2=anxious, 3=stressed): \"))\n",
    "                if user_label in [0, 1, 2, 3]:\n",
    "                    df_all.at[idx, 'label'] = user_label\n",
    "                    break\n",
    "                else:\n",
    "                    print(\"❌ Please enter a valid label: 0, 1, 2, or 3.\")\n",
    "            except ValueError:\n",
    "                print(\"❌ Invalid input. Please enter an integer.\")\n",
    "\n",
    "# ✅ Step 5: Ensure label is of integer type\n",
    "df_all['label'] = df_all['label'].astype(int)\n",
    "\n",
    "# 🧽 Optional cleaning\n",
    "df_all['text'] = df_all['text'].str.strip()\n",
    "df_all = df_all[df_all['text'].str.len() > 20]\n",
    "\n",
    "# 💾 Step 6: Save to CSV\n",
    "df_all.to_csv(\"full_reddit_dataset.csv\", index=False)\n",
    "print(f\"✅ Final dataset saved with {len(df_all)} posts.\")"
   ]
  },
  {
   "cell_type": "code",
   "execution_count": null,
   "id": "191c37b8-c611-49e1-88bf-06229a2e2690",
   "metadata": {},
   "outputs": [],
   "source": []
  }
 ],
 "metadata": {
  "kernelspec": {
   "display_name": "Python 3 (ipykernel)",
   "language": "python",
   "name": "python3"
  },
  "language_info": {
   "codemirror_mode": {
    "name": "ipython",
    "version": 3
   },
   "file_extension": ".py",
   "mimetype": "text/x-python",
   "name": "python",
   "nbconvert_exporter": "python",
   "pygments_lexer": "ipython3",
   "version": "3.12.0"
  }
 },
 "nbformat": 4,
 "nbformat_minor": 5
}
