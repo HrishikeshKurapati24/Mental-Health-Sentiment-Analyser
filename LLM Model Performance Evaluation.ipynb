{
 "cells": [
  {
   "cell_type": "code",
   "execution_count": 12,
   "id": "3e8c66d1-007d-47c1-978b-d4b93b66f123",
   "metadata": {},
   "outputs": [],
   "source": [
    "import pandas as pd\n",
    "from sklearn.metrics import f1_score, classification_report\n",
    "import ast\n",
    "import random\n",
    "import os\n",
    "import cohere\n",
    "import google.generativeai as genai\n",
    "from tqdm import tqdm\n",
    "import time\n",
    "import re\n",
    "\n",
    "# STEP 1: Load and sample dataset\n",
    "df = pd.read_csv(\"Datasets/journal_reddit_posts_multilabel.csv\").dropna(subset=['text'])\n",
    "\n",
    "label_cols = ['label_0', 'label_1', 'label_2', 'label_3']\n",
    "label_map = ['neutral', 'low mood/depressed', 'anxious/worried', 'stressed/overwhelmed']\n",
    "\n",
    "# STEP 2: Sample 1000 examples randomly\n",
    "subset_df = df.sample(n=1000, random_state=42).reset_index(drop=True)\n",
    "\n",
    "# STEP 4: Convert ground truth labels to string sets for easy comparison\n",
    "def label_vector_to_list(row):\n",
    "    return [label_names[i] for i, val in enumerate(row) if val == 1]\n",
    "\n",
    "subset_df['ground_truth'] = subset_df[label_cols].values.tolist()\n",
    "subset_df['ground_truth'] = subset_df['ground_truth'].apply(lambda vec: label_vector_to_list(vec))\n",
    "\n",
    "# STEP 5: Placeholder for model predictions (Gemini/Cohere will go here)\n",
    "subset_df['gemini_pred'] = None  # Fill this later with model outputs\n",
    "subset_df['cohere_pred'] = None  # Fill this later with model outputs"
   ]
  },
  {
   "cell_type": "code",
   "execution_count": null,
   "id": "1f255a4c-995b-4887-a276-353de43c2d0b",
   "metadata": {},
   "outputs": [],
   "source": [
    "# Set your API keys\n",
    "COHERE_API_KEY = \"YOUR_API_KEY\"\n",
    "\n",
    "# Configure Gemini\n",
    "genai.configure(api_key=\"YOUR_API_KEY\")\n",
    "model = genai.GenerativeModel(\"gemini-2.5-flash\")\n",
    "\n",
    "# Configure Cohere\n",
    "cohere_client = cohere.ClientV2(COHERE_API_KEY)\n",
    "\n",
    "# 🧠 Build prompt requesting numbered labels only\n",
    "def build_numbered_prompt(texts):\n",
    "    header = (\n",
    "        \"You are a mental health sentiment analyzer.\\n\"\n",
    "        \"Each text may reflect one or more emotional states.\\n\"\n",
    "        \"Possible labels:\\n\"\n",
    "        \"0 = neutral, 1 = low mood/depressed, 2 = anxious/worried, 3 = stressed/overwhelmed\\n\"\n",
    "        \"For each text, return only a comma-separated list of label numbers.\\n\"\n",
    "        \"Format:\\n1. 1, 2\\n2. 0\\n3. 1, 3\\n\\n\"\n",
    "    )\n",
    "    batched = \"\"\n",
    "    for i, text in enumerate(texts, 1):\n",
    "        batched += f\"{i}. Text: {text.strip()}\\n\"\n",
    "    return header + batched\n",
    "\n",
    "# 🧠 Extract numerical predictions like \"1. 1, 2\"\n",
    "def extract_numbered_label_preds(raw_output, expected_count):\n",
    "    numbered_pattern = re.compile(r\"^\\s*(\\d+)[\\.\\)]\\s*([0-3](?:\\s*,\\s*[0-3])*)$\")\n",
    "    results = []\n",
    "    for line in raw_output.strip().split(\"\\n\"):\n",
    "        match = numbered_pattern.match(line.strip())\n",
    "        if match:\n",
    "            pred_str = match.group(2)\n",
    "            preds = [int(x.strip()) for x in pred_str.split(\",\") if x.strip().isdigit()]\n",
    "            results.append(preds)\n",
    "    while len(results) < expected_count:\n",
    "        results.append([])\n",
    "    return results\n",
    "\n",
    "# ✅ Gemini batched predictions\n",
    "def get_gemini_predictions(texts, batch_size=5):\n",
    "    preds = []\n",
    "    for i in tqdm(range(0, len(texts), batch_size), desc=\"Gemini batches\"):\n",
    "        batch = texts[i:i+batch_size]\n",
    "        prompt = build_numbered_prompt(batch)\n",
    "        try:\n",
    "            response = model.generate_content(prompt)\n",
    "            batch_preds = extract_numbered_label_preds(response.text, len(batch))\n",
    "        except Exception as e:\n",
    "            print(f\"[Gemini] Error at batch {i}: {e}\")\n",
    "            batch_preds = [[] for _ in batch]\n",
    "        preds.extend(batch_preds)\n",
    "        time.sleep(5)\n",
    "    return preds\n",
    "\n",
    "# ✅ Cohere batched predictions\n",
    "def get_cohere_predictions(texts, batch_size=5):\n",
    "    preds = []\n",
    "    for i in tqdm(range(0, len(texts), batch_size), desc=\"Cohere batches\"):\n",
    "        batch = texts[i:i+batch_size]\n",
    "        prompt = build_numbered_prompt(batch)\n",
    "        try:\n",
    "            response = cohere_client.chat(\n",
    "                model=\"command-a-03-2025\",\n",
    "                messages=[{\"role\":\"user\", \"content\": prompt}]\n",
    "            )\n",
    "            batch_preds = extract_numbered_label_preds(response.message.content[0].text, len(batch))\n",
    "        except Exception as e:\n",
    "            print(f\"[Cohere] Error at batch {i}: {e}\")\n",
    "            batch_preds = [[] for _ in batch]\n",
    "        preds.extend(batch_preds)\n",
    "        time.sleep(8)\n",
    "    return preds"
   ]
  },
  {
   "cell_type": "code",
   "execution_count": 14,
   "id": "cfbb7009-4cf5-47a3-9c2f-75d1e779e0ec",
   "metadata": {},
   "outputs": [
    {
     "name": "stderr",
     "output_type": "stream",
     "text": [
      "Gemini batches: 100%|████████████████████████| 200/200 [58:11<00:00, 17.46s/it]\n",
      "Cohere batches:   0%|                                  | 0/200 [00:00<?, ?it/s]"
     ]
    },
    {
     "name": "stdout",
     "output_type": "stream",
     "text": [
      "[Cohere] Error at batch 0: BaseCohere.generate() got an unexpected keyword argument 'prompts'\n"
     ]
    },
    {
     "name": "stderr",
     "output_type": "stream",
     "text": [
      "Cohere batches:   0%|▏                         | 1/200 [00:05<16:35,  5.00s/it]"
     ]
    },
    {
     "name": "stdout",
     "output_type": "stream",
     "text": [
      "[Cohere] Error at batch 5: BaseCohere.generate() got an unexpected keyword argument 'prompts'\n"
     ]
    },
    {
     "name": "stderr",
     "output_type": "stream",
     "text": [
      "Cohere batches:   1%|▎                         | 2/200 [00:10<16:30,  5.00s/it]"
     ]
    },
    {
     "name": "stdout",
     "output_type": "stream",
     "text": [
      "[Cohere] Error at batch 10: BaseCohere.generate() got an unexpected keyword argument 'prompts'\n"
     ]
    },
    {
     "name": "stderr",
     "output_type": "stream",
     "text": [
      "Cohere batches:   2%|▍                         | 3/200 [00:15<16:26,  5.01s/it]"
     ]
    },
    {
     "name": "stdout",
     "output_type": "stream",
     "text": [
      "[Cohere] Error at batch 15: BaseCohere.generate() got an unexpected keyword argument 'prompts'\n"
     ]
    },
    {
     "name": "stderr",
     "output_type": "stream",
     "text": [
      "Cohere batches:   2%|▌                         | 4/200 [00:20<16:21,  5.01s/it]"
     ]
    },
    {
     "name": "stdout",
     "output_type": "stream",
     "text": [
      "[Cohere] Error at batch 20: BaseCohere.generate() got an unexpected keyword argument 'prompts'\n"
     ]
    },
    {
     "name": "stderr",
     "output_type": "stream",
     "text": [
      "Cohere batches:   2%|▋                         | 5/200 [00:25<16:17,  5.01s/it]"
     ]
    },
    {
     "name": "stdout",
     "output_type": "stream",
     "text": [
      "[Cohere] Error at batch 25: BaseCohere.generate() got an unexpected keyword argument 'prompts'\n"
     ]
    },
    {
     "name": "stderr",
     "output_type": "stream",
     "text": [
      "Cohere batches:   3%|▊                         | 6/200 [00:30<16:12,  5.01s/it]"
     ]
    },
    {
     "name": "stdout",
     "output_type": "stream",
     "text": [
      "[Cohere] Error at batch 30: BaseCohere.generate() got an unexpected keyword argument 'prompts'\n"
     ]
    },
    {
     "name": "stderr",
     "output_type": "stream",
     "text": [
      "Cohere batches:   4%|▉                         | 7/200 [00:35<16:07,  5.01s/it]"
     ]
    },
    {
     "name": "stdout",
     "output_type": "stream",
     "text": [
      "[Cohere] Error at batch 35: BaseCohere.generate() got an unexpected keyword argument 'prompts'\n"
     ]
    },
    {
     "name": "stderr",
     "output_type": "stream",
     "text": [
      "Cohere batches:   4%|█                         | 8/200 [00:40<16:01,  5.01s/it]"
     ]
    },
    {
     "name": "stdout",
     "output_type": "stream",
     "text": [
      "[Cohere] Error at batch 40: BaseCohere.generate() got an unexpected keyword argument 'prompts'\n"
     ]
    },
    {
     "name": "stderr",
     "output_type": "stream",
     "text": [
      "Cohere batches:   4%|█▏                        | 9/200 [00:45<15:56,  5.01s/it]"
     ]
    },
    {
     "name": "stdout",
     "output_type": "stream",
     "text": [
      "[Cohere] Error at batch 45: BaseCohere.generate() got an unexpected keyword argument 'prompts'\n"
     ]
    },
    {
     "name": "stderr",
     "output_type": "stream",
     "text": [
      "Cohere batches:   5%|█▎                       | 10/200 [00:50<15:51,  5.01s/it]"
     ]
    },
    {
     "name": "stdout",
     "output_type": "stream",
     "text": [
      "[Cohere] Error at batch 50: BaseCohere.generate() got an unexpected keyword argument 'prompts'\n"
     ]
    },
    {
     "name": "stderr",
     "output_type": "stream",
     "text": [
      "Cohere batches:   6%|█▍                       | 11/200 [00:55<15:46,  5.01s/it]"
     ]
    },
    {
     "name": "stdout",
     "output_type": "stream",
     "text": [
      "[Cohere] Error at batch 55: BaseCohere.generate() got an unexpected keyword argument 'prompts'\n"
     ]
    },
    {
     "name": "stderr",
     "output_type": "stream",
     "text": [
      "Cohere batches:   6%|█▌                       | 12/200 [01:00<15:41,  5.01s/it]"
     ]
    },
    {
     "name": "stdout",
     "output_type": "stream",
     "text": [
      "[Cohere] Error at batch 60: BaseCohere.generate() got an unexpected keyword argument 'prompts'\n"
     ]
    },
    {
     "name": "stderr",
     "output_type": "stream",
     "text": [
      "Cohere batches:   6%|█▋                       | 13/200 [01:05<15:37,  5.01s/it]"
     ]
    },
    {
     "name": "stdout",
     "output_type": "stream",
     "text": [
      "[Cohere] Error at batch 65: BaseCohere.generate() got an unexpected keyword argument 'prompts'\n"
     ]
    },
    {
     "name": "stderr",
     "output_type": "stream",
     "text": [
      "Cohere batches:   7%|█▊                       | 14/200 [01:10<15:32,  5.01s/it]"
     ]
    },
    {
     "name": "stdout",
     "output_type": "stream",
     "text": [
      "[Cohere] Error at batch 70: BaseCohere.generate() got an unexpected keyword argument 'prompts'\n"
     ]
    },
    {
     "name": "stderr",
     "output_type": "stream",
     "text": [
      "Cohere batches:   8%|█▉                       | 15/200 [01:15<15:26,  5.01s/it]"
     ]
    },
    {
     "name": "stdout",
     "output_type": "stream",
     "text": [
      "[Cohere] Error at batch 75: BaseCohere.generate() got an unexpected keyword argument 'prompts'\n"
     ]
    },
    {
     "name": "stderr",
     "output_type": "stream",
     "text": [
      "Cohere batches:   8%|██                       | 16/200 [01:20<15:21,  5.01s/it]"
     ]
    },
    {
     "name": "stdout",
     "output_type": "stream",
     "text": [
      "[Cohere] Error at batch 80: BaseCohere.generate() got an unexpected keyword argument 'prompts'\n"
     ]
    },
    {
     "name": "stderr",
     "output_type": "stream",
     "text": [
      "Cohere batches:   8%|██▏                      | 17/200 [01:25<15:16,  5.01s/it]"
     ]
    },
    {
     "name": "stdout",
     "output_type": "stream",
     "text": [
      "[Cohere] Error at batch 85: BaseCohere.generate() got an unexpected keyword argument 'prompts'\n"
     ]
    },
    {
     "name": "stderr",
     "output_type": "stream",
     "text": [
      "Cohere batches:   9%|██▎                      | 18/200 [01:30<15:11,  5.01s/it]"
     ]
    },
    {
     "name": "stdout",
     "output_type": "stream",
     "text": [
      "[Cohere] Error at batch 90: BaseCohere.generate() got an unexpected keyword argument 'prompts'\n"
     ]
    },
    {
     "name": "stderr",
     "output_type": "stream",
     "text": [
      "Cohere batches:  10%|██▍                      | 19/200 [01:35<15:06,  5.01s/it]"
     ]
    },
    {
     "name": "stdout",
     "output_type": "stream",
     "text": [
      "[Cohere] Error at batch 95: BaseCohere.generate() got an unexpected keyword argument 'prompts'\n"
     ]
    },
    {
     "name": "stderr",
     "output_type": "stream",
     "text": [
      "Cohere batches:  10%|██▌                      | 20/200 [01:40<15:01,  5.01s/it]"
     ]
    },
    {
     "name": "stdout",
     "output_type": "stream",
     "text": [
      "[Cohere] Error at batch 100: BaseCohere.generate() got an unexpected keyword argument 'prompts'\n"
     ]
    },
    {
     "name": "stderr",
     "output_type": "stream",
     "text": [
      "Cohere batches:  10%|██▋                      | 21/200 [01:45<14:56,  5.01s/it]"
     ]
    },
    {
     "name": "stdout",
     "output_type": "stream",
     "text": [
      "[Cohere] Error at batch 105: BaseCohere.generate() got an unexpected keyword argument 'prompts'\n"
     ]
    },
    {
     "name": "stderr",
     "output_type": "stream",
     "text": [
      "Cohere batches:  11%|██▊                      | 22/200 [01:50<14:51,  5.01s/it]"
     ]
    },
    {
     "name": "stdout",
     "output_type": "stream",
     "text": [
      "[Cohere] Error at batch 110: BaseCohere.generate() got an unexpected keyword argument 'prompts'\n"
     ]
    },
    {
     "name": "stderr",
     "output_type": "stream",
     "text": [
      "Cohere batches:  12%|██▉                      | 23/200 [01:55<14:46,  5.01s/it]"
     ]
    },
    {
     "name": "stdout",
     "output_type": "stream",
     "text": [
      "[Cohere] Error at batch 115: BaseCohere.generate() got an unexpected keyword argument 'prompts'\n"
     ]
    },
    {
     "name": "stderr",
     "output_type": "stream",
     "text": [
      "Cohere batches:  12%|███                      | 24/200 [02:00<14:41,  5.01s/it]"
     ]
    },
    {
     "name": "stdout",
     "output_type": "stream",
     "text": [
      "[Cohere] Error at batch 120: BaseCohere.generate() got an unexpected keyword argument 'prompts'\n"
     ]
    },
    {
     "name": "stderr",
     "output_type": "stream",
     "text": [
      "Cohere batches:  12%|███▏                     | 25/200 [02:05<14:36,  5.01s/it]"
     ]
    },
    {
     "name": "stdout",
     "output_type": "stream",
     "text": [
      "[Cohere] Error at batch 125: BaseCohere.generate() got an unexpected keyword argument 'prompts'\n"
     ]
    },
    {
     "name": "stderr",
     "output_type": "stream",
     "text": [
      "Cohere batches:  13%|███▎                     | 26/200 [02:10<14:31,  5.01s/it]"
     ]
    },
    {
     "name": "stdout",
     "output_type": "stream",
     "text": [
      "[Cohere] Error at batch 130: BaseCohere.generate() got an unexpected keyword argument 'prompts'\n"
     ]
    },
    {
     "name": "stderr",
     "output_type": "stream",
     "text": [
      "Cohere batches:  14%|███▍                     | 27/200 [02:15<14:26,  5.01s/it]"
     ]
    },
    {
     "name": "stdout",
     "output_type": "stream",
     "text": [
      "[Cohere] Error at batch 135: BaseCohere.generate() got an unexpected keyword argument 'prompts'\n"
     ]
    },
    {
     "name": "stderr",
     "output_type": "stream",
     "text": [
      "Cohere batches:  14%|███▌                     | 28/200 [02:20<14:21,  5.01s/it]"
     ]
    },
    {
     "name": "stdout",
     "output_type": "stream",
     "text": [
      "[Cohere] Error at batch 140: BaseCohere.generate() got an unexpected keyword argument 'prompts'\n"
     ]
    },
    {
     "name": "stderr",
     "output_type": "stream",
     "text": [
      "Cohere batches:  14%|███▌                     | 29/200 [02:25<14:16,  5.01s/it]"
     ]
    },
    {
     "name": "stdout",
     "output_type": "stream",
     "text": [
      "[Cohere] Error at batch 145: BaseCohere.generate() got an unexpected keyword argument 'prompts'\n"
     ]
    },
    {
     "name": "stderr",
     "output_type": "stream",
     "text": [
      "Cohere batches:  15%|███▊                     | 30/200 [02:30<14:11,  5.01s/it]"
     ]
    },
    {
     "name": "stdout",
     "output_type": "stream",
     "text": [
      "[Cohere] Error at batch 150: BaseCohere.generate() got an unexpected keyword argument 'prompts'\n"
     ]
    },
    {
     "name": "stderr",
     "output_type": "stream",
     "text": [
      "Cohere batches:  16%|███▉                     | 31/200 [02:35<14:06,  5.01s/it]"
     ]
    },
    {
     "name": "stdout",
     "output_type": "stream",
     "text": [
      "[Cohere] Error at batch 155: BaseCohere.generate() got an unexpected keyword argument 'prompts'\n"
     ]
    },
    {
     "name": "stderr",
     "output_type": "stream",
     "text": [
      "Cohere batches:  16%|████                     | 32/200 [02:40<14:01,  5.01s/it]"
     ]
    },
    {
     "name": "stdout",
     "output_type": "stream",
     "text": [
      "[Cohere] Error at batch 160: BaseCohere.generate() got an unexpected keyword argument 'prompts'\n"
     ]
    },
    {
     "name": "stderr",
     "output_type": "stream",
     "text": [
      "Cohere batches:  16%|████▏                    | 33/200 [02:45<13:56,  5.01s/it]"
     ]
    },
    {
     "name": "stdout",
     "output_type": "stream",
     "text": [
      "[Cohere] Error at batch 165: BaseCohere.generate() got an unexpected keyword argument 'prompts'\n"
     ]
    },
    {
     "name": "stderr",
     "output_type": "stream",
     "text": [
      "Cohere batches:  17%|████▎                    | 34/200 [02:50<13:51,  5.01s/it]"
     ]
    },
    {
     "name": "stdout",
     "output_type": "stream",
     "text": [
      "[Cohere] Error at batch 170: BaseCohere.generate() got an unexpected keyword argument 'prompts'\n"
     ]
    },
    {
     "name": "stderr",
     "output_type": "stream",
     "text": [
      "Cohere batches:  18%|████▍                    | 35/200 [02:55<13:46,  5.01s/it]"
     ]
    },
    {
     "name": "stdout",
     "output_type": "stream",
     "text": [
      "[Cohere] Error at batch 175: BaseCohere.generate() got an unexpected keyword argument 'prompts'\n"
     ]
    },
    {
     "name": "stderr",
     "output_type": "stream",
     "text": [
      "Cohere batches:  18%|████▌                    | 36/200 [03:00<13:41,  5.01s/it]"
     ]
    },
    {
     "name": "stdout",
     "output_type": "stream",
     "text": [
      "[Cohere] Error at batch 180: BaseCohere.generate() got an unexpected keyword argument 'prompts'\n"
     ]
    },
    {
     "name": "stderr",
     "output_type": "stream",
     "text": [
      "Cohere batches:  18%|████▋                    | 37/200 [03:05<13:36,  5.01s/it]"
     ]
    },
    {
     "name": "stdout",
     "output_type": "stream",
     "text": [
      "[Cohere] Error at batch 185: BaseCohere.generate() got an unexpected keyword argument 'prompts'\n"
     ]
    },
    {
     "name": "stderr",
     "output_type": "stream",
     "text": [
      "Cohere batches:  19%|████▊                    | 38/200 [03:10<13:31,  5.01s/it]"
     ]
    },
    {
     "name": "stdout",
     "output_type": "stream",
     "text": [
      "[Cohere] Error at batch 190: BaseCohere.generate() got an unexpected keyword argument 'prompts'\n"
     ]
    },
    {
     "name": "stderr",
     "output_type": "stream",
     "text": [
      "Cohere batches:  20%|████▉                    | 39/200 [03:15<13:26,  5.01s/it]"
     ]
    },
    {
     "name": "stdout",
     "output_type": "stream",
     "text": [
      "[Cohere] Error at batch 195: BaseCohere.generate() got an unexpected keyword argument 'prompts'\n"
     ]
    },
    {
     "name": "stderr",
     "output_type": "stream",
     "text": [
      "Cohere batches:  20%|█████                    | 40/200 [03:20<13:21,  5.01s/it]"
     ]
    },
    {
     "name": "stdout",
     "output_type": "stream",
     "text": [
      "[Cohere] Error at batch 200: BaseCohere.generate() got an unexpected keyword argument 'prompts'\n"
     ]
    },
    {
     "name": "stderr",
     "output_type": "stream",
     "text": [
      "Cohere batches:  20%|█████▏                   | 41/200 [03:25<13:16,  5.01s/it]"
     ]
    },
    {
     "name": "stdout",
     "output_type": "stream",
     "text": [
      "[Cohere] Error at batch 205: BaseCohere.generate() got an unexpected keyword argument 'prompts'\n"
     ]
    },
    {
     "name": "stderr",
     "output_type": "stream",
     "text": [
      "Cohere batches:  21%|█████▎                   | 42/200 [03:30<13:11,  5.01s/it]"
     ]
    },
    {
     "name": "stdout",
     "output_type": "stream",
     "text": [
      "[Cohere] Error at batch 210: BaseCohere.generate() got an unexpected keyword argument 'prompts'\n"
     ]
    },
    {
     "name": "stderr",
     "output_type": "stream",
     "text": [
      "Cohere batches:  22%|█████▍                   | 43/200 [03:35<13:06,  5.01s/it]"
     ]
    },
    {
     "name": "stdout",
     "output_type": "stream",
     "text": [
      "[Cohere] Error at batch 215: BaseCohere.generate() got an unexpected keyword argument 'prompts'\n"
     ]
    },
    {
     "name": "stderr",
     "output_type": "stream",
     "text": [
      "Cohere batches:  22%|█████▌                   | 44/200 [03:40<13:01,  5.01s/it]"
     ]
    },
    {
     "name": "stdout",
     "output_type": "stream",
     "text": [
      "[Cohere] Error at batch 220: BaseCohere.generate() got an unexpected keyword argument 'prompts'\n"
     ]
    },
    {
     "name": "stderr",
     "output_type": "stream",
     "text": [
      "Cohere batches:  22%|█████▋                   | 45/200 [03:45<12:56,  5.01s/it]"
     ]
    },
    {
     "name": "stdout",
     "output_type": "stream",
     "text": [
      "[Cohere] Error at batch 225: BaseCohere.generate() got an unexpected keyword argument 'prompts'\n"
     ]
    },
    {
     "name": "stderr",
     "output_type": "stream",
     "text": [
      "Cohere batches:  23%|█████▊                   | 46/200 [03:50<12:51,  5.01s/it]"
     ]
    },
    {
     "name": "stdout",
     "output_type": "stream",
     "text": [
      "[Cohere] Error at batch 230: BaseCohere.generate() got an unexpected keyword argument 'prompts'\n"
     ]
    },
    {
     "name": "stderr",
     "output_type": "stream",
     "text": [
      "Cohere batches:  24%|█████▉                   | 47/200 [03:55<12:46,  5.01s/it]"
     ]
    },
    {
     "name": "stdout",
     "output_type": "stream",
     "text": [
      "[Cohere] Error at batch 235: BaseCohere.generate() got an unexpected keyword argument 'prompts'\n"
     ]
    },
    {
     "name": "stderr",
     "output_type": "stream",
     "text": [
      "Cohere batches:  24%|██████                   | 48/200 [04:00<12:41,  5.01s/it]"
     ]
    },
    {
     "name": "stdout",
     "output_type": "stream",
     "text": [
      "[Cohere] Error at batch 240: BaseCohere.generate() got an unexpected keyword argument 'prompts'\n"
     ]
    },
    {
     "name": "stderr",
     "output_type": "stream",
     "text": [
      "Cohere batches:  24%|██████▏                  | 49/200 [04:05<12:36,  5.01s/it]"
     ]
    },
    {
     "name": "stdout",
     "output_type": "stream",
     "text": [
      "[Cohere] Error at batch 245: BaseCohere.generate() got an unexpected keyword argument 'prompts'\n"
     ]
    },
    {
     "name": "stderr",
     "output_type": "stream",
     "text": [
      "Cohere batches:  25%|██████▎                  | 50/200 [04:10<12:31,  5.01s/it]"
     ]
    },
    {
     "name": "stdout",
     "output_type": "stream",
     "text": [
      "[Cohere] Error at batch 250: BaseCohere.generate() got an unexpected keyword argument 'prompts'\n"
     ]
    },
    {
     "name": "stderr",
     "output_type": "stream",
     "text": [
      "Cohere batches:  26%|██████▍                  | 51/200 [04:15<12:26,  5.01s/it]"
     ]
    },
    {
     "name": "stdout",
     "output_type": "stream",
     "text": [
      "[Cohere] Error at batch 255: BaseCohere.generate() got an unexpected keyword argument 'prompts'\n"
     ]
    },
    {
     "name": "stderr",
     "output_type": "stream",
     "text": [
      "Cohere batches:  26%|██████▌                  | 52/200 [04:20<12:21,  5.01s/it]"
     ]
    },
    {
     "name": "stdout",
     "output_type": "stream",
     "text": [
      "[Cohere] Error at batch 260: BaseCohere.generate() got an unexpected keyword argument 'prompts'\n"
     ]
    },
    {
     "name": "stderr",
     "output_type": "stream",
     "text": [
      "Cohere batches:  26%|██████▋                  | 53/200 [04:25<12:16,  5.01s/it]"
     ]
    },
    {
     "name": "stdout",
     "output_type": "stream",
     "text": [
      "[Cohere] Error at batch 265: BaseCohere.generate() got an unexpected keyword argument 'prompts'\n"
     ]
    },
    {
     "name": "stderr",
     "output_type": "stream",
     "text": [
      "Cohere batches:  27%|██████▊                  | 54/200 [04:30<12:11,  5.01s/it]"
     ]
    },
    {
     "name": "stdout",
     "output_type": "stream",
     "text": [
      "[Cohere] Error at batch 270: BaseCohere.generate() got an unexpected keyword argument 'prompts'\n"
     ]
    },
    {
     "name": "stderr",
     "output_type": "stream",
     "text": [
      "Cohere batches:  28%|██████▉                  | 55/200 [04:35<12:06,  5.01s/it]"
     ]
    },
    {
     "name": "stdout",
     "output_type": "stream",
     "text": [
      "[Cohere] Error at batch 275: BaseCohere.generate() got an unexpected keyword argument 'prompts'\n"
     ]
    },
    {
     "name": "stderr",
     "output_type": "stream",
     "text": [
      "Cohere batches:  28%|███████                  | 56/200 [04:40<12:01,  5.01s/it]"
     ]
    },
    {
     "name": "stdout",
     "output_type": "stream",
     "text": [
      "[Cohere] Error at batch 280: BaseCohere.generate() got an unexpected keyword argument 'prompts'\n"
     ]
    },
    {
     "name": "stderr",
     "output_type": "stream",
     "text": [
      "Cohere batches:  28%|███████                  | 57/200 [04:45<11:56,  5.01s/it]"
     ]
    },
    {
     "name": "stdout",
     "output_type": "stream",
     "text": [
      "[Cohere] Error at batch 285: BaseCohere.generate() got an unexpected keyword argument 'prompts'\n"
     ]
    },
    {
     "name": "stderr",
     "output_type": "stream",
     "text": [
      "Cohere batches:  29%|███████▏                 | 58/200 [04:50<11:51,  5.01s/it]"
     ]
    },
    {
     "name": "stdout",
     "output_type": "stream",
     "text": [
      "[Cohere] Error at batch 290: BaseCohere.generate() got an unexpected keyword argument 'prompts'\n"
     ]
    },
    {
     "name": "stderr",
     "output_type": "stream",
     "text": [
      "Cohere batches:  30%|███████▍                 | 59/200 [04:55<11:46,  5.01s/it]"
     ]
    },
    {
     "name": "stdout",
     "output_type": "stream",
     "text": [
      "[Cohere] Error at batch 295: BaseCohere.generate() got an unexpected keyword argument 'prompts'\n"
     ]
    },
    {
     "name": "stderr",
     "output_type": "stream",
     "text": [
      "Cohere batches:  30%|███████▌                 | 60/200 [05:00<11:41,  5.01s/it]"
     ]
    },
    {
     "name": "stdout",
     "output_type": "stream",
     "text": [
      "[Cohere] Error at batch 300: BaseCohere.generate() got an unexpected keyword argument 'prompts'\n"
     ]
    },
    {
     "name": "stderr",
     "output_type": "stream",
     "text": [
      "Cohere batches:  30%|███████▋                 | 61/200 [05:05<11:36,  5.01s/it]"
     ]
    },
    {
     "name": "stdout",
     "output_type": "stream",
     "text": [
      "[Cohere] Error at batch 305: BaseCohere.generate() got an unexpected keyword argument 'prompts'\n"
     ]
    },
    {
     "name": "stderr",
     "output_type": "stream",
     "text": [
      "Cohere batches:  31%|███████▊                 | 62/200 [05:10<11:31,  5.01s/it]"
     ]
    },
    {
     "name": "stdout",
     "output_type": "stream",
     "text": [
      "[Cohere] Error at batch 310: BaseCohere.generate() got an unexpected keyword argument 'prompts'\n"
     ]
    },
    {
     "name": "stderr",
     "output_type": "stream",
     "text": [
      "Cohere batches:  32%|███████▉                 | 63/200 [05:15<11:26,  5.01s/it]"
     ]
    },
    {
     "name": "stdout",
     "output_type": "stream",
     "text": [
      "[Cohere] Error at batch 315: BaseCohere.generate() got an unexpected keyword argument 'prompts'\n"
     ]
    },
    {
     "name": "stderr",
     "output_type": "stream",
     "text": [
      "Cohere batches:  32%|████████                 | 64/200 [05:20<11:21,  5.01s/it]"
     ]
    },
    {
     "name": "stdout",
     "output_type": "stream",
     "text": [
      "[Cohere] Error at batch 320: BaseCohere.generate() got an unexpected keyword argument 'prompts'\n"
     ]
    },
    {
     "name": "stderr",
     "output_type": "stream",
     "text": [
      "Cohere batches:  32%|████████▏                | 65/200 [05:25<11:16,  5.01s/it]"
     ]
    },
    {
     "name": "stdout",
     "output_type": "stream",
     "text": [
      "[Cohere] Error at batch 325: BaseCohere.generate() got an unexpected keyword argument 'prompts'\n"
     ]
    },
    {
     "name": "stderr",
     "output_type": "stream",
     "text": [
      "Cohere batches:  33%|████████▎                | 66/200 [05:30<11:11,  5.01s/it]"
     ]
    },
    {
     "name": "stdout",
     "output_type": "stream",
     "text": [
      "[Cohere] Error at batch 330: BaseCohere.generate() got an unexpected keyword argument 'prompts'\n"
     ]
    },
    {
     "name": "stderr",
     "output_type": "stream",
     "text": [
      "Cohere batches:  34%|████████▍                | 67/200 [05:35<11:06,  5.01s/it]"
     ]
    },
    {
     "name": "stdout",
     "output_type": "stream",
     "text": [
      "[Cohere] Error at batch 335: BaseCohere.generate() got an unexpected keyword argument 'prompts'\n"
     ]
    },
    {
     "name": "stderr",
     "output_type": "stream",
     "text": [
      "Cohere batches:  34%|████████▌                | 68/200 [05:40<11:01,  5.01s/it]"
     ]
    },
    {
     "name": "stdout",
     "output_type": "stream",
     "text": [
      "[Cohere] Error at batch 340: BaseCohere.generate() got an unexpected keyword argument 'prompts'\n"
     ]
    },
    {
     "name": "stderr",
     "output_type": "stream",
     "text": [
      "Cohere batches:  34%|████████▋                | 69/200 [05:45<10:56,  5.01s/it]"
     ]
    },
    {
     "name": "stdout",
     "output_type": "stream",
     "text": [
      "[Cohere] Error at batch 345: BaseCohere.generate() got an unexpected keyword argument 'prompts'\n"
     ]
    },
    {
     "name": "stderr",
     "output_type": "stream",
     "text": [
      "Cohere batches:  35%|████████▊                | 70/200 [05:50<10:51,  5.01s/it]"
     ]
    },
    {
     "name": "stdout",
     "output_type": "stream",
     "text": [
      "[Cohere] Error at batch 350: BaseCohere.generate() got an unexpected keyword argument 'prompts'\n"
     ]
    },
    {
     "name": "stderr",
     "output_type": "stream",
     "text": [
      "Cohere batches:  36%|████████▉                | 71/200 [05:55<10:46,  5.01s/it]"
     ]
    },
    {
     "name": "stdout",
     "output_type": "stream",
     "text": [
      "[Cohere] Error at batch 355: BaseCohere.generate() got an unexpected keyword argument 'prompts'\n"
     ]
    },
    {
     "name": "stderr",
     "output_type": "stream",
     "text": [
      "Cohere batches:  36%|█████████                | 72/200 [06:00<10:41,  5.01s/it]"
     ]
    },
    {
     "name": "stdout",
     "output_type": "stream",
     "text": [
      "[Cohere] Error at batch 360: BaseCohere.generate() got an unexpected keyword argument 'prompts'\n"
     ]
    },
    {
     "name": "stderr",
     "output_type": "stream",
     "text": [
      "Cohere batches:  36%|█████████▏               | 73/200 [06:05<10:36,  5.01s/it]"
     ]
    },
    {
     "name": "stdout",
     "output_type": "stream",
     "text": [
      "[Cohere] Error at batch 365: BaseCohere.generate() got an unexpected keyword argument 'prompts'\n"
     ]
    },
    {
     "name": "stderr",
     "output_type": "stream",
     "text": [
      "Cohere batches:  37%|█████████▎               | 74/200 [06:10<10:31,  5.01s/it]"
     ]
    },
    {
     "name": "stdout",
     "output_type": "stream",
     "text": [
      "[Cohere] Error at batch 370: BaseCohere.generate() got an unexpected keyword argument 'prompts'\n"
     ]
    },
    {
     "name": "stderr",
     "output_type": "stream",
     "text": [
      "Cohere batches:  38%|█████████▍               | 75/200 [06:15<10:26,  5.01s/it]"
     ]
    },
    {
     "name": "stdout",
     "output_type": "stream",
     "text": [
      "[Cohere] Error at batch 375: BaseCohere.generate() got an unexpected keyword argument 'prompts'\n"
     ]
    },
    {
     "name": "stderr",
     "output_type": "stream",
     "text": [
      "Cohere batches:  38%|█████████▌               | 76/200 [06:20<10:21,  5.01s/it]"
     ]
    },
    {
     "name": "stdout",
     "output_type": "stream",
     "text": [
      "[Cohere] Error at batch 380: BaseCohere.generate() got an unexpected keyword argument 'prompts'\n"
     ]
    },
    {
     "name": "stderr",
     "output_type": "stream",
     "text": [
      "Cohere batches:  38%|█████████▋               | 77/200 [06:25<10:16,  5.01s/it]"
     ]
    },
    {
     "name": "stdout",
     "output_type": "stream",
     "text": [
      "[Cohere] Error at batch 385: BaseCohere.generate() got an unexpected keyword argument 'prompts'\n"
     ]
    },
    {
     "name": "stderr",
     "output_type": "stream",
     "text": [
      "Cohere batches:  39%|█████████▊               | 78/200 [06:30<10:11,  5.01s/it]"
     ]
    },
    {
     "name": "stdout",
     "output_type": "stream",
     "text": [
      "[Cohere] Error at batch 390: BaseCohere.generate() got an unexpected keyword argument 'prompts'\n"
     ]
    },
    {
     "name": "stderr",
     "output_type": "stream",
     "text": [
      "Cohere batches:  40%|█████████▉               | 79/200 [06:35<10:06,  5.01s/it]"
     ]
    },
    {
     "name": "stdout",
     "output_type": "stream",
     "text": [
      "[Cohere] Error at batch 395: BaseCohere.generate() got an unexpected keyword argument 'prompts'\n"
     ]
    },
    {
     "name": "stderr",
     "output_type": "stream",
     "text": [
      "Cohere batches:  40%|██████████               | 80/200 [06:40<10:01,  5.01s/it]"
     ]
    },
    {
     "name": "stdout",
     "output_type": "stream",
     "text": [
      "[Cohere] Error at batch 400: BaseCohere.generate() got an unexpected keyword argument 'prompts'\n"
     ]
    },
    {
     "name": "stderr",
     "output_type": "stream",
     "text": [
      "Cohere batches:  40%|██████████▏              | 81/200 [06:45<09:56,  5.01s/it]"
     ]
    },
    {
     "name": "stdout",
     "output_type": "stream",
     "text": [
      "[Cohere] Error at batch 405: BaseCohere.generate() got an unexpected keyword argument 'prompts'\n"
     ]
    },
    {
     "name": "stderr",
     "output_type": "stream",
     "text": [
      "Cohere batches:  41%|██████████▎              | 82/200 [06:50<09:51,  5.01s/it]"
     ]
    },
    {
     "name": "stdout",
     "output_type": "stream",
     "text": [
      "[Cohere] Error at batch 410: BaseCohere.generate() got an unexpected keyword argument 'prompts'\n"
     ]
    },
    {
     "name": "stderr",
     "output_type": "stream",
     "text": [
      "Cohere batches:  42%|██████████▍              | 83/200 [06:55<09:46,  5.01s/it]"
     ]
    },
    {
     "name": "stdout",
     "output_type": "stream",
     "text": [
      "[Cohere] Error at batch 415: BaseCohere.generate() got an unexpected keyword argument 'prompts'\n"
     ]
    },
    {
     "name": "stderr",
     "output_type": "stream",
     "text": [
      "Cohere batches:  42%|██████████▌              | 84/200 [07:00<09:41,  5.01s/it]"
     ]
    },
    {
     "name": "stdout",
     "output_type": "stream",
     "text": [
      "[Cohere] Error at batch 420: BaseCohere.generate() got an unexpected keyword argument 'prompts'\n"
     ]
    },
    {
     "name": "stderr",
     "output_type": "stream",
     "text": [
      "Cohere batches:  42%|██████████▋              | 85/200 [07:05<09:36,  5.01s/it]"
     ]
    },
    {
     "name": "stdout",
     "output_type": "stream",
     "text": [
      "[Cohere] Error at batch 425: BaseCohere.generate() got an unexpected keyword argument 'prompts'\n"
     ]
    },
    {
     "name": "stderr",
     "output_type": "stream",
     "text": [
      "Cohere batches:  43%|██████████▊              | 86/200 [07:10<09:31,  5.01s/it]"
     ]
    },
    {
     "name": "stdout",
     "output_type": "stream",
     "text": [
      "[Cohere] Error at batch 430: BaseCohere.generate() got an unexpected keyword argument 'prompts'\n"
     ]
    },
    {
     "name": "stderr",
     "output_type": "stream",
     "text": [
      "Cohere batches:  44%|██████████▉              | 87/200 [07:15<09:26,  5.01s/it]"
     ]
    },
    {
     "name": "stdout",
     "output_type": "stream",
     "text": [
      "[Cohere] Error at batch 435: BaseCohere.generate() got an unexpected keyword argument 'prompts'\n"
     ]
    },
    {
     "name": "stderr",
     "output_type": "stream",
     "text": [
      "Cohere batches:  44%|███████████              | 88/200 [07:20<09:21,  5.01s/it]"
     ]
    },
    {
     "name": "stdout",
     "output_type": "stream",
     "text": [
      "[Cohere] Error at batch 440: BaseCohere.generate() got an unexpected keyword argument 'prompts'\n"
     ]
    },
    {
     "name": "stderr",
     "output_type": "stream",
     "text": [
      "Cohere batches:  44%|███████████▏             | 89/200 [07:25<09:16,  5.01s/it]"
     ]
    },
    {
     "name": "stdout",
     "output_type": "stream",
     "text": [
      "[Cohere] Error at batch 445: BaseCohere.generate() got an unexpected keyword argument 'prompts'\n"
     ]
    },
    {
     "name": "stderr",
     "output_type": "stream",
     "text": [
      "Cohere batches:  45%|███████████▎             | 90/200 [07:30<09:11,  5.01s/it]"
     ]
    },
    {
     "name": "stdout",
     "output_type": "stream",
     "text": [
      "[Cohere] Error at batch 450: BaseCohere.generate() got an unexpected keyword argument 'prompts'\n"
     ]
    },
    {
     "name": "stderr",
     "output_type": "stream",
     "text": [
      "Cohere batches:  46%|███████████▍             | 91/200 [07:35<09:06,  5.01s/it]"
     ]
    },
    {
     "name": "stdout",
     "output_type": "stream",
     "text": [
      "[Cohere] Error at batch 455: BaseCohere.generate() got an unexpected keyword argument 'prompts'\n"
     ]
    },
    {
     "name": "stderr",
     "output_type": "stream",
     "text": [
      "Cohere batches:  46%|███████████▌             | 92/200 [07:40<09:01,  5.01s/it]"
     ]
    },
    {
     "name": "stdout",
     "output_type": "stream",
     "text": [
      "[Cohere] Error at batch 460: BaseCohere.generate() got an unexpected keyword argument 'prompts'\n"
     ]
    },
    {
     "name": "stderr",
     "output_type": "stream",
     "text": [
      "Cohere batches:  46%|███████████▋             | 93/200 [07:45<08:56,  5.01s/it]"
     ]
    },
    {
     "name": "stdout",
     "output_type": "stream",
     "text": [
      "[Cohere] Error at batch 465: BaseCohere.generate() got an unexpected keyword argument 'prompts'\n"
     ]
    },
    {
     "name": "stderr",
     "output_type": "stream",
     "text": [
      "Cohere batches:  47%|███████████▊             | 94/200 [07:50<08:51,  5.01s/it]"
     ]
    },
    {
     "name": "stdout",
     "output_type": "stream",
     "text": [
      "[Cohere] Error at batch 470: BaseCohere.generate() got an unexpected keyword argument 'prompts'\n"
     ]
    },
    {
     "name": "stderr",
     "output_type": "stream",
     "text": [
      "Cohere batches:  48%|███████████▉             | 95/200 [07:55<08:46,  5.01s/it]"
     ]
    },
    {
     "name": "stdout",
     "output_type": "stream",
     "text": [
      "[Cohere] Error at batch 475: BaseCohere.generate() got an unexpected keyword argument 'prompts'\n"
     ]
    },
    {
     "name": "stderr",
     "output_type": "stream",
     "text": [
      "Cohere batches:  48%|████████████             | 96/200 [08:00<08:41,  5.01s/it]"
     ]
    },
    {
     "name": "stdout",
     "output_type": "stream",
     "text": [
      "[Cohere] Error at batch 480: BaseCohere.generate() got an unexpected keyword argument 'prompts'\n"
     ]
    },
    {
     "name": "stderr",
     "output_type": "stream",
     "text": [
      "Cohere batches:  48%|████████████▏            | 97/200 [08:05<08:36,  5.01s/it]"
     ]
    },
    {
     "name": "stdout",
     "output_type": "stream",
     "text": [
      "[Cohere] Error at batch 485: BaseCohere.generate() got an unexpected keyword argument 'prompts'\n"
     ]
    },
    {
     "name": "stderr",
     "output_type": "stream",
     "text": [
      "Cohere batches:  49%|████████████▎            | 98/200 [08:10<08:31,  5.01s/it]"
     ]
    },
    {
     "name": "stdout",
     "output_type": "stream",
     "text": [
      "[Cohere] Error at batch 490: BaseCohere.generate() got an unexpected keyword argument 'prompts'\n"
     ]
    },
    {
     "name": "stderr",
     "output_type": "stream",
     "text": [
      "Cohere batches:  50%|████████████▍            | 99/200 [08:15<08:26,  5.01s/it]"
     ]
    },
    {
     "name": "stdout",
     "output_type": "stream",
     "text": [
      "[Cohere] Error at batch 495: BaseCohere.generate() got an unexpected keyword argument 'prompts'\n"
     ]
    },
    {
     "name": "stderr",
     "output_type": "stream",
     "text": [
      "Cohere batches:  50%|████████████            | 100/200 [08:20<08:20,  5.01s/it]"
     ]
    },
    {
     "name": "stdout",
     "output_type": "stream",
     "text": [
      "[Cohere] Error at batch 500: BaseCohere.generate() got an unexpected keyword argument 'prompts'\n"
     ]
    },
    {
     "name": "stderr",
     "output_type": "stream",
     "text": [
      "Cohere batches:  50%|████████████            | 101/200 [08:25<08:16,  5.01s/it]"
     ]
    },
    {
     "name": "stdout",
     "output_type": "stream",
     "text": [
      "[Cohere] Error at batch 505: BaseCohere.generate() got an unexpected keyword argument 'prompts'\n"
     ]
    },
    {
     "name": "stderr",
     "output_type": "stream",
     "text": [
      "Cohere batches:  51%|████████████▏           | 102/200 [08:30<08:11,  5.01s/it]"
     ]
    },
    {
     "name": "stdout",
     "output_type": "stream",
     "text": [
      "[Cohere] Error at batch 510: BaseCohere.generate() got an unexpected keyword argument 'prompts'\n"
     ]
    },
    {
     "name": "stderr",
     "output_type": "stream",
     "text": [
      "Cohere batches:  52%|████████████▎           | 103/200 [08:35<08:05,  5.01s/it]"
     ]
    },
    {
     "name": "stdout",
     "output_type": "stream",
     "text": [
      "[Cohere] Error at batch 515: BaseCohere.generate() got an unexpected keyword argument 'prompts'\n"
     ]
    },
    {
     "name": "stderr",
     "output_type": "stream",
     "text": [
      "Cohere batches:  52%|████████████▍           | 104/200 [08:40<08:00,  5.01s/it]"
     ]
    },
    {
     "name": "stdout",
     "output_type": "stream",
     "text": [
      "[Cohere] Error at batch 520: BaseCohere.generate() got an unexpected keyword argument 'prompts'\n"
     ]
    },
    {
     "name": "stderr",
     "output_type": "stream",
     "text": [
      "Cohere batches:  52%|████████████▌           | 105/200 [08:46<07:55,  5.01s/it]"
     ]
    },
    {
     "name": "stdout",
     "output_type": "stream",
     "text": [
      "[Cohere] Error at batch 525: BaseCohere.generate() got an unexpected keyword argument 'prompts'\n"
     ]
    },
    {
     "name": "stderr",
     "output_type": "stream",
     "text": [
      "Cohere batches:  53%|████████████▋           | 106/200 [08:51<07:50,  5.01s/it]"
     ]
    },
    {
     "name": "stdout",
     "output_type": "stream",
     "text": [
      "[Cohere] Error at batch 530: BaseCohere.generate() got an unexpected keyword argument 'prompts'\n"
     ]
    },
    {
     "name": "stderr",
     "output_type": "stream",
     "text": [
      "Cohere batches:  54%|████████████▊           | 107/200 [08:56<07:45,  5.01s/it]"
     ]
    },
    {
     "name": "stdout",
     "output_type": "stream",
     "text": [
      "[Cohere] Error at batch 535: BaseCohere.generate() got an unexpected keyword argument 'prompts'\n"
     ]
    },
    {
     "name": "stderr",
     "output_type": "stream",
     "text": [
      "Cohere batches:  54%|████████████▉           | 108/200 [09:01<07:40,  5.01s/it]"
     ]
    },
    {
     "name": "stdout",
     "output_type": "stream",
     "text": [
      "[Cohere] Error at batch 540: BaseCohere.generate() got an unexpected keyword argument 'prompts'\n"
     ]
    },
    {
     "name": "stderr",
     "output_type": "stream",
     "text": [
      "Cohere batches:  55%|█████████████           | 109/200 [09:06<07:36,  5.01s/it]"
     ]
    },
    {
     "name": "stdout",
     "output_type": "stream",
     "text": [
      "[Cohere] Error at batch 545: BaseCohere.generate() got an unexpected keyword argument 'prompts'\n"
     ]
    },
    {
     "name": "stderr",
     "output_type": "stream",
     "text": [
      "Cohere batches:  55%|█████████████▏          | 110/200 [09:11<07:30,  5.01s/it]"
     ]
    },
    {
     "name": "stdout",
     "output_type": "stream",
     "text": [
      "[Cohere] Error at batch 550: BaseCohere.generate() got an unexpected keyword argument 'prompts'\n"
     ]
    },
    {
     "name": "stderr",
     "output_type": "stream",
     "text": [
      "Cohere batches:  56%|█████████████▎          | 111/200 [09:16<07:25,  5.01s/it]"
     ]
    },
    {
     "name": "stdout",
     "output_type": "stream",
     "text": [
      "[Cohere] Error at batch 555: BaseCohere.generate() got an unexpected keyword argument 'prompts'\n"
     ]
    },
    {
     "name": "stderr",
     "output_type": "stream",
     "text": [
      "Cohere batches:  56%|█████████████▍          | 112/200 [09:21<07:20,  5.01s/it]"
     ]
    },
    {
     "name": "stdout",
     "output_type": "stream",
     "text": [
      "[Cohere] Error at batch 560: BaseCohere.generate() got an unexpected keyword argument 'prompts'\n"
     ]
    },
    {
     "name": "stderr",
     "output_type": "stream",
     "text": [
      "Cohere batches:  56%|█████████████▌          | 113/200 [09:26<07:15,  5.01s/it]"
     ]
    },
    {
     "name": "stdout",
     "output_type": "stream",
     "text": [
      "[Cohere] Error at batch 565: BaseCohere.generate() got an unexpected keyword argument 'prompts'\n"
     ]
    },
    {
     "name": "stderr",
     "output_type": "stream",
     "text": [
      "Cohere batches:  57%|█████████████▋          | 114/200 [09:31<07:10,  5.01s/it]"
     ]
    },
    {
     "name": "stdout",
     "output_type": "stream",
     "text": [
      "[Cohere] Error at batch 570: BaseCohere.generate() got an unexpected keyword argument 'prompts'\n"
     ]
    },
    {
     "name": "stderr",
     "output_type": "stream",
     "text": [
      "Cohere batches:  57%|█████████████▊          | 115/200 [09:36<07:05,  5.01s/it]"
     ]
    },
    {
     "name": "stdout",
     "output_type": "stream",
     "text": [
      "[Cohere] Error at batch 575: BaseCohere.generate() got an unexpected keyword argument 'prompts'\n"
     ]
    },
    {
     "name": "stderr",
     "output_type": "stream",
     "text": [
      "Cohere batches:  58%|█████████████▉          | 116/200 [09:41<07:00,  5.01s/it]"
     ]
    },
    {
     "name": "stdout",
     "output_type": "stream",
     "text": [
      "[Cohere] Error at batch 580: BaseCohere.generate() got an unexpected keyword argument 'prompts'\n"
     ]
    },
    {
     "name": "stderr",
     "output_type": "stream",
     "text": [
      "Cohere batches:  58%|██████████████          | 117/200 [09:46<06:55,  5.01s/it]"
     ]
    },
    {
     "name": "stdout",
     "output_type": "stream",
     "text": [
      "[Cohere] Error at batch 585: BaseCohere.generate() got an unexpected keyword argument 'prompts'\n"
     ]
    },
    {
     "name": "stderr",
     "output_type": "stream",
     "text": [
      "Cohere batches:  59%|██████████████▏         | 118/200 [09:51<06:50,  5.01s/it]"
     ]
    },
    {
     "name": "stdout",
     "output_type": "stream",
     "text": [
      "[Cohere] Error at batch 590: BaseCohere.generate() got an unexpected keyword argument 'prompts'\n"
     ]
    },
    {
     "name": "stderr",
     "output_type": "stream",
     "text": [
      "Cohere batches:  60%|██████████████▎         | 119/200 [09:56<06:45,  5.01s/it]"
     ]
    },
    {
     "name": "stdout",
     "output_type": "stream",
     "text": [
      "[Cohere] Error at batch 595: BaseCohere.generate() got an unexpected keyword argument 'prompts'\n"
     ]
    },
    {
     "name": "stderr",
     "output_type": "stream",
     "text": [
      "Cohere batches:  60%|██████████████▍         | 120/200 [10:01<06:40,  5.01s/it]"
     ]
    },
    {
     "name": "stdout",
     "output_type": "stream",
     "text": [
      "[Cohere] Error at batch 600: BaseCohere.generate() got an unexpected keyword argument 'prompts'\n"
     ]
    },
    {
     "name": "stderr",
     "output_type": "stream",
     "text": [
      "Cohere batches:  60%|██████████████▌         | 121/200 [10:06<06:35,  5.01s/it]"
     ]
    },
    {
     "name": "stdout",
     "output_type": "stream",
     "text": [
      "[Cohere] Error at batch 605: BaseCohere.generate() got an unexpected keyword argument 'prompts'\n"
     ]
    },
    {
     "name": "stderr",
     "output_type": "stream",
     "text": [
      "Cohere batches:  61%|██████████████▋         | 122/200 [10:11<06:30,  5.01s/it]"
     ]
    },
    {
     "name": "stdout",
     "output_type": "stream",
     "text": [
      "[Cohere] Error at batch 610: BaseCohere.generate() got an unexpected keyword argument 'prompts'\n"
     ]
    },
    {
     "name": "stderr",
     "output_type": "stream",
     "text": [
      "Cohere batches:  62%|██████████████▊         | 123/200 [10:16<06:25,  5.01s/it]"
     ]
    },
    {
     "name": "stdout",
     "output_type": "stream",
     "text": [
      "[Cohere] Error at batch 615: BaseCohere.generate() got an unexpected keyword argument 'prompts'\n"
     ]
    },
    {
     "name": "stderr",
     "output_type": "stream",
     "text": [
      "Cohere batches:  62%|██████████████▉         | 124/200 [10:21<06:20,  5.01s/it]"
     ]
    },
    {
     "name": "stdout",
     "output_type": "stream",
     "text": [
      "[Cohere] Error at batch 620: BaseCohere.generate() got an unexpected keyword argument 'prompts'\n"
     ]
    },
    {
     "name": "stderr",
     "output_type": "stream",
     "text": [
      "Cohere batches:  62%|███████████████         | 125/200 [10:26<06:15,  5.01s/it]"
     ]
    },
    {
     "name": "stdout",
     "output_type": "stream",
     "text": [
      "[Cohere] Error at batch 625: BaseCohere.generate() got an unexpected keyword argument 'prompts'\n"
     ]
    },
    {
     "name": "stderr",
     "output_type": "stream",
     "text": [
      "Cohere batches:  63%|███████████████         | 126/200 [10:31<06:10,  5.01s/it]"
     ]
    },
    {
     "name": "stdout",
     "output_type": "stream",
     "text": [
      "[Cohere] Error at batch 630: BaseCohere.generate() got an unexpected keyword argument 'prompts'\n"
     ]
    },
    {
     "name": "stderr",
     "output_type": "stream",
     "text": [
      "Cohere batches:  64%|███████████████▏        | 127/200 [10:36<06:05,  5.01s/it]"
     ]
    },
    {
     "name": "stdout",
     "output_type": "stream",
     "text": [
      "[Cohere] Error at batch 635: BaseCohere.generate() got an unexpected keyword argument 'prompts'\n"
     ]
    },
    {
     "name": "stderr",
     "output_type": "stream",
     "text": [
      "Cohere batches:  64%|███████████████▎        | 128/200 [10:41<06:00,  5.01s/it]"
     ]
    },
    {
     "name": "stdout",
     "output_type": "stream",
     "text": [
      "[Cohere] Error at batch 640: BaseCohere.generate() got an unexpected keyword argument 'prompts'\n"
     ]
    },
    {
     "name": "stderr",
     "output_type": "stream",
     "text": [
      "Cohere batches:  64%|███████████████▍        | 129/200 [10:46<05:55,  5.01s/it]"
     ]
    },
    {
     "name": "stdout",
     "output_type": "stream",
     "text": [
      "[Cohere] Error at batch 645: BaseCohere.generate() got an unexpected keyword argument 'prompts'\n"
     ]
    },
    {
     "name": "stderr",
     "output_type": "stream",
     "text": [
      "Cohere batches:  65%|███████████████▌        | 130/200 [10:51<05:50,  5.01s/it]"
     ]
    },
    {
     "name": "stdout",
     "output_type": "stream",
     "text": [
      "[Cohere] Error at batch 650: BaseCohere.generate() got an unexpected keyword argument 'prompts'\n"
     ]
    },
    {
     "name": "stderr",
     "output_type": "stream",
     "text": [
      "Cohere batches:  66%|███████████████▋        | 131/200 [10:56<05:45,  5.01s/it]"
     ]
    },
    {
     "name": "stdout",
     "output_type": "stream",
     "text": [
      "[Cohere] Error at batch 655: BaseCohere.generate() got an unexpected keyword argument 'prompts'\n"
     ]
    },
    {
     "name": "stderr",
     "output_type": "stream",
     "text": [
      "Cohere batches:  66%|███████████████▊        | 132/200 [11:01<05:40,  5.01s/it]"
     ]
    },
    {
     "name": "stdout",
     "output_type": "stream",
     "text": [
      "[Cohere] Error at batch 660: BaseCohere.generate() got an unexpected keyword argument 'prompts'\n"
     ]
    },
    {
     "name": "stderr",
     "output_type": "stream",
     "text": [
      "Cohere batches:  66%|███████████████▉        | 133/200 [11:06<05:35,  5.01s/it]"
     ]
    },
    {
     "name": "stdout",
     "output_type": "stream",
     "text": [
      "[Cohere] Error at batch 665: BaseCohere.generate() got an unexpected keyword argument 'prompts'\n"
     ]
    },
    {
     "name": "stderr",
     "output_type": "stream",
     "text": [
      "Cohere batches:  67%|████████████████        | 134/200 [11:11<05:30,  5.01s/it]"
     ]
    },
    {
     "name": "stdout",
     "output_type": "stream",
     "text": [
      "[Cohere] Error at batch 670: BaseCohere.generate() got an unexpected keyword argument 'prompts'\n"
     ]
    },
    {
     "name": "stderr",
     "output_type": "stream",
     "text": [
      "Cohere batches:  68%|████████████████▏       | 135/200 [11:16<05:25,  5.01s/it]"
     ]
    },
    {
     "name": "stdout",
     "output_type": "stream",
     "text": [
      "[Cohere] Error at batch 675: BaseCohere.generate() got an unexpected keyword argument 'prompts'\n"
     ]
    },
    {
     "name": "stderr",
     "output_type": "stream",
     "text": [
      "Cohere batches:  68%|████████████████▎       | 136/200 [11:21<05:20,  5.01s/it]"
     ]
    },
    {
     "name": "stdout",
     "output_type": "stream",
     "text": [
      "[Cohere] Error at batch 680: BaseCohere.generate() got an unexpected keyword argument 'prompts'\n"
     ]
    },
    {
     "name": "stderr",
     "output_type": "stream",
     "text": [
      "Cohere batches:  68%|████████████████▍       | 137/200 [11:26<05:15,  5.01s/it]"
     ]
    },
    {
     "name": "stdout",
     "output_type": "stream",
     "text": [
      "[Cohere] Error at batch 685: BaseCohere.generate() got an unexpected keyword argument 'prompts'\n"
     ]
    },
    {
     "name": "stderr",
     "output_type": "stream",
     "text": [
      "Cohere batches:  69%|████████████████▌       | 138/200 [11:31<05:10,  5.01s/it]"
     ]
    },
    {
     "name": "stdout",
     "output_type": "stream",
     "text": [
      "[Cohere] Error at batch 690: BaseCohere.generate() got an unexpected keyword argument 'prompts'\n"
     ]
    },
    {
     "name": "stderr",
     "output_type": "stream",
     "text": [
      "Cohere batches:  70%|████████████████▋       | 139/200 [11:36<05:05,  5.01s/it]"
     ]
    },
    {
     "name": "stdout",
     "output_type": "stream",
     "text": [
      "[Cohere] Error at batch 695: BaseCohere.generate() got an unexpected keyword argument 'prompts'\n"
     ]
    },
    {
     "name": "stderr",
     "output_type": "stream",
     "text": [
      "Cohere batches:  70%|████████████████▊       | 140/200 [11:41<05:00,  5.01s/it]"
     ]
    },
    {
     "name": "stdout",
     "output_type": "stream",
     "text": [
      "[Cohere] Error at batch 700: BaseCohere.generate() got an unexpected keyword argument 'prompts'\n"
     ]
    },
    {
     "name": "stderr",
     "output_type": "stream",
     "text": [
      "Cohere batches:  70%|████████████████▉       | 141/200 [11:46<04:55,  5.01s/it]"
     ]
    },
    {
     "name": "stdout",
     "output_type": "stream",
     "text": [
      "[Cohere] Error at batch 705: BaseCohere.generate() got an unexpected keyword argument 'prompts'\n"
     ]
    },
    {
     "name": "stderr",
     "output_type": "stream",
     "text": [
      "Cohere batches:  71%|█████████████████       | 142/200 [11:51<04:50,  5.01s/it]"
     ]
    },
    {
     "name": "stdout",
     "output_type": "stream",
     "text": [
      "[Cohere] Error at batch 710: BaseCohere.generate() got an unexpected keyword argument 'prompts'\n"
     ]
    },
    {
     "name": "stderr",
     "output_type": "stream",
     "text": [
      "Cohere batches:  72%|█████████████████▏      | 143/200 [11:56<04:45,  5.01s/it]"
     ]
    },
    {
     "name": "stdout",
     "output_type": "stream",
     "text": [
      "[Cohere] Error at batch 715: BaseCohere.generate() got an unexpected keyword argument 'prompts'\n"
     ]
    },
    {
     "name": "stderr",
     "output_type": "stream",
     "text": [
      "Cohere batches:  72%|█████████████████▎      | 144/200 [12:01<04:40,  5.01s/it]"
     ]
    },
    {
     "name": "stdout",
     "output_type": "stream",
     "text": [
      "[Cohere] Error at batch 720: BaseCohere.generate() got an unexpected keyword argument 'prompts'\n"
     ]
    },
    {
     "name": "stderr",
     "output_type": "stream",
     "text": [
      "Cohere batches:  72%|█████████████████▍      | 145/200 [12:06<04:35,  5.01s/it]"
     ]
    },
    {
     "name": "stdout",
     "output_type": "stream",
     "text": [
      "[Cohere] Error at batch 725: BaseCohere.generate() got an unexpected keyword argument 'prompts'\n"
     ]
    },
    {
     "name": "stderr",
     "output_type": "stream",
     "text": [
      "Cohere batches:  73%|█████████████████▌      | 146/200 [12:11<04:30,  5.01s/it]"
     ]
    },
    {
     "name": "stdout",
     "output_type": "stream",
     "text": [
      "[Cohere] Error at batch 730: BaseCohere.generate() got an unexpected keyword argument 'prompts'\n"
     ]
    },
    {
     "name": "stderr",
     "output_type": "stream",
     "text": [
      "Cohere batches:  74%|█████████████████▋      | 147/200 [12:16<04:25,  5.01s/it]"
     ]
    },
    {
     "name": "stdout",
     "output_type": "stream",
     "text": [
      "[Cohere] Error at batch 735: BaseCohere.generate() got an unexpected keyword argument 'prompts'\n"
     ]
    },
    {
     "name": "stderr",
     "output_type": "stream",
     "text": [
      "Cohere batches:  74%|█████████████████▊      | 148/200 [12:21<04:20,  5.01s/it]"
     ]
    },
    {
     "name": "stdout",
     "output_type": "stream",
     "text": [
      "[Cohere] Error at batch 740: BaseCohere.generate() got an unexpected keyword argument 'prompts'\n"
     ]
    },
    {
     "name": "stderr",
     "output_type": "stream",
     "text": [
      "Cohere batches:  74%|█████████████████▉      | 149/200 [12:26<04:15,  5.01s/it]"
     ]
    },
    {
     "name": "stdout",
     "output_type": "stream",
     "text": [
      "[Cohere] Error at batch 745: BaseCohere.generate() got an unexpected keyword argument 'prompts'\n"
     ]
    },
    {
     "name": "stderr",
     "output_type": "stream",
     "text": [
      "Cohere batches:  75%|██████████████████      | 150/200 [12:31<04:10,  5.01s/it]"
     ]
    },
    {
     "name": "stdout",
     "output_type": "stream",
     "text": [
      "[Cohere] Error at batch 750: BaseCohere.generate() got an unexpected keyword argument 'prompts'\n"
     ]
    },
    {
     "name": "stderr",
     "output_type": "stream",
     "text": [
      "Cohere batches:  76%|██████████████████      | 151/200 [12:36<04:05,  5.01s/it]"
     ]
    },
    {
     "name": "stdout",
     "output_type": "stream",
     "text": [
      "[Cohere] Error at batch 755: BaseCohere.generate() got an unexpected keyword argument 'prompts'\n"
     ]
    },
    {
     "name": "stderr",
     "output_type": "stream",
     "text": [
      "Cohere batches:  76%|██████████████████▏     | 152/200 [12:41<04:00,  5.01s/it]"
     ]
    },
    {
     "name": "stdout",
     "output_type": "stream",
     "text": [
      "[Cohere] Error at batch 760: BaseCohere.generate() got an unexpected keyword argument 'prompts'\n"
     ]
    },
    {
     "name": "stderr",
     "output_type": "stream",
     "text": [
      "Cohere batches:  76%|██████████████████▎     | 153/200 [12:46<03:55,  5.01s/it]"
     ]
    },
    {
     "name": "stdout",
     "output_type": "stream",
     "text": [
      "[Cohere] Error at batch 765: BaseCohere.generate() got an unexpected keyword argument 'prompts'\n"
     ]
    },
    {
     "name": "stderr",
     "output_type": "stream",
     "text": [
      "Cohere batches:  77%|██████████████████▍     | 154/200 [12:51<03:50,  5.01s/it]"
     ]
    },
    {
     "name": "stdout",
     "output_type": "stream",
     "text": [
      "[Cohere] Error at batch 770: BaseCohere.generate() got an unexpected keyword argument 'prompts'\n"
     ]
    },
    {
     "name": "stderr",
     "output_type": "stream",
     "text": [
      "Cohere batches:  78%|██████████████████▌     | 155/200 [12:56<03:45,  5.01s/it]"
     ]
    },
    {
     "name": "stdout",
     "output_type": "stream",
     "text": [
      "[Cohere] Error at batch 775: BaseCohere.generate() got an unexpected keyword argument 'prompts'\n"
     ]
    },
    {
     "name": "stderr",
     "output_type": "stream",
     "text": [
      "Cohere batches:  78%|██████████████████▋     | 156/200 [13:01<03:40,  5.01s/it]"
     ]
    },
    {
     "name": "stdout",
     "output_type": "stream",
     "text": [
      "[Cohere] Error at batch 780: BaseCohere.generate() got an unexpected keyword argument 'prompts'\n"
     ]
    },
    {
     "name": "stderr",
     "output_type": "stream",
     "text": [
      "Cohere batches:  78%|██████████████████▊     | 157/200 [13:06<03:35,  5.01s/it]"
     ]
    },
    {
     "name": "stdout",
     "output_type": "stream",
     "text": [
      "[Cohere] Error at batch 785: BaseCohere.generate() got an unexpected keyword argument 'prompts'\n"
     ]
    },
    {
     "name": "stderr",
     "output_type": "stream",
     "text": [
      "Cohere batches:  79%|██████████████████▉     | 158/200 [13:11<03:30,  5.01s/it]"
     ]
    },
    {
     "name": "stdout",
     "output_type": "stream",
     "text": [
      "[Cohere] Error at batch 790: BaseCohere.generate() got an unexpected keyword argument 'prompts'\n"
     ]
    },
    {
     "name": "stderr",
     "output_type": "stream",
     "text": [
      "Cohere batches:  80%|███████████████████     | 159/200 [13:16<03:25,  5.01s/it]"
     ]
    },
    {
     "name": "stdout",
     "output_type": "stream",
     "text": [
      "[Cohere] Error at batch 795: BaseCohere.generate() got an unexpected keyword argument 'prompts'\n"
     ]
    },
    {
     "name": "stderr",
     "output_type": "stream",
     "text": [
      "Cohere batches:  80%|███████████████████▏    | 160/200 [13:21<03:20,  5.01s/it]"
     ]
    },
    {
     "name": "stdout",
     "output_type": "stream",
     "text": [
      "[Cohere] Error at batch 800: BaseCohere.generate() got an unexpected keyword argument 'prompts'\n"
     ]
    },
    {
     "name": "stderr",
     "output_type": "stream",
     "text": [
      "Cohere batches:  80%|███████████████████▎    | 161/200 [13:26<03:15,  5.01s/it]"
     ]
    },
    {
     "name": "stdout",
     "output_type": "stream",
     "text": [
      "[Cohere] Error at batch 805: BaseCohere.generate() got an unexpected keyword argument 'prompts'\n"
     ]
    },
    {
     "name": "stderr",
     "output_type": "stream",
     "text": [
      "Cohere batches:  81%|███████████████████▍    | 162/200 [13:31<03:10,  5.01s/it]"
     ]
    },
    {
     "name": "stdout",
     "output_type": "stream",
     "text": [
      "[Cohere] Error at batch 810: BaseCohere.generate() got an unexpected keyword argument 'prompts'\n"
     ]
    },
    {
     "name": "stderr",
     "output_type": "stream",
     "text": [
      "Cohere batches:  82%|███████████████████▌    | 163/200 [13:36<03:05,  5.01s/it]"
     ]
    },
    {
     "name": "stdout",
     "output_type": "stream",
     "text": [
      "[Cohere] Error at batch 815: BaseCohere.generate() got an unexpected keyword argument 'prompts'\n"
     ]
    },
    {
     "name": "stderr",
     "output_type": "stream",
     "text": [
      "Cohere batches:  82%|███████████████████▋    | 164/200 [13:41<03:00,  5.01s/it]"
     ]
    },
    {
     "name": "stdout",
     "output_type": "stream",
     "text": [
      "[Cohere] Error at batch 820: BaseCohere.generate() got an unexpected keyword argument 'prompts'\n"
     ]
    },
    {
     "name": "stderr",
     "output_type": "stream",
     "text": [
      "Cohere batches:  82%|███████████████████▊    | 165/200 [13:46<02:55,  5.01s/it]"
     ]
    },
    {
     "name": "stdout",
     "output_type": "stream",
     "text": [
      "[Cohere] Error at batch 825: BaseCohere.generate() got an unexpected keyword argument 'prompts'\n"
     ]
    },
    {
     "name": "stderr",
     "output_type": "stream",
     "text": [
      "Cohere batches:  83%|███████████████████▉    | 166/200 [13:51<02:50,  5.01s/it]"
     ]
    },
    {
     "name": "stdout",
     "output_type": "stream",
     "text": [
      "[Cohere] Error at batch 830: BaseCohere.generate() got an unexpected keyword argument 'prompts'\n"
     ]
    },
    {
     "name": "stderr",
     "output_type": "stream",
     "text": [
      "Cohere batches:  84%|████████████████████    | 167/200 [13:56<02:45,  5.01s/it]"
     ]
    },
    {
     "name": "stdout",
     "output_type": "stream",
     "text": [
      "[Cohere] Error at batch 835: BaseCohere.generate() got an unexpected keyword argument 'prompts'\n"
     ]
    },
    {
     "name": "stderr",
     "output_type": "stream",
     "text": [
      "Cohere batches:  84%|████████████████████▏   | 168/200 [14:01<02:40,  5.01s/it]"
     ]
    },
    {
     "name": "stdout",
     "output_type": "stream",
     "text": [
      "[Cohere] Error at batch 840: BaseCohere.generate() got an unexpected keyword argument 'prompts'\n"
     ]
    },
    {
     "name": "stderr",
     "output_type": "stream",
     "text": [
      "Cohere batches:  84%|████████████████████▎   | 169/200 [14:06<02:35,  5.01s/it]"
     ]
    },
    {
     "name": "stdout",
     "output_type": "stream",
     "text": [
      "[Cohere] Error at batch 845: BaseCohere.generate() got an unexpected keyword argument 'prompts'\n"
     ]
    },
    {
     "name": "stderr",
     "output_type": "stream",
     "text": [
      "Cohere batches:  85%|████████████████████▍   | 170/200 [14:11<02:30,  5.01s/it]"
     ]
    },
    {
     "name": "stdout",
     "output_type": "stream",
     "text": [
      "[Cohere] Error at batch 850: BaseCohere.generate() got an unexpected keyword argument 'prompts'\n"
     ]
    },
    {
     "name": "stderr",
     "output_type": "stream",
     "text": [
      "Cohere batches:  86%|████████████████████▌   | 171/200 [14:16<02:25,  5.01s/it]"
     ]
    },
    {
     "name": "stdout",
     "output_type": "stream",
     "text": [
      "[Cohere] Error at batch 855: BaseCohere.generate() got an unexpected keyword argument 'prompts'\n"
     ]
    },
    {
     "name": "stderr",
     "output_type": "stream",
     "text": [
      "Cohere batches:  86%|████████████████████▋   | 172/200 [14:21<02:20,  5.01s/it]"
     ]
    },
    {
     "name": "stdout",
     "output_type": "stream",
     "text": [
      "[Cohere] Error at batch 860: BaseCohere.generate() got an unexpected keyword argument 'prompts'\n"
     ]
    },
    {
     "name": "stderr",
     "output_type": "stream",
     "text": [
      "Cohere batches:  86%|████████████████████▊   | 173/200 [14:26<02:15,  5.01s/it]"
     ]
    },
    {
     "name": "stdout",
     "output_type": "stream",
     "text": [
      "[Cohere] Error at batch 865: BaseCohere.generate() got an unexpected keyword argument 'prompts'\n"
     ]
    },
    {
     "name": "stderr",
     "output_type": "stream",
     "text": [
      "Cohere batches:  87%|████████████████████▉   | 174/200 [14:31<02:10,  5.01s/it]"
     ]
    },
    {
     "name": "stdout",
     "output_type": "stream",
     "text": [
      "[Cohere] Error at batch 870: BaseCohere.generate() got an unexpected keyword argument 'prompts'\n"
     ]
    },
    {
     "name": "stderr",
     "output_type": "stream",
     "text": [
      "Cohere batches:  88%|█████████████████████   | 175/200 [14:36<02:05,  5.01s/it]"
     ]
    },
    {
     "name": "stdout",
     "output_type": "stream",
     "text": [
      "[Cohere] Error at batch 875: BaseCohere.generate() got an unexpected keyword argument 'prompts'\n"
     ]
    },
    {
     "name": "stderr",
     "output_type": "stream",
     "text": [
      "Cohere batches:  88%|█████████████████████   | 176/200 [14:41<02:00,  5.01s/it]"
     ]
    },
    {
     "name": "stdout",
     "output_type": "stream",
     "text": [
      "[Cohere] Error at batch 880: BaseCohere.generate() got an unexpected keyword argument 'prompts'\n"
     ]
    },
    {
     "name": "stderr",
     "output_type": "stream",
     "text": [
      "Cohere batches:  88%|█████████████████████▏  | 177/200 [14:46<01:55,  5.01s/it]"
     ]
    },
    {
     "name": "stdout",
     "output_type": "stream",
     "text": [
      "[Cohere] Error at batch 885: BaseCohere.generate() got an unexpected keyword argument 'prompts'\n"
     ]
    },
    {
     "name": "stderr",
     "output_type": "stream",
     "text": [
      "Cohere batches:  89%|█████████████████████▎  | 178/200 [14:51<01:50,  5.01s/it]"
     ]
    },
    {
     "name": "stdout",
     "output_type": "stream",
     "text": [
      "[Cohere] Error at batch 890: BaseCohere.generate() got an unexpected keyword argument 'prompts'\n"
     ]
    },
    {
     "name": "stderr",
     "output_type": "stream",
     "text": [
      "Cohere batches:  90%|█████████████████████▍  | 179/200 [14:56<01:45,  5.01s/it]"
     ]
    },
    {
     "name": "stdout",
     "output_type": "stream",
     "text": [
      "[Cohere] Error at batch 895: BaseCohere.generate() got an unexpected keyword argument 'prompts'\n"
     ]
    },
    {
     "name": "stderr",
     "output_type": "stream",
     "text": [
      "Cohere batches:  90%|█████████████████████▌  | 180/200 [15:01<01:40,  5.01s/it]"
     ]
    },
    {
     "name": "stdout",
     "output_type": "stream",
     "text": [
      "[Cohere] Error at batch 900: BaseCohere.generate() got an unexpected keyword argument 'prompts'\n"
     ]
    },
    {
     "name": "stderr",
     "output_type": "stream",
     "text": [
      "Cohere batches:  90%|█████████████████████▋  | 181/200 [15:06<01:35,  5.01s/it]"
     ]
    },
    {
     "name": "stdout",
     "output_type": "stream",
     "text": [
      "[Cohere] Error at batch 905: BaseCohere.generate() got an unexpected keyword argument 'prompts'\n"
     ]
    },
    {
     "name": "stderr",
     "output_type": "stream",
     "text": [
      "Cohere batches:  91%|█████████████████████▊  | 182/200 [15:11<01:30,  5.01s/it]"
     ]
    },
    {
     "name": "stdout",
     "output_type": "stream",
     "text": [
      "[Cohere] Error at batch 910: BaseCohere.generate() got an unexpected keyword argument 'prompts'\n"
     ]
    },
    {
     "name": "stderr",
     "output_type": "stream",
     "text": [
      "Cohere batches:  92%|█████████████████████▉  | 183/200 [15:16<01:25,  5.01s/it]"
     ]
    },
    {
     "name": "stdout",
     "output_type": "stream",
     "text": [
      "[Cohere] Error at batch 915: BaseCohere.generate() got an unexpected keyword argument 'prompts'\n"
     ]
    },
    {
     "name": "stderr",
     "output_type": "stream",
     "text": [
      "Cohere batches:  92%|██████████████████████  | 184/200 [15:21<01:20,  5.01s/it]"
     ]
    },
    {
     "name": "stdout",
     "output_type": "stream",
     "text": [
      "[Cohere] Error at batch 920: BaseCohere.generate() got an unexpected keyword argument 'prompts'\n"
     ]
    },
    {
     "name": "stderr",
     "output_type": "stream",
     "text": [
      "Cohere batches:  92%|██████████████████████▏ | 185/200 [15:26<01:15,  5.01s/it]"
     ]
    },
    {
     "name": "stdout",
     "output_type": "stream",
     "text": [
      "[Cohere] Error at batch 925: BaseCohere.generate() got an unexpected keyword argument 'prompts'\n"
     ]
    },
    {
     "name": "stderr",
     "output_type": "stream",
     "text": [
      "Cohere batches:  93%|██████████████████████▎ | 186/200 [15:31<01:10,  5.01s/it]"
     ]
    },
    {
     "name": "stdout",
     "output_type": "stream",
     "text": [
      "[Cohere] Error at batch 930: BaseCohere.generate() got an unexpected keyword argument 'prompts'\n"
     ]
    },
    {
     "name": "stderr",
     "output_type": "stream",
     "text": [
      "Cohere batches:  94%|██████████████████████▍ | 187/200 [15:36<01:05,  5.01s/it]"
     ]
    },
    {
     "name": "stdout",
     "output_type": "stream",
     "text": [
      "[Cohere] Error at batch 935: BaseCohere.generate() got an unexpected keyword argument 'prompts'\n"
     ]
    },
    {
     "name": "stderr",
     "output_type": "stream",
     "text": [
      "Cohere batches:  94%|██████████████████████▌ | 188/200 [15:41<01:00,  5.01s/it]"
     ]
    },
    {
     "name": "stdout",
     "output_type": "stream",
     "text": [
      "[Cohere] Error at batch 940: BaseCohere.generate() got an unexpected keyword argument 'prompts'\n"
     ]
    },
    {
     "name": "stderr",
     "output_type": "stream",
     "text": [
      "Cohere batches:  94%|██████████████████████▋ | 189/200 [15:46<00:55,  5.01s/it]"
     ]
    },
    {
     "name": "stdout",
     "output_type": "stream",
     "text": [
      "[Cohere] Error at batch 945: BaseCohere.generate() got an unexpected keyword argument 'prompts'\n"
     ]
    },
    {
     "name": "stderr",
     "output_type": "stream",
     "text": [
      "Cohere batches:  95%|██████████████████████▊ | 190/200 [15:51<00:50,  5.01s/it]"
     ]
    },
    {
     "name": "stdout",
     "output_type": "stream",
     "text": [
      "[Cohere] Error at batch 950: BaseCohere.generate() got an unexpected keyword argument 'prompts'\n"
     ]
    },
    {
     "name": "stderr",
     "output_type": "stream",
     "text": [
      "Cohere batches:  96%|██████████████████████▉ | 191/200 [15:56<00:45,  5.01s/it]"
     ]
    },
    {
     "name": "stdout",
     "output_type": "stream",
     "text": [
      "[Cohere] Error at batch 955: BaseCohere.generate() got an unexpected keyword argument 'prompts'\n"
     ]
    },
    {
     "name": "stderr",
     "output_type": "stream",
     "text": [
      "Cohere batches:  96%|███████████████████████ | 192/200 [16:01<00:40,  5.01s/it]"
     ]
    },
    {
     "name": "stdout",
     "output_type": "stream",
     "text": [
      "[Cohere] Error at batch 960: BaseCohere.generate() got an unexpected keyword argument 'prompts'\n"
     ]
    },
    {
     "name": "stderr",
     "output_type": "stream",
     "text": [
      "Cohere batches:  96%|███████████████████████▏| 193/200 [16:06<00:35,  5.01s/it]"
     ]
    },
    {
     "name": "stdout",
     "output_type": "stream",
     "text": [
      "[Cohere] Error at batch 965: BaseCohere.generate() got an unexpected keyword argument 'prompts'\n"
     ]
    },
    {
     "name": "stderr",
     "output_type": "stream",
     "text": [
      "Cohere batches:  97%|███████████████████████▎| 194/200 [16:11<00:30,  5.01s/it]"
     ]
    },
    {
     "name": "stdout",
     "output_type": "stream",
     "text": [
      "[Cohere] Error at batch 970: BaseCohere.generate() got an unexpected keyword argument 'prompts'\n"
     ]
    },
    {
     "name": "stderr",
     "output_type": "stream",
     "text": [
      "Cohere batches:  98%|███████████████████████▍| 195/200 [16:16<00:25,  5.01s/it]"
     ]
    },
    {
     "name": "stdout",
     "output_type": "stream",
     "text": [
      "[Cohere] Error at batch 975: BaseCohere.generate() got an unexpected keyword argument 'prompts'\n"
     ]
    },
    {
     "name": "stderr",
     "output_type": "stream",
     "text": [
      "Cohere batches:  98%|███████████████████████▌| 196/200 [16:21<00:20,  5.01s/it]"
     ]
    },
    {
     "name": "stdout",
     "output_type": "stream",
     "text": [
      "[Cohere] Error at batch 980: BaseCohere.generate() got an unexpected keyword argument 'prompts'\n"
     ]
    },
    {
     "name": "stderr",
     "output_type": "stream",
     "text": [
      "Cohere batches:  98%|███████████████████████▋| 197/200 [16:26<00:15,  5.01s/it]"
     ]
    },
    {
     "name": "stdout",
     "output_type": "stream",
     "text": [
      "[Cohere] Error at batch 985: BaseCohere.generate() got an unexpected keyword argument 'prompts'\n"
     ]
    },
    {
     "name": "stderr",
     "output_type": "stream",
     "text": [
      "Cohere batches:  99%|███████████████████████▊| 198/200 [16:31<00:10,  5.01s/it]"
     ]
    },
    {
     "name": "stdout",
     "output_type": "stream",
     "text": [
      "[Cohere] Error at batch 990: BaseCohere.generate() got an unexpected keyword argument 'prompts'\n"
     ]
    },
    {
     "name": "stderr",
     "output_type": "stream",
     "text": [
      "Cohere batches: 100%|███████████████████████▉| 199/200 [16:36<00:05,  5.01s/it]"
     ]
    },
    {
     "name": "stdout",
     "output_type": "stream",
     "text": [
      "[Cohere] Error at batch 995: BaseCohere.generate() got an unexpected keyword argument 'prompts'\n"
     ]
    },
    {
     "name": "stderr",
     "output_type": "stream",
     "text": [
      "Cohere batches: 100%|████████████████████████| 200/200 [16:41<00:00,  5.01s/it]\n"
     ]
    }
   ],
   "source": [
    "# Assuming subset_df already created and contains 'prompt' column\n",
    "gemini_preds = get_gemini_predictions(subset_df['text'], batch_size=5)\n",
    "\n",
    "subset_df['gemini_pred'] = gemini_preds"
   ]
  },
  {
   "cell_type": "code",
   "execution_count": 14,
   "id": "fb897d4c-d0a5-48be-af8a-e9daa16935bb",
   "metadata": {},
   "outputs": [
    {
     "name": "stderr",
     "output_type": "stream",
     "text": [
      "Gemini batches: 100%|████████████████████████| 200/200 [58:11<00:00, 17.46s/it]\n",
      "Cohere batches:   0%|                                  | 0/200 [00:00<?, ?it/s]"
     ]
    },
    {
     "name": "stdout",
     "output_type": "stream",
     "text": [
      "[Cohere] Error at batch 0: BaseCohere.generate() got an unexpected keyword argument 'prompts'\n"
     ]
    },
    {
     "name": "stderr",
     "output_type": "stream",
     "text": [
      "Cohere batches:   0%|▏                         | 1/200 [00:05<16:35,  5.00s/it]"
     ]
    },
    {
     "name": "stdout",
     "output_type": "stream",
     "text": [
      "[Cohere] Error at batch 5: BaseCohere.generate() got an unexpected keyword argument 'prompts'\n"
     ]
    },
    {
     "name": "stderr",
     "output_type": "stream",
     "text": [
      "Cohere batches:   1%|▎                         | 2/200 [00:10<16:30,  5.00s/it]"
     ]
    },
    {
     "name": "stdout",
     "output_type": "stream",
     "text": [
      "[Cohere] Error at batch 10: BaseCohere.generate() got an unexpected keyword argument 'prompts'\n"
     ]
    },
    {
     "name": "stderr",
     "output_type": "stream",
     "text": [
      "Cohere batches:   2%|▍                         | 3/200 [00:15<16:26,  5.01s/it]"
     ]
    },
    {
     "name": "stdout",
     "output_type": "stream",
     "text": [
      "[Cohere] Error at batch 15: BaseCohere.generate() got an unexpected keyword argument 'prompts'\n"
     ]
    },
    {
     "name": "stderr",
     "output_type": "stream",
     "text": [
      "Cohere batches:   2%|▌                         | 4/200 [00:20<16:21,  5.01s/it]"
     ]
    },
    {
     "name": "stdout",
     "output_type": "stream",
     "text": [
      "[Cohere] Error at batch 20: BaseCohere.generate() got an unexpected keyword argument 'prompts'\n"
     ]
    },
    {
     "name": "stderr",
     "output_type": "stream",
     "text": [
      "Cohere batches:   2%|▋                         | 5/200 [00:25<16:17,  5.01s/it]"
     ]
    },
    {
     "name": "stdout",
     "output_type": "stream",
     "text": [
      "[Cohere] Error at batch 25: BaseCohere.generate() got an unexpected keyword argument 'prompts'\n"
     ]
    },
    {
     "name": "stderr",
     "output_type": "stream",
     "text": [
      "Cohere batches:   3%|▊                         | 6/200 [00:30<16:12,  5.01s/it]"
     ]
    },
    {
     "name": "stdout",
     "output_type": "stream",
     "text": [
      "[Cohere] Error at batch 30: BaseCohere.generate() got an unexpected keyword argument 'prompts'\n"
     ]
    },
    {
     "name": "stderr",
     "output_type": "stream",
     "text": [
      "Cohere batches:   4%|▉                         | 7/200 [00:35<16:07,  5.01s/it]"
     ]
    },
    {
     "name": "stdout",
     "output_type": "stream",
     "text": [
      "[Cohere] Error at batch 35: BaseCohere.generate() got an unexpected keyword argument 'prompts'\n"
     ]
    },
    {
     "name": "stderr",
     "output_type": "stream",
     "text": [
      "Cohere batches:   4%|█                         | 8/200 [00:40<16:01,  5.01s/it]"
     ]
    },
    {
     "name": "stdout",
     "output_type": "stream",
     "text": [
      "[Cohere] Error at batch 40: BaseCohere.generate() got an unexpected keyword argument 'prompts'\n"
     ]
    },
    {
     "name": "stderr",
     "output_type": "stream",
     "text": [
      "Cohere batches:   4%|█▏                        | 9/200 [00:45<15:56,  5.01s/it]"
     ]
    },
    {
     "name": "stdout",
     "output_type": "stream",
     "text": [
      "[Cohere] Error at batch 45: BaseCohere.generate() got an unexpected keyword argument 'prompts'\n"
     ]
    },
    {
     "name": "stderr",
     "output_type": "stream",
     "text": [
      "Cohere batches:   5%|█▎                       | 10/200 [00:50<15:51,  5.01s/it]"
     ]
    },
    {
     "name": "stdout",
     "output_type": "stream",
     "text": [
      "[Cohere] Error at batch 50: BaseCohere.generate() got an unexpected keyword argument 'prompts'\n"
     ]
    },
    {
     "name": "stderr",
     "output_type": "stream",
     "text": [
      "Cohere batches:   6%|█▍                       | 11/200 [00:55<15:46,  5.01s/it]"
     ]
    },
    {
     "name": "stdout",
     "output_type": "stream",
     "text": [
      "[Cohere] Error at batch 55: BaseCohere.generate() got an unexpected keyword argument 'prompts'\n"
     ]
    },
    {
     "name": "stderr",
     "output_type": "stream",
     "text": [
      "Cohere batches:   6%|█▌                       | 12/200 [01:00<15:41,  5.01s/it]"
     ]
    },
    {
     "name": "stdout",
     "output_type": "stream",
     "text": [
      "[Cohere] Error at batch 60: BaseCohere.generate() got an unexpected keyword argument 'prompts'\n"
     ]
    },
    {
     "name": "stderr",
     "output_type": "stream",
     "text": [
      "Cohere batches:   6%|█▋                       | 13/200 [01:05<15:37,  5.01s/it]"
     ]
    },
    {
     "name": "stdout",
     "output_type": "stream",
     "text": [
      "[Cohere] Error at batch 65: BaseCohere.generate() got an unexpected keyword argument 'prompts'\n"
     ]
    },
    {
     "name": "stderr",
     "output_type": "stream",
     "text": [
      "Cohere batches:   7%|█▊                       | 14/200 [01:10<15:32,  5.01s/it]"
     ]
    },
    {
     "name": "stdout",
     "output_type": "stream",
     "text": [
      "[Cohere] Error at batch 70: BaseCohere.generate() got an unexpected keyword argument 'prompts'\n"
     ]
    },
    {
     "name": "stderr",
     "output_type": "stream",
     "text": [
      "Cohere batches:   8%|█▉                       | 15/200 [01:15<15:26,  5.01s/it]"
     ]
    },
    {
     "name": "stdout",
     "output_type": "stream",
     "text": [
      "[Cohere] Error at batch 75: BaseCohere.generate() got an unexpected keyword argument 'prompts'\n"
     ]
    },
    {
     "name": "stderr",
     "output_type": "stream",
     "text": [
      "Cohere batches:   8%|██                       | 16/200 [01:20<15:21,  5.01s/it]"
     ]
    },
    {
     "name": "stdout",
     "output_type": "stream",
     "text": [
      "[Cohere] Error at batch 80: BaseCohere.generate() got an unexpected keyword argument 'prompts'\n"
     ]
    },
    {
     "name": "stderr",
     "output_type": "stream",
     "text": [
      "Cohere batches:   8%|██▏                      | 17/200 [01:25<15:16,  5.01s/it]"
     ]
    },
    {
     "name": "stdout",
     "output_type": "stream",
     "text": [
      "[Cohere] Error at batch 85: BaseCohere.generate() got an unexpected keyword argument 'prompts'\n"
     ]
    },
    {
     "name": "stderr",
     "output_type": "stream",
     "text": [
      "Cohere batches:   9%|██▎                      | 18/200 [01:30<15:11,  5.01s/it]"
     ]
    },
    {
     "name": "stdout",
     "output_type": "stream",
     "text": [
      "[Cohere] Error at batch 90: BaseCohere.generate() got an unexpected keyword argument 'prompts'\n"
     ]
    },
    {
     "name": "stderr",
     "output_type": "stream",
     "text": [
      "Cohere batches:  10%|██▍                      | 19/200 [01:35<15:06,  5.01s/it]"
     ]
    },
    {
     "name": "stdout",
     "output_type": "stream",
     "text": [
      "[Cohere] Error at batch 95: BaseCohere.generate() got an unexpected keyword argument 'prompts'\n"
     ]
    },
    {
     "name": "stderr",
     "output_type": "stream",
     "text": [
      "Cohere batches:  10%|██▌                      | 20/200 [01:40<15:01,  5.01s/it]"
     ]
    },
    {
     "name": "stdout",
     "output_type": "stream",
     "text": [
      "[Cohere] Error at batch 100: BaseCohere.generate() got an unexpected keyword argument 'prompts'\n"
     ]
    },
    {
     "name": "stderr",
     "output_type": "stream",
     "text": [
      "Cohere batches:  10%|██▋                      | 21/200 [01:45<14:56,  5.01s/it]"
     ]
    },
    {
     "name": "stdout",
     "output_type": "stream",
     "text": [
      "[Cohere] Error at batch 105: BaseCohere.generate() got an unexpected keyword argument 'prompts'\n"
     ]
    },
    {
     "name": "stderr",
     "output_type": "stream",
     "text": [
      "Cohere batches:  11%|██▊                      | 22/200 [01:50<14:51,  5.01s/it]"
     ]
    },
    {
     "name": "stdout",
     "output_type": "stream",
     "text": [
      "[Cohere] Error at batch 110: BaseCohere.generate() got an unexpected keyword argument 'prompts'\n"
     ]
    },
    {
     "name": "stderr",
     "output_type": "stream",
     "text": [
      "Cohere batches:  12%|██▉                      | 23/200 [01:55<14:46,  5.01s/it]"
     ]
    },
    {
     "name": "stdout",
     "output_type": "stream",
     "text": [
      "[Cohere] Error at batch 115: BaseCohere.generate() got an unexpected keyword argument 'prompts'\n"
     ]
    },
    {
     "name": "stderr",
     "output_type": "stream",
     "text": [
      "Cohere batches:  12%|███                      | 24/200 [02:00<14:41,  5.01s/it]"
     ]
    },
    {
     "name": "stdout",
     "output_type": "stream",
     "text": [
      "[Cohere] Error at batch 120: BaseCohere.generate() got an unexpected keyword argument 'prompts'\n"
     ]
    },
    {
     "name": "stderr",
     "output_type": "stream",
     "text": [
      "Cohere batches:  12%|███▏                     | 25/200 [02:05<14:36,  5.01s/it]"
     ]
    },
    {
     "name": "stdout",
     "output_type": "stream",
     "text": [
      "[Cohere] Error at batch 125: BaseCohere.generate() got an unexpected keyword argument 'prompts'\n"
     ]
    },
    {
     "name": "stderr",
     "output_type": "stream",
     "text": [
      "Cohere batches:  13%|███▎                     | 26/200 [02:10<14:31,  5.01s/it]"
     ]
    },
    {
     "name": "stdout",
     "output_type": "stream",
     "text": [
      "[Cohere] Error at batch 130: BaseCohere.generate() got an unexpected keyword argument 'prompts'\n"
     ]
    },
    {
     "name": "stderr",
     "output_type": "stream",
     "text": [
      "Cohere batches:  14%|███▍                     | 27/200 [02:15<14:26,  5.01s/it]"
     ]
    },
    {
     "name": "stdout",
     "output_type": "stream",
     "text": [
      "[Cohere] Error at batch 135: BaseCohere.generate() got an unexpected keyword argument 'prompts'\n"
     ]
    },
    {
     "name": "stderr",
     "output_type": "stream",
     "text": [
      "Cohere batches:  14%|███▌                     | 28/200 [02:20<14:21,  5.01s/it]"
     ]
    },
    {
     "name": "stdout",
     "output_type": "stream",
     "text": [
      "[Cohere] Error at batch 140: BaseCohere.generate() got an unexpected keyword argument 'prompts'\n"
     ]
    },
    {
     "name": "stderr",
     "output_type": "stream",
     "text": [
      "Cohere batches:  14%|███▌                     | 29/200 [02:25<14:16,  5.01s/it]"
     ]
    },
    {
     "name": "stdout",
     "output_type": "stream",
     "text": [
      "[Cohere] Error at batch 145: BaseCohere.generate() got an unexpected keyword argument 'prompts'\n"
     ]
    },
    {
     "name": "stderr",
     "output_type": "stream",
     "text": [
      "Cohere batches:  15%|███▊                     | 30/200 [02:30<14:11,  5.01s/it]"
     ]
    },
    {
     "name": "stdout",
     "output_type": "stream",
     "text": [
      "[Cohere] Error at batch 150: BaseCohere.generate() got an unexpected keyword argument 'prompts'\n"
     ]
    },
    {
     "name": "stderr",
     "output_type": "stream",
     "text": [
      "Cohere batches:  16%|███▉                     | 31/200 [02:35<14:06,  5.01s/it]"
     ]
    },
    {
     "name": "stdout",
     "output_type": "stream",
     "text": [
      "[Cohere] Error at batch 155: BaseCohere.generate() got an unexpected keyword argument 'prompts'\n"
     ]
    },
    {
     "name": "stderr",
     "output_type": "stream",
     "text": [
      "Cohere batches:  16%|████                     | 32/200 [02:40<14:01,  5.01s/it]"
     ]
    },
    {
     "name": "stdout",
     "output_type": "stream",
     "text": [
      "[Cohere] Error at batch 160: BaseCohere.generate() got an unexpected keyword argument 'prompts'\n"
     ]
    },
    {
     "name": "stderr",
     "output_type": "stream",
     "text": [
      "Cohere batches:  16%|████▏                    | 33/200 [02:45<13:56,  5.01s/it]"
     ]
    },
    {
     "name": "stdout",
     "output_type": "stream",
     "text": [
      "[Cohere] Error at batch 165: BaseCohere.generate() got an unexpected keyword argument 'prompts'\n"
     ]
    },
    {
     "name": "stderr",
     "output_type": "stream",
     "text": [
      "Cohere batches:  17%|████▎                    | 34/200 [02:50<13:51,  5.01s/it]"
     ]
    },
    {
     "name": "stdout",
     "output_type": "stream",
     "text": [
      "[Cohere] Error at batch 170: BaseCohere.generate() got an unexpected keyword argument 'prompts'\n"
     ]
    },
    {
     "name": "stderr",
     "output_type": "stream",
     "text": [
      "Cohere batches:  18%|████▍                    | 35/200 [02:55<13:46,  5.01s/it]"
     ]
    },
    {
     "name": "stdout",
     "output_type": "stream",
     "text": [
      "[Cohere] Error at batch 175: BaseCohere.generate() got an unexpected keyword argument 'prompts'\n"
     ]
    },
    {
     "name": "stderr",
     "output_type": "stream",
     "text": [
      "Cohere batches:  18%|████▌                    | 36/200 [03:00<13:41,  5.01s/it]"
     ]
    },
    {
     "name": "stdout",
     "output_type": "stream",
     "text": [
      "[Cohere] Error at batch 180: BaseCohere.generate() got an unexpected keyword argument 'prompts'\n"
     ]
    },
    {
     "name": "stderr",
     "output_type": "stream",
     "text": [
      "Cohere batches:  18%|████▋                    | 37/200 [03:05<13:36,  5.01s/it]"
     ]
    },
    {
     "name": "stdout",
     "output_type": "stream",
     "text": [
      "[Cohere] Error at batch 185: BaseCohere.generate() got an unexpected keyword argument 'prompts'\n"
     ]
    },
    {
     "name": "stderr",
     "output_type": "stream",
     "text": [
      "Cohere batches:  19%|████▊                    | 38/200 [03:10<13:31,  5.01s/it]"
     ]
    },
    {
     "name": "stdout",
     "output_type": "stream",
     "text": [
      "[Cohere] Error at batch 190: BaseCohere.generate() got an unexpected keyword argument 'prompts'\n"
     ]
    },
    {
     "name": "stderr",
     "output_type": "stream",
     "text": [
      "Cohere batches:  20%|████▉                    | 39/200 [03:15<13:26,  5.01s/it]"
     ]
    },
    {
     "name": "stdout",
     "output_type": "stream",
     "text": [
      "[Cohere] Error at batch 195: BaseCohere.generate() got an unexpected keyword argument 'prompts'\n"
     ]
    },
    {
     "name": "stderr",
     "output_type": "stream",
     "text": [
      "Cohere batches:  20%|█████                    | 40/200 [03:20<13:21,  5.01s/it]"
     ]
    },
    {
     "name": "stdout",
     "output_type": "stream",
     "text": [
      "[Cohere] Error at batch 200: BaseCohere.generate() got an unexpected keyword argument 'prompts'\n"
     ]
    },
    {
     "name": "stderr",
     "output_type": "stream",
     "text": [
      "Cohere batches:  20%|█████▏                   | 41/200 [03:25<13:16,  5.01s/it]"
     ]
    },
    {
     "name": "stdout",
     "output_type": "stream",
     "text": [
      "[Cohere] Error at batch 205: BaseCohere.generate() got an unexpected keyword argument 'prompts'\n"
     ]
    },
    {
     "name": "stderr",
     "output_type": "stream",
     "text": [
      "Cohere batches:  21%|█████▎                   | 42/200 [03:30<13:11,  5.01s/it]"
     ]
    },
    {
     "name": "stdout",
     "output_type": "stream",
     "text": [
      "[Cohere] Error at batch 210: BaseCohere.generate() got an unexpected keyword argument 'prompts'\n"
     ]
    },
    {
     "name": "stderr",
     "output_type": "stream",
     "text": [
      "Cohere batches:  22%|█████▍                   | 43/200 [03:35<13:06,  5.01s/it]"
     ]
    },
    {
     "name": "stdout",
     "output_type": "stream",
     "text": [
      "[Cohere] Error at batch 215: BaseCohere.generate() got an unexpected keyword argument 'prompts'\n"
     ]
    },
    {
     "name": "stderr",
     "output_type": "stream",
     "text": [
      "Cohere batches:  22%|█████▌                   | 44/200 [03:40<13:01,  5.01s/it]"
     ]
    },
    {
     "name": "stdout",
     "output_type": "stream",
     "text": [
      "[Cohere] Error at batch 220: BaseCohere.generate() got an unexpected keyword argument 'prompts'\n"
     ]
    },
    {
     "name": "stderr",
     "output_type": "stream",
     "text": [
      "Cohere batches:  22%|█████▋                   | 45/200 [03:45<12:56,  5.01s/it]"
     ]
    },
    {
     "name": "stdout",
     "output_type": "stream",
     "text": [
      "[Cohere] Error at batch 225: BaseCohere.generate() got an unexpected keyword argument 'prompts'\n"
     ]
    },
    {
     "name": "stderr",
     "output_type": "stream",
     "text": [
      "Cohere batches:  23%|█████▊                   | 46/200 [03:50<12:51,  5.01s/it]"
     ]
    },
    {
     "name": "stdout",
     "output_type": "stream",
     "text": [
      "[Cohere] Error at batch 230: BaseCohere.generate() got an unexpected keyword argument 'prompts'\n"
     ]
    },
    {
     "name": "stderr",
     "output_type": "stream",
     "text": [
      "Cohere batches:  24%|█████▉                   | 47/200 [03:55<12:46,  5.01s/it]"
     ]
    },
    {
     "name": "stdout",
     "output_type": "stream",
     "text": [
      "[Cohere] Error at batch 235: BaseCohere.generate() got an unexpected keyword argument 'prompts'\n"
     ]
    },
    {
     "name": "stderr",
     "output_type": "stream",
     "text": [
      "Cohere batches:  24%|██████                   | 48/200 [04:00<12:41,  5.01s/it]"
     ]
    },
    {
     "name": "stdout",
     "output_type": "stream",
     "text": [
      "[Cohere] Error at batch 240: BaseCohere.generate() got an unexpected keyword argument 'prompts'\n"
     ]
    },
    {
     "name": "stderr",
     "output_type": "stream",
     "text": [
      "Cohere batches:  24%|██████▏                  | 49/200 [04:05<12:36,  5.01s/it]"
     ]
    },
    {
     "name": "stdout",
     "output_type": "stream",
     "text": [
      "[Cohere] Error at batch 245: BaseCohere.generate() got an unexpected keyword argument 'prompts'\n"
     ]
    },
    {
     "name": "stderr",
     "output_type": "stream",
     "text": [
      "Cohere batches:  25%|██████▎                  | 50/200 [04:10<12:31,  5.01s/it]"
     ]
    },
    {
     "name": "stdout",
     "output_type": "stream",
     "text": [
      "[Cohere] Error at batch 250: BaseCohere.generate() got an unexpected keyword argument 'prompts'\n"
     ]
    },
    {
     "name": "stderr",
     "output_type": "stream",
     "text": [
      "Cohere batches:  26%|██████▍                  | 51/200 [04:15<12:26,  5.01s/it]"
     ]
    },
    {
     "name": "stdout",
     "output_type": "stream",
     "text": [
      "[Cohere] Error at batch 255: BaseCohere.generate() got an unexpected keyword argument 'prompts'\n"
     ]
    },
    {
     "name": "stderr",
     "output_type": "stream",
     "text": [
      "Cohere batches:  26%|██████▌                  | 52/200 [04:20<12:21,  5.01s/it]"
     ]
    },
    {
     "name": "stdout",
     "output_type": "stream",
     "text": [
      "[Cohere] Error at batch 260: BaseCohere.generate() got an unexpected keyword argument 'prompts'\n"
     ]
    },
    {
     "name": "stderr",
     "output_type": "stream",
     "text": [
      "Cohere batches:  26%|██████▋                  | 53/200 [04:25<12:16,  5.01s/it]"
     ]
    },
    {
     "name": "stdout",
     "output_type": "stream",
     "text": [
      "[Cohere] Error at batch 265: BaseCohere.generate() got an unexpected keyword argument 'prompts'\n"
     ]
    },
    {
     "name": "stderr",
     "output_type": "stream",
     "text": [
      "Cohere batches:  27%|██████▊                  | 54/200 [04:30<12:11,  5.01s/it]"
     ]
    },
    {
     "name": "stdout",
     "output_type": "stream",
     "text": [
      "[Cohere] Error at batch 270: BaseCohere.generate() got an unexpected keyword argument 'prompts'\n"
     ]
    },
    {
     "name": "stderr",
     "output_type": "stream",
     "text": [
      "Cohere batches:  28%|██████▉                  | 55/200 [04:35<12:06,  5.01s/it]"
     ]
    },
    {
     "name": "stdout",
     "output_type": "stream",
     "text": [
      "[Cohere] Error at batch 275: BaseCohere.generate() got an unexpected keyword argument 'prompts'\n"
     ]
    },
    {
     "name": "stderr",
     "output_type": "stream",
     "text": [
      "Cohere batches:  28%|███████                  | 56/200 [04:40<12:01,  5.01s/it]"
     ]
    },
    {
     "name": "stdout",
     "output_type": "stream",
     "text": [
      "[Cohere] Error at batch 280: BaseCohere.generate() got an unexpected keyword argument 'prompts'\n"
     ]
    },
    {
     "name": "stderr",
     "output_type": "stream",
     "text": [
      "Cohere batches:  28%|███████                  | 57/200 [04:45<11:56,  5.01s/it]"
     ]
    },
    {
     "name": "stdout",
     "output_type": "stream",
     "text": [
      "[Cohere] Error at batch 285: BaseCohere.generate() got an unexpected keyword argument 'prompts'\n"
     ]
    },
    {
     "name": "stderr",
     "output_type": "stream",
     "text": [
      "Cohere batches:  29%|███████▏                 | 58/200 [04:50<11:51,  5.01s/it]"
     ]
    },
    {
     "name": "stdout",
     "output_type": "stream",
     "text": [
      "[Cohere] Error at batch 290: BaseCohere.generate() got an unexpected keyword argument 'prompts'\n"
     ]
    },
    {
     "name": "stderr",
     "output_type": "stream",
     "text": [
      "Cohere batches:  30%|███████▍                 | 59/200 [04:55<11:46,  5.01s/it]"
     ]
    },
    {
     "name": "stdout",
     "output_type": "stream",
     "text": [
      "[Cohere] Error at batch 295: BaseCohere.generate() got an unexpected keyword argument 'prompts'\n"
     ]
    },
    {
     "name": "stderr",
     "output_type": "stream",
     "text": [
      "Cohere batches:  30%|███████▌                 | 60/200 [05:00<11:41,  5.01s/it]"
     ]
    },
    {
     "name": "stdout",
     "output_type": "stream",
     "text": [
      "[Cohere] Error at batch 300: BaseCohere.generate() got an unexpected keyword argument 'prompts'\n"
     ]
    },
    {
     "name": "stderr",
     "output_type": "stream",
     "text": [
      "Cohere batches:  30%|███████▋                 | 61/200 [05:05<11:36,  5.01s/it]"
     ]
    },
    {
     "name": "stdout",
     "output_type": "stream",
     "text": [
      "[Cohere] Error at batch 305: BaseCohere.generate() got an unexpected keyword argument 'prompts'\n"
     ]
    },
    {
     "name": "stderr",
     "output_type": "stream",
     "text": [
      "Cohere batches:  31%|███████▊                 | 62/200 [05:10<11:31,  5.01s/it]"
     ]
    },
    {
     "name": "stdout",
     "output_type": "stream",
     "text": [
      "[Cohere] Error at batch 310: BaseCohere.generate() got an unexpected keyword argument 'prompts'\n"
     ]
    },
    {
     "name": "stderr",
     "output_type": "stream",
     "text": [
      "Cohere batches:  32%|███████▉                 | 63/200 [05:15<11:26,  5.01s/it]"
     ]
    },
    {
     "name": "stdout",
     "output_type": "stream",
     "text": [
      "[Cohere] Error at batch 315: BaseCohere.generate() got an unexpected keyword argument 'prompts'\n"
     ]
    },
    {
     "name": "stderr",
     "output_type": "stream",
     "text": [
      "Cohere batches:  32%|████████                 | 64/200 [05:20<11:21,  5.01s/it]"
     ]
    },
    {
     "name": "stdout",
     "output_type": "stream",
     "text": [
      "[Cohere] Error at batch 320: BaseCohere.generate() got an unexpected keyword argument 'prompts'\n"
     ]
    },
    {
     "name": "stderr",
     "output_type": "stream",
     "text": [
      "Cohere batches:  32%|████████▏                | 65/200 [05:25<11:16,  5.01s/it]"
     ]
    },
    {
     "name": "stdout",
     "output_type": "stream",
     "text": [
      "[Cohere] Error at batch 325: BaseCohere.generate() got an unexpected keyword argument 'prompts'\n"
     ]
    },
    {
     "name": "stderr",
     "output_type": "stream",
     "text": [
      "Cohere batches:  33%|████████▎                | 66/200 [05:30<11:11,  5.01s/it]"
     ]
    },
    {
     "name": "stdout",
     "output_type": "stream",
     "text": [
      "[Cohere] Error at batch 330: BaseCohere.generate() got an unexpected keyword argument 'prompts'\n"
     ]
    },
    {
     "name": "stderr",
     "output_type": "stream",
     "text": [
      "Cohere batches:  34%|████████▍                | 67/200 [05:35<11:06,  5.01s/it]"
     ]
    },
    {
     "name": "stdout",
     "output_type": "stream",
     "text": [
      "[Cohere] Error at batch 335: BaseCohere.generate() got an unexpected keyword argument 'prompts'\n"
     ]
    },
    {
     "name": "stderr",
     "output_type": "stream",
     "text": [
      "Cohere batches:  34%|████████▌                | 68/200 [05:40<11:01,  5.01s/it]"
     ]
    },
    {
     "name": "stdout",
     "output_type": "stream",
     "text": [
      "[Cohere] Error at batch 340: BaseCohere.generate() got an unexpected keyword argument 'prompts'\n"
     ]
    },
    {
     "name": "stderr",
     "output_type": "stream",
     "text": [
      "Cohere batches:  34%|████████▋                | 69/200 [05:45<10:56,  5.01s/it]"
     ]
    },
    {
     "name": "stdout",
     "output_type": "stream",
     "text": [
      "[Cohere] Error at batch 345: BaseCohere.generate() got an unexpected keyword argument 'prompts'\n"
     ]
    },
    {
     "name": "stderr",
     "output_type": "stream",
     "text": [
      "Cohere batches:  35%|████████▊                | 70/200 [05:50<10:51,  5.01s/it]"
     ]
    },
    {
     "name": "stdout",
     "output_type": "stream",
     "text": [
      "[Cohere] Error at batch 350: BaseCohere.generate() got an unexpected keyword argument 'prompts'\n"
     ]
    },
    {
     "name": "stderr",
     "output_type": "stream",
     "text": [
      "Cohere batches:  36%|████████▉                | 71/200 [05:55<10:46,  5.01s/it]"
     ]
    },
    {
     "name": "stdout",
     "output_type": "stream",
     "text": [
      "[Cohere] Error at batch 355: BaseCohere.generate() got an unexpected keyword argument 'prompts'\n"
     ]
    },
    {
     "name": "stderr",
     "output_type": "stream",
     "text": [
      "Cohere batches:  36%|█████████                | 72/200 [06:00<10:41,  5.01s/it]"
     ]
    },
    {
     "name": "stdout",
     "output_type": "stream",
     "text": [
      "[Cohere] Error at batch 360: BaseCohere.generate() got an unexpected keyword argument 'prompts'\n"
     ]
    },
    {
     "name": "stderr",
     "output_type": "stream",
     "text": [
      "Cohere batches:  36%|█████████▏               | 73/200 [06:05<10:36,  5.01s/it]"
     ]
    },
    {
     "name": "stdout",
     "output_type": "stream",
     "text": [
      "[Cohere] Error at batch 365: BaseCohere.generate() got an unexpected keyword argument 'prompts'\n"
     ]
    },
    {
     "name": "stderr",
     "output_type": "stream",
     "text": [
      "Cohere batches:  37%|█████████▎               | 74/200 [06:10<10:31,  5.01s/it]"
     ]
    },
    {
     "name": "stdout",
     "output_type": "stream",
     "text": [
      "[Cohere] Error at batch 370: BaseCohere.generate() got an unexpected keyword argument 'prompts'\n"
     ]
    },
    {
     "name": "stderr",
     "output_type": "stream",
     "text": [
      "Cohere batches:  38%|█████████▍               | 75/200 [06:15<10:26,  5.01s/it]"
     ]
    },
    {
     "name": "stdout",
     "output_type": "stream",
     "text": [
      "[Cohere] Error at batch 375: BaseCohere.generate() got an unexpected keyword argument 'prompts'\n"
     ]
    },
    {
     "name": "stderr",
     "output_type": "stream",
     "text": [
      "Cohere batches:  38%|█████████▌               | 76/200 [06:20<10:21,  5.01s/it]"
     ]
    },
    {
     "name": "stdout",
     "output_type": "stream",
     "text": [
      "[Cohere] Error at batch 380: BaseCohere.generate() got an unexpected keyword argument 'prompts'\n"
     ]
    },
    {
     "name": "stderr",
     "output_type": "stream",
     "text": [
      "Cohere batches:  38%|█████████▋               | 77/200 [06:25<10:16,  5.01s/it]"
     ]
    },
    {
     "name": "stdout",
     "output_type": "stream",
     "text": [
      "[Cohere] Error at batch 385: BaseCohere.generate() got an unexpected keyword argument 'prompts'\n"
     ]
    },
    {
     "name": "stderr",
     "output_type": "stream",
     "text": [
      "Cohere batches:  39%|█████████▊               | 78/200 [06:30<10:11,  5.01s/it]"
     ]
    },
    {
     "name": "stdout",
     "output_type": "stream",
     "text": [
      "[Cohere] Error at batch 390: BaseCohere.generate() got an unexpected keyword argument 'prompts'\n"
     ]
    },
    {
     "name": "stderr",
     "output_type": "stream",
     "text": [
      "Cohere batches:  40%|█████████▉               | 79/200 [06:35<10:06,  5.01s/it]"
     ]
    },
    {
     "name": "stdout",
     "output_type": "stream",
     "text": [
      "[Cohere] Error at batch 395: BaseCohere.generate() got an unexpected keyword argument 'prompts'\n"
     ]
    },
    {
     "name": "stderr",
     "output_type": "stream",
     "text": [
      "Cohere batches:  40%|██████████               | 80/200 [06:40<10:01,  5.01s/it]"
     ]
    },
    {
     "name": "stdout",
     "output_type": "stream",
     "text": [
      "[Cohere] Error at batch 400: BaseCohere.generate() got an unexpected keyword argument 'prompts'\n"
     ]
    },
    {
     "name": "stderr",
     "output_type": "stream",
     "text": [
      "Cohere batches:  40%|██████████▏              | 81/200 [06:45<09:56,  5.01s/it]"
     ]
    },
    {
     "name": "stdout",
     "output_type": "stream",
     "text": [
      "[Cohere] Error at batch 405: BaseCohere.generate() got an unexpected keyword argument 'prompts'\n"
     ]
    },
    {
     "name": "stderr",
     "output_type": "stream",
     "text": [
      "Cohere batches:  41%|██████████▎              | 82/200 [06:50<09:51,  5.01s/it]"
     ]
    },
    {
     "name": "stdout",
     "output_type": "stream",
     "text": [
      "[Cohere] Error at batch 410: BaseCohere.generate() got an unexpected keyword argument 'prompts'\n"
     ]
    },
    {
     "name": "stderr",
     "output_type": "stream",
     "text": [
      "Cohere batches:  42%|██████████▍              | 83/200 [06:55<09:46,  5.01s/it]"
     ]
    },
    {
     "name": "stdout",
     "output_type": "stream",
     "text": [
      "[Cohere] Error at batch 415: BaseCohere.generate() got an unexpected keyword argument 'prompts'\n"
     ]
    },
    {
     "name": "stderr",
     "output_type": "stream",
     "text": [
      "Cohere batches:  42%|██████████▌              | 84/200 [07:00<09:41,  5.01s/it]"
     ]
    },
    {
     "name": "stdout",
     "output_type": "stream",
     "text": [
      "[Cohere] Error at batch 420: BaseCohere.generate() got an unexpected keyword argument 'prompts'\n"
     ]
    },
    {
     "name": "stderr",
     "output_type": "stream",
     "text": [
      "Cohere batches:  42%|██████████▋              | 85/200 [07:05<09:36,  5.01s/it]"
     ]
    },
    {
     "name": "stdout",
     "output_type": "stream",
     "text": [
      "[Cohere] Error at batch 425: BaseCohere.generate() got an unexpected keyword argument 'prompts'\n"
     ]
    },
    {
     "name": "stderr",
     "output_type": "stream",
     "text": [
      "Cohere batches:  43%|██████████▊              | 86/200 [07:10<09:31,  5.01s/it]"
     ]
    },
    {
     "name": "stdout",
     "output_type": "stream",
     "text": [
      "[Cohere] Error at batch 430: BaseCohere.generate() got an unexpected keyword argument 'prompts'\n"
     ]
    },
    {
     "name": "stderr",
     "output_type": "stream",
     "text": [
      "Cohere batches:  44%|██████████▉              | 87/200 [07:15<09:26,  5.01s/it]"
     ]
    },
    {
     "name": "stdout",
     "output_type": "stream",
     "text": [
      "[Cohere] Error at batch 435: BaseCohere.generate() got an unexpected keyword argument 'prompts'\n"
     ]
    },
    {
     "name": "stderr",
     "output_type": "stream",
     "text": [
      "Cohere batches:  44%|███████████              | 88/200 [07:20<09:21,  5.01s/it]"
     ]
    },
    {
     "name": "stdout",
     "output_type": "stream",
     "text": [
      "[Cohere] Error at batch 440: BaseCohere.generate() got an unexpected keyword argument 'prompts'\n"
     ]
    },
    {
     "name": "stderr",
     "output_type": "stream",
     "text": [
      "Cohere batches:  44%|███████████▏             | 89/200 [07:25<09:16,  5.01s/it]"
     ]
    },
    {
     "name": "stdout",
     "output_type": "stream",
     "text": [
      "[Cohere] Error at batch 445: BaseCohere.generate() got an unexpected keyword argument 'prompts'\n"
     ]
    },
    {
     "name": "stderr",
     "output_type": "stream",
     "text": [
      "Cohere batches:  45%|███████████▎             | 90/200 [07:30<09:11,  5.01s/it]"
     ]
    },
    {
     "name": "stdout",
     "output_type": "stream",
     "text": [
      "[Cohere] Error at batch 450: BaseCohere.generate() got an unexpected keyword argument 'prompts'\n"
     ]
    },
    {
     "name": "stderr",
     "output_type": "stream",
     "text": [
      "Cohere batches:  46%|███████████▍             | 91/200 [07:35<09:06,  5.01s/it]"
     ]
    },
    {
     "name": "stdout",
     "output_type": "stream",
     "text": [
      "[Cohere] Error at batch 455: BaseCohere.generate() got an unexpected keyword argument 'prompts'\n"
     ]
    },
    {
     "name": "stderr",
     "output_type": "stream",
     "text": [
      "Cohere batches:  46%|███████████▌             | 92/200 [07:40<09:01,  5.01s/it]"
     ]
    },
    {
     "name": "stdout",
     "output_type": "stream",
     "text": [
      "[Cohere] Error at batch 460: BaseCohere.generate() got an unexpected keyword argument 'prompts'\n"
     ]
    },
    {
     "name": "stderr",
     "output_type": "stream",
     "text": [
      "Cohere batches:  46%|███████████▋             | 93/200 [07:45<08:56,  5.01s/it]"
     ]
    },
    {
     "name": "stdout",
     "output_type": "stream",
     "text": [
      "[Cohere] Error at batch 465: BaseCohere.generate() got an unexpected keyword argument 'prompts'\n"
     ]
    },
    {
     "name": "stderr",
     "output_type": "stream",
     "text": [
      "Cohere batches:  47%|███████████▊             | 94/200 [07:50<08:51,  5.01s/it]"
     ]
    },
    {
     "name": "stdout",
     "output_type": "stream",
     "text": [
      "[Cohere] Error at batch 470: BaseCohere.generate() got an unexpected keyword argument 'prompts'\n"
     ]
    },
    {
     "name": "stderr",
     "output_type": "stream",
     "text": [
      "Cohere batches:  48%|███████████▉             | 95/200 [07:55<08:46,  5.01s/it]"
     ]
    },
    {
     "name": "stdout",
     "output_type": "stream",
     "text": [
      "[Cohere] Error at batch 475: BaseCohere.generate() got an unexpected keyword argument 'prompts'\n"
     ]
    },
    {
     "name": "stderr",
     "output_type": "stream",
     "text": [
      "Cohere batches:  48%|████████████             | 96/200 [08:00<08:41,  5.01s/it]"
     ]
    },
    {
     "name": "stdout",
     "output_type": "stream",
     "text": [
      "[Cohere] Error at batch 480: BaseCohere.generate() got an unexpected keyword argument 'prompts'\n"
     ]
    },
    {
     "name": "stderr",
     "output_type": "stream",
     "text": [
      "Cohere batches:  48%|████████████▏            | 97/200 [08:05<08:36,  5.01s/it]"
     ]
    },
    {
     "name": "stdout",
     "output_type": "stream",
     "text": [
      "[Cohere] Error at batch 485: BaseCohere.generate() got an unexpected keyword argument 'prompts'\n"
     ]
    },
    {
     "name": "stderr",
     "output_type": "stream",
     "text": [
      "Cohere batches:  49%|████████████▎            | 98/200 [08:10<08:31,  5.01s/it]"
     ]
    },
    {
     "name": "stdout",
     "output_type": "stream",
     "text": [
      "[Cohere] Error at batch 490: BaseCohere.generate() got an unexpected keyword argument 'prompts'\n"
     ]
    },
    {
     "name": "stderr",
     "output_type": "stream",
     "text": [
      "Cohere batches:  50%|████████████▍            | 99/200 [08:15<08:26,  5.01s/it]"
     ]
    },
    {
     "name": "stdout",
     "output_type": "stream",
     "text": [
      "[Cohere] Error at batch 495: BaseCohere.generate() got an unexpected keyword argument 'prompts'\n"
     ]
    },
    {
     "name": "stderr",
     "output_type": "stream",
     "text": [
      "Cohere batches:  50%|████████████            | 100/200 [08:20<08:20,  5.01s/it]"
     ]
    },
    {
     "name": "stdout",
     "output_type": "stream",
     "text": [
      "[Cohere] Error at batch 500: BaseCohere.generate() got an unexpected keyword argument 'prompts'\n"
     ]
    },
    {
     "name": "stderr",
     "output_type": "stream",
     "text": [
      "Cohere batches:  50%|████████████            | 101/200 [08:25<08:16,  5.01s/it]"
     ]
    },
    {
     "name": "stdout",
     "output_type": "stream",
     "text": [
      "[Cohere] Error at batch 505: BaseCohere.generate() got an unexpected keyword argument 'prompts'\n"
     ]
    },
    {
     "name": "stderr",
     "output_type": "stream",
     "text": [
      "Cohere batches:  51%|████████████▏           | 102/200 [08:30<08:11,  5.01s/it]"
     ]
    },
    {
     "name": "stdout",
     "output_type": "stream",
     "text": [
      "[Cohere] Error at batch 510: BaseCohere.generate() got an unexpected keyword argument 'prompts'\n"
     ]
    },
    {
     "name": "stderr",
     "output_type": "stream",
     "text": [
      "Cohere batches:  52%|████████████▎           | 103/200 [08:35<08:05,  5.01s/it]"
     ]
    },
    {
     "name": "stdout",
     "output_type": "stream",
     "text": [
      "[Cohere] Error at batch 515: BaseCohere.generate() got an unexpected keyword argument 'prompts'\n"
     ]
    },
    {
     "name": "stderr",
     "output_type": "stream",
     "text": [
      "Cohere batches:  52%|████████████▍           | 104/200 [08:40<08:00,  5.01s/it]"
     ]
    },
    {
     "name": "stdout",
     "output_type": "stream",
     "text": [
      "[Cohere] Error at batch 520: BaseCohere.generate() got an unexpected keyword argument 'prompts'\n"
     ]
    },
    {
     "name": "stderr",
     "output_type": "stream",
     "text": [
      "Cohere batches:  52%|████████████▌           | 105/200 [08:46<07:55,  5.01s/it]"
     ]
    },
    {
     "name": "stdout",
     "output_type": "stream",
     "text": [
      "[Cohere] Error at batch 525: BaseCohere.generate() got an unexpected keyword argument 'prompts'\n"
     ]
    },
    {
     "name": "stderr",
     "output_type": "stream",
     "text": [
      "Cohere batches:  53%|████████████▋           | 106/200 [08:51<07:50,  5.01s/it]"
     ]
    },
    {
     "name": "stdout",
     "output_type": "stream",
     "text": [
      "[Cohere] Error at batch 530: BaseCohere.generate() got an unexpected keyword argument 'prompts'\n"
     ]
    },
    {
     "name": "stderr",
     "output_type": "stream",
     "text": [
      "Cohere batches:  54%|████████████▊           | 107/200 [08:56<07:45,  5.01s/it]"
     ]
    },
    {
     "name": "stdout",
     "output_type": "stream",
     "text": [
      "[Cohere] Error at batch 535: BaseCohere.generate() got an unexpected keyword argument 'prompts'\n"
     ]
    },
    {
     "name": "stderr",
     "output_type": "stream",
     "text": [
      "Cohere batches:  54%|████████████▉           | 108/200 [09:01<07:40,  5.01s/it]"
     ]
    },
    {
     "name": "stdout",
     "output_type": "stream",
     "text": [
      "[Cohere] Error at batch 540: BaseCohere.generate() got an unexpected keyword argument 'prompts'\n"
     ]
    },
    {
     "name": "stderr",
     "output_type": "stream",
     "text": [
      "Cohere batches:  55%|█████████████           | 109/200 [09:06<07:36,  5.01s/it]"
     ]
    },
    {
     "name": "stdout",
     "output_type": "stream",
     "text": [
      "[Cohere] Error at batch 545: BaseCohere.generate() got an unexpected keyword argument 'prompts'\n"
     ]
    },
    {
     "name": "stderr",
     "output_type": "stream",
     "text": [
      "Cohere batches:  55%|█████████████▏          | 110/200 [09:11<07:30,  5.01s/it]"
     ]
    },
    {
     "name": "stdout",
     "output_type": "stream",
     "text": [
      "[Cohere] Error at batch 550: BaseCohere.generate() got an unexpected keyword argument 'prompts'\n"
     ]
    },
    {
     "name": "stderr",
     "output_type": "stream",
     "text": [
      "Cohere batches:  56%|█████████████▎          | 111/200 [09:16<07:25,  5.01s/it]"
     ]
    },
    {
     "name": "stdout",
     "output_type": "stream",
     "text": [
      "[Cohere] Error at batch 555: BaseCohere.generate() got an unexpected keyword argument 'prompts'\n"
     ]
    },
    {
     "name": "stderr",
     "output_type": "stream",
     "text": [
      "Cohere batches:  56%|█████████████▍          | 112/200 [09:21<07:20,  5.01s/it]"
     ]
    },
    {
     "name": "stdout",
     "output_type": "stream",
     "text": [
      "[Cohere] Error at batch 560: BaseCohere.generate() got an unexpected keyword argument 'prompts'\n"
     ]
    },
    {
     "name": "stderr",
     "output_type": "stream",
     "text": [
      "Cohere batches:  56%|█████████████▌          | 113/200 [09:26<07:15,  5.01s/it]"
     ]
    },
    {
     "name": "stdout",
     "output_type": "stream",
     "text": [
      "[Cohere] Error at batch 565: BaseCohere.generate() got an unexpected keyword argument 'prompts'\n"
     ]
    },
    {
     "name": "stderr",
     "output_type": "stream",
     "text": [
      "Cohere batches:  57%|█████████████▋          | 114/200 [09:31<07:10,  5.01s/it]"
     ]
    },
    {
     "name": "stdout",
     "output_type": "stream",
     "text": [
      "[Cohere] Error at batch 570: BaseCohere.generate() got an unexpected keyword argument 'prompts'\n"
     ]
    },
    {
     "name": "stderr",
     "output_type": "stream",
     "text": [
      "Cohere batches:  57%|█████████████▊          | 115/200 [09:36<07:05,  5.01s/it]"
     ]
    },
    {
     "name": "stdout",
     "output_type": "stream",
     "text": [
      "[Cohere] Error at batch 575: BaseCohere.generate() got an unexpected keyword argument 'prompts'\n"
     ]
    },
    {
     "name": "stderr",
     "output_type": "stream",
     "text": [
      "Cohere batches:  58%|█████████████▉          | 116/200 [09:41<07:00,  5.01s/it]"
     ]
    },
    {
     "name": "stdout",
     "output_type": "stream",
     "text": [
      "[Cohere] Error at batch 580: BaseCohere.generate() got an unexpected keyword argument 'prompts'\n"
     ]
    },
    {
     "name": "stderr",
     "output_type": "stream",
     "text": [
      "Cohere batches:  58%|██████████████          | 117/200 [09:46<06:55,  5.01s/it]"
     ]
    },
    {
     "name": "stdout",
     "output_type": "stream",
     "text": [
      "[Cohere] Error at batch 585: BaseCohere.generate() got an unexpected keyword argument 'prompts'\n"
     ]
    },
    {
     "name": "stderr",
     "output_type": "stream",
     "text": [
      "Cohere batches:  59%|██████████████▏         | 118/200 [09:51<06:50,  5.01s/it]"
     ]
    },
    {
     "name": "stdout",
     "output_type": "stream",
     "text": [
      "[Cohere] Error at batch 590: BaseCohere.generate() got an unexpected keyword argument 'prompts'\n"
     ]
    },
    {
     "name": "stderr",
     "output_type": "stream",
     "text": [
      "Cohere batches:  60%|██████████████▎         | 119/200 [09:56<06:45,  5.01s/it]"
     ]
    },
    {
     "name": "stdout",
     "output_type": "stream",
     "text": [
      "[Cohere] Error at batch 595: BaseCohere.generate() got an unexpected keyword argument 'prompts'\n"
     ]
    },
    {
     "name": "stderr",
     "output_type": "stream",
     "text": [
      "Cohere batches:  60%|██████████████▍         | 120/200 [10:01<06:40,  5.01s/it]"
     ]
    },
    {
     "name": "stdout",
     "output_type": "stream",
     "text": [
      "[Cohere] Error at batch 600: BaseCohere.generate() got an unexpected keyword argument 'prompts'\n"
     ]
    },
    {
     "name": "stderr",
     "output_type": "stream",
     "text": [
      "Cohere batches:  60%|██████████████▌         | 121/200 [10:06<06:35,  5.01s/it]"
     ]
    },
    {
     "name": "stdout",
     "output_type": "stream",
     "text": [
      "[Cohere] Error at batch 605: BaseCohere.generate() got an unexpected keyword argument 'prompts'\n"
     ]
    },
    {
     "name": "stderr",
     "output_type": "stream",
     "text": [
      "Cohere batches:  61%|██████████████▋         | 122/200 [10:11<06:30,  5.01s/it]"
     ]
    },
    {
     "name": "stdout",
     "output_type": "stream",
     "text": [
      "[Cohere] Error at batch 610: BaseCohere.generate() got an unexpected keyword argument 'prompts'\n"
     ]
    },
    {
     "name": "stderr",
     "output_type": "stream",
     "text": [
      "Cohere batches:  62%|██████████████▊         | 123/200 [10:16<06:25,  5.01s/it]"
     ]
    },
    {
     "name": "stdout",
     "output_type": "stream",
     "text": [
      "[Cohere] Error at batch 615: BaseCohere.generate() got an unexpected keyword argument 'prompts'\n"
     ]
    },
    {
     "name": "stderr",
     "output_type": "stream",
     "text": [
      "Cohere batches:  62%|██████████████▉         | 124/200 [10:21<06:20,  5.01s/it]"
     ]
    },
    {
     "name": "stdout",
     "output_type": "stream",
     "text": [
      "[Cohere] Error at batch 620: BaseCohere.generate() got an unexpected keyword argument 'prompts'\n"
     ]
    },
    {
     "name": "stderr",
     "output_type": "stream",
     "text": [
      "Cohere batches:  62%|███████████████         | 125/200 [10:26<06:15,  5.01s/it]"
     ]
    },
    {
     "name": "stdout",
     "output_type": "stream",
     "text": [
      "[Cohere] Error at batch 625: BaseCohere.generate() got an unexpected keyword argument 'prompts'\n"
     ]
    },
    {
     "name": "stderr",
     "output_type": "stream",
     "text": [
      "Cohere batches:  63%|███████████████         | 126/200 [10:31<06:10,  5.01s/it]"
     ]
    },
    {
     "name": "stdout",
     "output_type": "stream",
     "text": [
      "[Cohere] Error at batch 630: BaseCohere.generate() got an unexpected keyword argument 'prompts'\n"
     ]
    },
    {
     "name": "stderr",
     "output_type": "stream",
     "text": [
      "Cohere batches:  64%|███████████████▏        | 127/200 [10:36<06:05,  5.01s/it]"
     ]
    },
    {
     "name": "stdout",
     "output_type": "stream",
     "text": [
      "[Cohere] Error at batch 635: BaseCohere.generate() got an unexpected keyword argument 'prompts'\n"
     ]
    },
    {
     "name": "stderr",
     "output_type": "stream",
     "text": [
      "Cohere batches:  64%|███████████████▎        | 128/200 [10:41<06:00,  5.01s/it]"
     ]
    },
    {
     "name": "stdout",
     "output_type": "stream",
     "text": [
      "[Cohere] Error at batch 640: BaseCohere.generate() got an unexpected keyword argument 'prompts'\n"
     ]
    },
    {
     "name": "stderr",
     "output_type": "stream",
     "text": [
      "Cohere batches:  64%|███████████████▍        | 129/200 [10:46<05:55,  5.01s/it]"
     ]
    },
    {
     "name": "stdout",
     "output_type": "stream",
     "text": [
      "[Cohere] Error at batch 645: BaseCohere.generate() got an unexpected keyword argument 'prompts'\n"
     ]
    },
    {
     "name": "stderr",
     "output_type": "stream",
     "text": [
      "Cohere batches:  65%|███████████████▌        | 130/200 [10:51<05:50,  5.01s/it]"
     ]
    },
    {
     "name": "stdout",
     "output_type": "stream",
     "text": [
      "[Cohere] Error at batch 650: BaseCohere.generate() got an unexpected keyword argument 'prompts'\n"
     ]
    },
    {
     "name": "stderr",
     "output_type": "stream",
     "text": [
      "Cohere batches:  66%|███████████████▋        | 131/200 [10:56<05:45,  5.01s/it]"
     ]
    },
    {
     "name": "stdout",
     "output_type": "stream",
     "text": [
      "[Cohere] Error at batch 655: BaseCohere.generate() got an unexpected keyword argument 'prompts'\n"
     ]
    },
    {
     "name": "stderr",
     "output_type": "stream",
     "text": [
      "Cohere batches:  66%|███████████████▊        | 132/200 [11:01<05:40,  5.01s/it]"
     ]
    },
    {
     "name": "stdout",
     "output_type": "stream",
     "text": [
      "[Cohere] Error at batch 660: BaseCohere.generate() got an unexpected keyword argument 'prompts'\n"
     ]
    },
    {
     "name": "stderr",
     "output_type": "stream",
     "text": [
      "Cohere batches:  66%|███████████████▉        | 133/200 [11:06<05:35,  5.01s/it]"
     ]
    },
    {
     "name": "stdout",
     "output_type": "stream",
     "text": [
      "[Cohere] Error at batch 665: BaseCohere.generate() got an unexpected keyword argument 'prompts'\n"
     ]
    },
    {
     "name": "stderr",
     "output_type": "stream",
     "text": [
      "Cohere batches:  67%|████████████████        | 134/200 [11:11<05:30,  5.01s/it]"
     ]
    },
    {
     "name": "stdout",
     "output_type": "stream",
     "text": [
      "[Cohere] Error at batch 670: BaseCohere.generate() got an unexpected keyword argument 'prompts'\n"
     ]
    },
    {
     "name": "stderr",
     "output_type": "stream",
     "text": [
      "Cohere batches:  68%|████████████████▏       | 135/200 [11:16<05:25,  5.01s/it]"
     ]
    },
    {
     "name": "stdout",
     "output_type": "stream",
     "text": [
      "[Cohere] Error at batch 675: BaseCohere.generate() got an unexpected keyword argument 'prompts'\n"
     ]
    },
    {
     "name": "stderr",
     "output_type": "stream",
     "text": [
      "Cohere batches:  68%|████████████████▎       | 136/200 [11:21<05:20,  5.01s/it]"
     ]
    },
    {
     "name": "stdout",
     "output_type": "stream",
     "text": [
      "[Cohere] Error at batch 680: BaseCohere.generate() got an unexpected keyword argument 'prompts'\n"
     ]
    },
    {
     "name": "stderr",
     "output_type": "stream",
     "text": [
      "Cohere batches:  68%|████████████████▍       | 137/200 [11:26<05:15,  5.01s/it]"
     ]
    },
    {
     "name": "stdout",
     "output_type": "stream",
     "text": [
      "[Cohere] Error at batch 685: BaseCohere.generate() got an unexpected keyword argument 'prompts'\n"
     ]
    },
    {
     "name": "stderr",
     "output_type": "stream",
     "text": [
      "Cohere batches:  69%|████████████████▌       | 138/200 [11:31<05:10,  5.01s/it]"
     ]
    },
    {
     "name": "stdout",
     "output_type": "stream",
     "text": [
      "[Cohere] Error at batch 690: BaseCohere.generate() got an unexpected keyword argument 'prompts'\n"
     ]
    },
    {
     "name": "stderr",
     "output_type": "stream",
     "text": [
      "Cohere batches:  70%|████████████████▋       | 139/200 [11:36<05:05,  5.01s/it]"
     ]
    },
    {
     "name": "stdout",
     "output_type": "stream",
     "text": [
      "[Cohere] Error at batch 695: BaseCohere.generate() got an unexpected keyword argument 'prompts'\n"
     ]
    },
    {
     "name": "stderr",
     "output_type": "stream",
     "text": [
      "Cohere batches:  70%|████████████████▊       | 140/200 [11:41<05:00,  5.01s/it]"
     ]
    },
    {
     "name": "stdout",
     "output_type": "stream",
     "text": [
      "[Cohere] Error at batch 700: BaseCohere.generate() got an unexpected keyword argument 'prompts'\n"
     ]
    },
    {
     "name": "stderr",
     "output_type": "stream",
     "text": [
      "Cohere batches:  70%|████████████████▉       | 141/200 [11:46<04:55,  5.01s/it]"
     ]
    },
    {
     "name": "stdout",
     "output_type": "stream",
     "text": [
      "[Cohere] Error at batch 705: BaseCohere.generate() got an unexpected keyword argument 'prompts'\n"
     ]
    },
    {
     "name": "stderr",
     "output_type": "stream",
     "text": [
      "Cohere batches:  71%|█████████████████       | 142/200 [11:51<04:50,  5.01s/it]"
     ]
    },
    {
     "name": "stdout",
     "output_type": "stream",
     "text": [
      "[Cohere] Error at batch 710: BaseCohere.generate() got an unexpected keyword argument 'prompts'\n"
     ]
    },
    {
     "name": "stderr",
     "output_type": "stream",
     "text": [
      "Cohere batches:  72%|█████████████████▏      | 143/200 [11:56<04:45,  5.01s/it]"
     ]
    },
    {
     "name": "stdout",
     "output_type": "stream",
     "text": [
      "[Cohere] Error at batch 715: BaseCohere.generate() got an unexpected keyword argument 'prompts'\n"
     ]
    },
    {
     "name": "stderr",
     "output_type": "stream",
     "text": [
      "Cohere batches:  72%|█████████████████▎      | 144/200 [12:01<04:40,  5.01s/it]"
     ]
    },
    {
     "name": "stdout",
     "output_type": "stream",
     "text": [
      "[Cohere] Error at batch 720: BaseCohere.generate() got an unexpected keyword argument 'prompts'\n"
     ]
    },
    {
     "name": "stderr",
     "output_type": "stream",
     "text": [
      "Cohere batches:  72%|█████████████████▍      | 145/200 [12:06<04:35,  5.01s/it]"
     ]
    },
    {
     "name": "stdout",
     "output_type": "stream",
     "text": [
      "[Cohere] Error at batch 725: BaseCohere.generate() got an unexpected keyword argument 'prompts'\n"
     ]
    },
    {
     "name": "stderr",
     "output_type": "stream",
     "text": [
      "Cohere batches:  73%|█████████████████▌      | 146/200 [12:11<04:30,  5.01s/it]"
     ]
    },
    {
     "name": "stdout",
     "output_type": "stream",
     "text": [
      "[Cohere] Error at batch 730: BaseCohere.generate() got an unexpected keyword argument 'prompts'\n"
     ]
    },
    {
     "name": "stderr",
     "output_type": "stream",
     "text": [
      "Cohere batches:  74%|█████████████████▋      | 147/200 [12:16<04:25,  5.01s/it]"
     ]
    },
    {
     "name": "stdout",
     "output_type": "stream",
     "text": [
      "[Cohere] Error at batch 735: BaseCohere.generate() got an unexpected keyword argument 'prompts'\n"
     ]
    },
    {
     "name": "stderr",
     "output_type": "stream",
     "text": [
      "Cohere batches:  74%|█████████████████▊      | 148/200 [12:21<04:20,  5.01s/it]"
     ]
    },
    {
     "name": "stdout",
     "output_type": "stream",
     "text": [
      "[Cohere] Error at batch 740: BaseCohere.generate() got an unexpected keyword argument 'prompts'\n"
     ]
    },
    {
     "name": "stderr",
     "output_type": "stream",
     "text": [
      "Cohere batches:  74%|█████████████████▉      | 149/200 [12:26<04:15,  5.01s/it]"
     ]
    },
    {
     "name": "stdout",
     "output_type": "stream",
     "text": [
      "[Cohere] Error at batch 745: BaseCohere.generate() got an unexpected keyword argument 'prompts'\n"
     ]
    },
    {
     "name": "stderr",
     "output_type": "stream",
     "text": [
      "Cohere batches:  75%|██████████████████      | 150/200 [12:31<04:10,  5.01s/it]"
     ]
    },
    {
     "name": "stdout",
     "output_type": "stream",
     "text": [
      "[Cohere] Error at batch 750: BaseCohere.generate() got an unexpected keyword argument 'prompts'\n"
     ]
    },
    {
     "name": "stderr",
     "output_type": "stream",
     "text": [
      "Cohere batches:  76%|██████████████████      | 151/200 [12:36<04:05,  5.01s/it]"
     ]
    },
    {
     "name": "stdout",
     "output_type": "stream",
     "text": [
      "[Cohere] Error at batch 755: BaseCohere.generate() got an unexpected keyword argument 'prompts'\n"
     ]
    },
    {
     "name": "stderr",
     "output_type": "stream",
     "text": [
      "Cohere batches:  76%|██████████████████▏     | 152/200 [12:41<04:00,  5.01s/it]"
     ]
    },
    {
     "name": "stdout",
     "output_type": "stream",
     "text": [
      "[Cohere] Error at batch 760: BaseCohere.generate() got an unexpected keyword argument 'prompts'\n"
     ]
    },
    {
     "name": "stderr",
     "output_type": "stream",
     "text": [
      "Cohere batches:  76%|██████████████████▎     | 153/200 [12:46<03:55,  5.01s/it]"
     ]
    },
    {
     "name": "stdout",
     "output_type": "stream",
     "text": [
      "[Cohere] Error at batch 765: BaseCohere.generate() got an unexpected keyword argument 'prompts'\n"
     ]
    },
    {
     "name": "stderr",
     "output_type": "stream",
     "text": [
      "Cohere batches:  77%|██████████████████▍     | 154/200 [12:51<03:50,  5.01s/it]"
     ]
    },
    {
     "name": "stdout",
     "output_type": "stream",
     "text": [
      "[Cohere] Error at batch 770: BaseCohere.generate() got an unexpected keyword argument 'prompts'\n"
     ]
    },
    {
     "name": "stderr",
     "output_type": "stream",
     "text": [
      "Cohere batches:  78%|██████████████████▌     | 155/200 [12:56<03:45,  5.01s/it]"
     ]
    },
    {
     "name": "stdout",
     "output_type": "stream",
     "text": [
      "[Cohere] Error at batch 775: BaseCohere.generate() got an unexpected keyword argument 'prompts'\n"
     ]
    },
    {
     "name": "stderr",
     "output_type": "stream",
     "text": [
      "Cohere batches:  78%|██████████████████▋     | 156/200 [13:01<03:40,  5.01s/it]"
     ]
    },
    {
     "name": "stdout",
     "output_type": "stream",
     "text": [
      "[Cohere] Error at batch 780: BaseCohere.generate() got an unexpected keyword argument 'prompts'\n"
     ]
    },
    {
     "name": "stderr",
     "output_type": "stream",
     "text": [
      "Cohere batches:  78%|██████████████████▊     | 157/200 [13:06<03:35,  5.01s/it]"
     ]
    },
    {
     "name": "stdout",
     "output_type": "stream",
     "text": [
      "[Cohere] Error at batch 785: BaseCohere.generate() got an unexpected keyword argument 'prompts'\n"
     ]
    },
    {
     "name": "stderr",
     "output_type": "stream",
     "text": [
      "Cohere batches:  79%|██████████████████▉     | 158/200 [13:11<03:30,  5.01s/it]"
     ]
    },
    {
     "name": "stdout",
     "output_type": "stream",
     "text": [
      "[Cohere] Error at batch 790: BaseCohere.generate() got an unexpected keyword argument 'prompts'\n"
     ]
    },
    {
     "name": "stderr",
     "output_type": "stream",
     "text": [
      "Cohere batches:  80%|███████████████████     | 159/200 [13:16<03:25,  5.01s/it]"
     ]
    },
    {
     "name": "stdout",
     "output_type": "stream",
     "text": [
      "[Cohere] Error at batch 795: BaseCohere.generate() got an unexpected keyword argument 'prompts'\n"
     ]
    },
    {
     "name": "stderr",
     "output_type": "stream",
     "text": [
      "Cohere batches:  80%|███████████████████▏    | 160/200 [13:21<03:20,  5.01s/it]"
     ]
    },
    {
     "name": "stdout",
     "output_type": "stream",
     "text": [
      "[Cohere] Error at batch 800: BaseCohere.generate() got an unexpected keyword argument 'prompts'\n"
     ]
    },
    {
     "name": "stderr",
     "output_type": "stream",
     "text": [
      "Cohere batches:  80%|███████████████████▎    | 161/200 [13:26<03:15,  5.01s/it]"
     ]
    },
    {
     "name": "stdout",
     "output_type": "stream",
     "text": [
      "[Cohere] Error at batch 805: BaseCohere.generate() got an unexpected keyword argument 'prompts'\n"
     ]
    },
    {
     "name": "stderr",
     "output_type": "stream",
     "text": [
      "Cohere batches:  81%|███████████████████▍    | 162/200 [13:31<03:10,  5.01s/it]"
     ]
    },
    {
     "name": "stdout",
     "output_type": "stream",
     "text": [
      "[Cohere] Error at batch 810: BaseCohere.generate() got an unexpected keyword argument 'prompts'\n"
     ]
    },
    {
     "name": "stderr",
     "output_type": "stream",
     "text": [
      "Cohere batches:  82%|███████████████████▌    | 163/200 [13:36<03:05,  5.01s/it]"
     ]
    },
    {
     "name": "stdout",
     "output_type": "stream",
     "text": [
      "[Cohere] Error at batch 815: BaseCohere.generate() got an unexpected keyword argument 'prompts'\n"
     ]
    },
    {
     "name": "stderr",
     "output_type": "stream",
     "text": [
      "Cohere batches:  82%|███████████████████▋    | 164/200 [13:41<03:00,  5.01s/it]"
     ]
    },
    {
     "name": "stdout",
     "output_type": "stream",
     "text": [
      "[Cohere] Error at batch 820: BaseCohere.generate() got an unexpected keyword argument 'prompts'\n"
     ]
    },
    {
     "name": "stderr",
     "output_type": "stream",
     "text": [
      "Cohere batches:  82%|███████████████████▊    | 165/200 [13:46<02:55,  5.01s/it]"
     ]
    },
    {
     "name": "stdout",
     "output_type": "stream",
     "text": [
      "[Cohere] Error at batch 825: BaseCohere.generate() got an unexpected keyword argument 'prompts'\n"
     ]
    },
    {
     "name": "stderr",
     "output_type": "stream",
     "text": [
      "Cohere batches:  83%|███████████████████▉    | 166/200 [13:51<02:50,  5.01s/it]"
     ]
    },
    {
     "name": "stdout",
     "output_type": "stream",
     "text": [
      "[Cohere] Error at batch 830: BaseCohere.generate() got an unexpected keyword argument 'prompts'\n"
     ]
    },
    {
     "name": "stderr",
     "output_type": "stream",
     "text": [
      "Cohere batches:  84%|████████████████████    | 167/200 [13:56<02:45,  5.01s/it]"
     ]
    },
    {
     "name": "stdout",
     "output_type": "stream",
     "text": [
      "[Cohere] Error at batch 835: BaseCohere.generate() got an unexpected keyword argument 'prompts'\n"
     ]
    },
    {
     "name": "stderr",
     "output_type": "stream",
     "text": [
      "Cohere batches:  84%|████████████████████▏   | 168/200 [14:01<02:40,  5.01s/it]"
     ]
    },
    {
     "name": "stdout",
     "output_type": "stream",
     "text": [
      "[Cohere] Error at batch 840: BaseCohere.generate() got an unexpected keyword argument 'prompts'\n"
     ]
    },
    {
     "name": "stderr",
     "output_type": "stream",
     "text": [
      "Cohere batches:  84%|████████████████████▎   | 169/200 [14:06<02:35,  5.01s/it]"
     ]
    },
    {
     "name": "stdout",
     "output_type": "stream",
     "text": [
      "[Cohere] Error at batch 845: BaseCohere.generate() got an unexpected keyword argument 'prompts'\n"
     ]
    },
    {
     "name": "stderr",
     "output_type": "stream",
     "text": [
      "Cohere batches:  85%|████████████████████▍   | 170/200 [14:11<02:30,  5.01s/it]"
     ]
    },
    {
     "name": "stdout",
     "output_type": "stream",
     "text": [
      "[Cohere] Error at batch 850: BaseCohere.generate() got an unexpected keyword argument 'prompts'\n"
     ]
    },
    {
     "name": "stderr",
     "output_type": "stream",
     "text": [
      "Cohere batches:  86%|████████████████████▌   | 171/200 [14:16<02:25,  5.01s/it]"
     ]
    },
    {
     "name": "stdout",
     "output_type": "stream",
     "text": [
      "[Cohere] Error at batch 855: BaseCohere.generate() got an unexpected keyword argument 'prompts'\n"
     ]
    },
    {
     "name": "stderr",
     "output_type": "stream",
     "text": [
      "Cohere batches:  86%|████████████████████▋   | 172/200 [14:21<02:20,  5.01s/it]"
     ]
    },
    {
     "name": "stdout",
     "output_type": "stream",
     "text": [
      "[Cohere] Error at batch 860: BaseCohere.generate() got an unexpected keyword argument 'prompts'\n"
     ]
    },
    {
     "name": "stderr",
     "output_type": "stream",
     "text": [
      "Cohere batches:  86%|████████████████████▊   | 173/200 [14:26<02:15,  5.01s/it]"
     ]
    },
    {
     "name": "stdout",
     "output_type": "stream",
     "text": [
      "[Cohere] Error at batch 865: BaseCohere.generate() got an unexpected keyword argument 'prompts'\n"
     ]
    },
    {
     "name": "stderr",
     "output_type": "stream",
     "text": [
      "Cohere batches:  87%|████████████████████▉   | 174/200 [14:31<02:10,  5.01s/it]"
     ]
    },
    {
     "name": "stdout",
     "output_type": "stream",
     "text": [
      "[Cohere] Error at batch 870: BaseCohere.generate() got an unexpected keyword argument 'prompts'\n"
     ]
    },
    {
     "name": "stderr",
     "output_type": "stream",
     "text": [
      "Cohere batches:  88%|█████████████████████   | 175/200 [14:36<02:05,  5.01s/it]"
     ]
    },
    {
     "name": "stdout",
     "output_type": "stream",
     "text": [
      "[Cohere] Error at batch 875: BaseCohere.generate() got an unexpected keyword argument 'prompts'\n"
     ]
    },
    {
     "name": "stderr",
     "output_type": "stream",
     "text": [
      "Cohere batches:  88%|█████████████████████   | 176/200 [14:41<02:00,  5.01s/it]"
     ]
    },
    {
     "name": "stdout",
     "output_type": "stream",
     "text": [
      "[Cohere] Error at batch 880: BaseCohere.generate() got an unexpected keyword argument 'prompts'\n"
     ]
    },
    {
     "name": "stderr",
     "output_type": "stream",
     "text": [
      "Cohere batches:  88%|█████████████████████▏  | 177/200 [14:46<01:55,  5.01s/it]"
     ]
    },
    {
     "name": "stdout",
     "output_type": "stream",
     "text": [
      "[Cohere] Error at batch 885: BaseCohere.generate() got an unexpected keyword argument 'prompts'\n"
     ]
    },
    {
     "name": "stderr",
     "output_type": "stream",
     "text": [
      "Cohere batches:  89%|█████████████████████▎  | 178/200 [14:51<01:50,  5.01s/it]"
     ]
    },
    {
     "name": "stdout",
     "output_type": "stream",
     "text": [
      "[Cohere] Error at batch 890: BaseCohere.generate() got an unexpected keyword argument 'prompts'\n"
     ]
    },
    {
     "name": "stderr",
     "output_type": "stream",
     "text": [
      "Cohere batches:  90%|█████████████████████▍  | 179/200 [14:56<01:45,  5.01s/it]"
     ]
    },
    {
     "name": "stdout",
     "output_type": "stream",
     "text": [
      "[Cohere] Error at batch 895: BaseCohere.generate() got an unexpected keyword argument 'prompts'\n"
     ]
    },
    {
     "name": "stderr",
     "output_type": "stream",
     "text": [
      "Cohere batches:  90%|█████████████████████▌  | 180/200 [15:01<01:40,  5.01s/it]"
     ]
    },
    {
     "name": "stdout",
     "output_type": "stream",
     "text": [
      "[Cohere] Error at batch 900: BaseCohere.generate() got an unexpected keyword argument 'prompts'\n"
     ]
    },
    {
     "name": "stderr",
     "output_type": "stream",
     "text": [
      "Cohere batches:  90%|█████████████████████▋  | 181/200 [15:06<01:35,  5.01s/it]"
     ]
    },
    {
     "name": "stdout",
     "output_type": "stream",
     "text": [
      "[Cohere] Error at batch 905: BaseCohere.generate() got an unexpected keyword argument 'prompts'\n"
     ]
    },
    {
     "name": "stderr",
     "output_type": "stream",
     "text": [
      "Cohere batches:  91%|█████████████████████▊  | 182/200 [15:11<01:30,  5.01s/it]"
     ]
    },
    {
     "name": "stdout",
     "output_type": "stream",
     "text": [
      "[Cohere] Error at batch 910: BaseCohere.generate() got an unexpected keyword argument 'prompts'\n"
     ]
    },
    {
     "name": "stderr",
     "output_type": "stream",
     "text": [
      "Cohere batches:  92%|█████████████████████▉  | 183/200 [15:16<01:25,  5.01s/it]"
     ]
    },
    {
     "name": "stdout",
     "output_type": "stream",
     "text": [
      "[Cohere] Error at batch 915: BaseCohere.generate() got an unexpected keyword argument 'prompts'\n"
     ]
    },
    {
     "name": "stderr",
     "output_type": "stream",
     "text": [
      "Cohere batches:  92%|██████████████████████  | 184/200 [15:21<01:20,  5.01s/it]"
     ]
    },
    {
     "name": "stdout",
     "output_type": "stream",
     "text": [
      "[Cohere] Error at batch 920: BaseCohere.generate() got an unexpected keyword argument 'prompts'\n"
     ]
    },
    {
     "name": "stderr",
     "output_type": "stream",
     "text": [
      "Cohere batches:  92%|██████████████████████▏ | 185/200 [15:26<01:15,  5.01s/it]"
     ]
    },
    {
     "name": "stdout",
     "output_type": "stream",
     "text": [
      "[Cohere] Error at batch 925: BaseCohere.generate() got an unexpected keyword argument 'prompts'\n"
     ]
    },
    {
     "name": "stderr",
     "output_type": "stream",
     "text": [
      "Cohere batches:  93%|██████████████████████▎ | 186/200 [15:31<01:10,  5.01s/it]"
     ]
    },
    {
     "name": "stdout",
     "output_type": "stream",
     "text": [
      "[Cohere] Error at batch 930: BaseCohere.generate() got an unexpected keyword argument 'prompts'\n"
     ]
    },
    {
     "name": "stderr",
     "output_type": "stream",
     "text": [
      "Cohere batches:  94%|██████████████████████▍ | 187/200 [15:36<01:05,  5.01s/it]"
     ]
    },
    {
     "name": "stdout",
     "output_type": "stream",
     "text": [
      "[Cohere] Error at batch 935: BaseCohere.generate() got an unexpected keyword argument 'prompts'\n"
     ]
    },
    {
     "name": "stderr",
     "output_type": "stream",
     "text": [
      "Cohere batches:  94%|██████████████████████▌ | 188/200 [15:41<01:00,  5.01s/it]"
     ]
    },
    {
     "name": "stdout",
     "output_type": "stream",
     "text": [
      "[Cohere] Error at batch 940: BaseCohere.generate() got an unexpected keyword argument 'prompts'\n"
     ]
    },
    {
     "name": "stderr",
     "output_type": "stream",
     "text": [
      "Cohere batches:  94%|██████████████████████▋ | 189/200 [15:46<00:55,  5.01s/it]"
     ]
    },
    {
     "name": "stdout",
     "output_type": "stream",
     "text": [
      "[Cohere] Error at batch 945: BaseCohere.generate() got an unexpected keyword argument 'prompts'\n"
     ]
    },
    {
     "name": "stderr",
     "output_type": "stream",
     "text": [
      "Cohere batches:  95%|██████████████████████▊ | 190/200 [15:51<00:50,  5.01s/it]"
     ]
    },
    {
     "name": "stdout",
     "output_type": "stream",
     "text": [
      "[Cohere] Error at batch 950: BaseCohere.generate() got an unexpected keyword argument 'prompts'\n"
     ]
    },
    {
     "name": "stderr",
     "output_type": "stream",
     "text": [
      "Cohere batches:  96%|██████████████████████▉ | 191/200 [15:56<00:45,  5.01s/it]"
     ]
    },
    {
     "name": "stdout",
     "output_type": "stream",
     "text": [
      "[Cohere] Error at batch 955: BaseCohere.generate() got an unexpected keyword argument 'prompts'\n"
     ]
    },
    {
     "name": "stderr",
     "output_type": "stream",
     "text": [
      "Cohere batches:  96%|███████████████████████ | 192/200 [16:01<00:40,  5.01s/it]"
     ]
    },
    {
     "name": "stdout",
     "output_type": "stream",
     "text": [
      "[Cohere] Error at batch 960: BaseCohere.generate() got an unexpected keyword argument 'prompts'\n"
     ]
    },
    {
     "name": "stderr",
     "output_type": "stream",
     "text": [
      "Cohere batches:  96%|███████████████████████▏| 193/200 [16:06<00:35,  5.01s/it]"
     ]
    },
    {
     "name": "stdout",
     "output_type": "stream",
     "text": [
      "[Cohere] Error at batch 965: BaseCohere.generate() got an unexpected keyword argument 'prompts'\n"
     ]
    },
    {
     "name": "stderr",
     "output_type": "stream",
     "text": [
      "Cohere batches:  97%|███████████████████████▎| 194/200 [16:11<00:30,  5.01s/it]"
     ]
    },
    {
     "name": "stdout",
     "output_type": "stream",
     "text": [
      "[Cohere] Error at batch 970: BaseCohere.generate() got an unexpected keyword argument 'prompts'\n"
     ]
    },
    {
     "name": "stderr",
     "output_type": "stream",
     "text": [
      "Cohere batches:  98%|███████████████████████▍| 195/200 [16:16<00:25,  5.01s/it]"
     ]
    },
    {
     "name": "stdout",
     "output_type": "stream",
     "text": [
      "[Cohere] Error at batch 975: BaseCohere.generate() got an unexpected keyword argument 'prompts'\n"
     ]
    },
    {
     "name": "stderr",
     "output_type": "stream",
     "text": [
      "Cohere batches:  98%|███████████████████████▌| 196/200 [16:21<00:20,  5.01s/it]"
     ]
    },
    {
     "name": "stdout",
     "output_type": "stream",
     "text": [
      "[Cohere] Error at batch 980: BaseCohere.generate() got an unexpected keyword argument 'prompts'\n"
     ]
    },
    {
     "name": "stderr",
     "output_type": "stream",
     "text": [
      "Cohere batches:  98%|███████████████████████▋| 197/200 [16:26<00:15,  5.01s/it]"
     ]
    },
    {
     "name": "stdout",
     "output_type": "stream",
     "text": [
      "[Cohere] Error at batch 985: BaseCohere.generate() got an unexpected keyword argument 'prompts'\n"
     ]
    },
    {
     "name": "stderr",
     "output_type": "stream",
     "text": [
      "Cohere batches:  99%|███████████████████████▊| 198/200 [16:31<00:10,  5.01s/it]"
     ]
    },
    {
     "name": "stdout",
     "output_type": "stream",
     "text": [
      "[Cohere] Error at batch 990: BaseCohere.generate() got an unexpected keyword argument 'prompts'\n"
     ]
    },
    {
     "name": "stderr",
     "output_type": "stream",
     "text": [
      "Cohere batches: 100%|███████████████████████▉| 199/200 [16:36<00:05,  5.01s/it]"
     ]
    },
    {
     "name": "stdout",
     "output_type": "stream",
     "text": [
      "[Cohere] Error at batch 995: BaseCohere.generate() got an unexpected keyword argument 'prompts'\n"
     ]
    },
    {
     "name": "stderr",
     "output_type": "stream",
     "text": [
      "Cohere batches: 100%|████████████████████████| 200/200 [16:41<00:00,  5.01s/it]\n"
     ]
    }
   ],
   "source": [
    "# Assuming subset_df already created and contains 'prompt' column\n",
    "gemini_preds = get_gemini_predictions(subset_df['text'], batch_size=5)\n",
    "\n",
    "subset_df['gemini_pred'] = gemini_preds"
   ]
  },
  {
   "cell_type": "code",
   "execution_count": 21,
   "id": "acf3910f-bc2f-44fa-ae31-4d4818f5a06d",
   "metadata": {},
   "outputs": [
    {
     "name": "stderr",
     "output_type": "stream",
     "text": [
      "Cohere batches: 100%|████████████████████████| 200/200 [31:51<00:00,  9.56s/it]\n"
     ]
    }
   ],
   "source": [
    "cohere_preds = get_cohere_predictions(subset_df['text'], batch_size=5)\n",
    "\n",
    "subset_df['cohere_pred'] = cohere_preds"
   ]
  },
  {
   "cell_type": "code",
   "execution_count": 23,
   "id": "f23cd402-5c9c-4783-93db-33eefeae0107",
   "metadata": {},
   "outputs": [
    {
     "data": {
      "text/plain": [
       "[[0],\n",
       " [2, 3],\n",
       " [2],\n",
       " [1, 3],\n",
       " [1, 3],\n",
       " [0],\n",
       " [2],\n",
       " [3],\n",
       " [2],\n",
       " [0],\n",
       " [1, 3],\n",
       " [0],\n",
       " [0],\n",
       " [0],\n",
       " [0],\n",
       " [1, 2, 3],\n",
       " [2],\n",
       " [1, 2, 3],\n",
       " [1, 3],\n",
       " [1, 2],\n",
       " [1, 3],\n",
       " [2],\n",
       " [0],\n",
       " [0],\n",
       " [1],\n",
       " [0],\n",
       " [1, 2],\n",
       " [2, 3],\n",
       " [1, 2, 3],\n",
       " [1],\n",
       " [1, 2],\n",
       " [1, 2, 3],\n",
       " [1, 2],\n",
       " [1, 3],\n",
       " [0],\n",
       " [1, 3],\n",
       " [1, 2],\n",
       " [2],\n",
       " [0],\n",
       " [1, 2],\n",
       " [1, 2, 3],\n",
       " [2],\n",
       " [1],\n",
       " [3],\n",
       " [0],\n",
       " [1],\n",
       " [1, 2, 3],\n",
       " [2],\n",
       " [1, 2, 3],\n",
       " [0],\n",
       " [0],\n",
       " [1],\n",
       " [1, 3],\n",
       " [2],\n",
       " [1, 2, 3],\n",
       " [1, 2, 3],\n",
       " [1, 2],\n",
       " [1, 3],\n",
       " [1, 2, 3],\n",
       " [0],\n",
       " [1, 2],\n",
       " [1, 3],\n",
       " [1, 2, 3],\n",
       " [1],\n",
       " [0],\n",
       " [1, 2],\n",
       " [1, 2],\n",
       " [0],\n",
       " [1, 3],\n",
       " [2, 3],\n",
       " [1, 2, 3],\n",
       " [1],\n",
       " [1],\n",
       " [0, 3],\n",
       " [1, 3],\n",
       " [1],\n",
       " [2],\n",
       " [1, 3],\n",
       " [1, 3],\n",
       " [0],\n",
       " [1, 3],\n",
       " [0],\n",
       " [0],\n",
       " [2],\n",
       " [0],\n",
       " [1, 2, 3],\n",
       " [0],\n",
       " [2, 3],\n",
       " [1],\n",
       " [1, 2, 3],\n",
       " [1, 2],\n",
       " [1, 3],\n",
       " [1],\n",
       " [2],\n",
       " [1, 2, 3],\n",
       " [1, 2, 3],\n",
       " [1],\n",
       " [1, 3],\n",
       " [1, 3],\n",
       " [0],\n",
       " [1, 2],\n",
       " [1],\n",
       " [1, 3],\n",
       " [2],\n",
       " [1],\n",
       " [1, 2, 3],\n",
       " [1, 2],\n",
       " [1, 2],\n",
       " [1, 2],\n",
       " [0],\n",
       " [1],\n",
       " [1],\n",
       " [0],\n",
       " [1, 2, 3],\n",
       " [0],\n",
       " [1, 3],\n",
       " [1, 2],\n",
       " [0],\n",
       " [0],\n",
       " [1, 2],\n",
       " [1, 2, 3],\n",
       " [2, 3],\n",
       " [2],\n",
       " [1, 3],\n",
       " [2],\n",
       " [1],\n",
       " [1, 2],\n",
       " [2, 3],\n",
       " [1, 0],\n",
       " [1, 2, 3],\n",
       " [0],\n",
       " [0],\n",
       " [2],\n",
       " [0],\n",
       " [2],\n",
       " [2],\n",
       " [0],\n",
       " [1, 2],\n",
       " [0],\n",
       " [3],\n",
       " [0],\n",
       " [0],\n",
       " [0],\n",
       " [0],\n",
       " [1, 2, 3],\n",
       " [1, 2],\n",
       " [1, 2, 3],\n",
       " [1, 3],\n",
       " [1, 3],\n",
       " [2],\n",
       " [1, 2],\n",
       " [1, 2, 3],\n",
       " [2],\n",
       " [3],\n",
       " [0],\n",
       " [0],\n",
       " [1, 3],\n",
       " [1, 2, 3],\n",
       " [1, 2, 3],\n",
       " [1, 2, 3],\n",
       " [1, 2, 3],\n",
       " [1, 2, 3],\n",
       " [2],\n",
       " [0],\n",
       " [3],\n",
       " [1, 2],\n",
       " [1],\n",
       " [2, 3],\n",
       " [0],\n",
       " [1],\n",
       " [2],\n",
       " [2],\n",
       " [1, 3],\n",
       " [1, 3],\n",
       " [2, 3],\n",
       " [0],\n",
       " [0],\n",
       " [1],\n",
       " [1],\n",
       " [1],\n",
       " [1, 3],\n",
       " [2],\n",
       " [0],\n",
       " [0],\n",
       " [3],\n",
       " [1, 3],\n",
       " [1, 2, 3],\n",
       " [0, 3],\n",
       " [0, 2],\n",
       " [1, 2],\n",
       " [1],\n",
       " [1, 2, 3],\n",
       " [0],\n",
       " [3],\n",
       " [1],\n",
       " [1, 2, 3],\n",
       " [2],\n",
       " [1],\n",
       " [2, 3],\n",
       " [1],\n",
       " [1, 2],\n",
       " [2],\n",
       " [3],\n",
       " [0],\n",
       " [1],\n",
       " [1],\n",
       " [1],\n",
       " [3],\n",
       " [2],\n",
       " [1],\n",
       " [0, 3],\n",
       " [1, 2],\n",
       " [1, 2],\n",
       " [1],\n",
       " [1, 3],\n",
       " [0],\n",
       " [1, 2],\n",
       " [1, 3],\n",
       " [2],\n",
       " [1],\n",
       " [0],\n",
       " [1],\n",
       " [2],\n",
       " [0],\n",
       " [2],\n",
       " [0],\n",
       " [1, 2, 3],\n",
       " [1],\n",
       " [0],\n",
       " [1, 3],\n",
       " [1, 2],\n",
       " [0],\n",
       " [1, 3],\n",
       " [2],\n",
       " [0],\n",
       " [0],\n",
       " [0],\n",
       " [0],\n",
       " [1, 2, 3],\n",
       " [1, 2, 3],\n",
       " [1, 2],\n",
       " [2],\n",
       " [1, 3],\n",
       " [2, 3],\n",
       " [0],\n",
       " [1, 3],\n",
       " [1, 2, 3],\n",
       " [1, 3],\n",
       " [1, 2, 3],\n",
       " [1, 2, 3],\n",
       " [1, 3],\n",
       " [0],\n",
       " [1],\n",
       " [0],\n",
       " [1, 2, 3],\n",
       " [3],\n",
       " [1, 3],\n",
       " [1, 2, 3],\n",
       " [1, 2],\n",
       " [0],\n",
       " [1, 2, 3],\n",
       " [1, 2, 3],\n",
       " [1],\n",
       " [2],\n",
       " [1],\n",
       " [0, 2],\n",
       " [2],\n",
       " [1, 3],\n",
       " [1, 2],\n",
       " [0],\n",
       " [0],\n",
       " [0],\n",
       " [1, 3],\n",
       " [0],\n",
       " [2, 3],\n",
       " [1, 2, 3],\n",
       " [0],\n",
       " [2, 3],\n",
       " [2],\n",
       " [0],\n",
       " [1, 2, 3],\n",
       " [1, 3],\n",
       " [1, 3],\n",
       " [0],\n",
       " [1, 2, 3],\n",
       " [1, 2],\n",
       " [1, 2],\n",
       " [1, 3],\n",
       " [0],\n",
       " [0],\n",
       " [2],\n",
       " [1],\n",
       " [0],\n",
       " [1],\n",
       " [1],\n",
       " [1, 3],\n",
       " [0],\n",
       " [1, 2, 3],\n",
       " [0],\n",
       " [1, 3],\n",
       " [2],\n",
       " [1, 3],\n",
       " [0],\n",
       " [2],\n",
       " [1],\n",
       " [1, 2, 3],\n",
       " [0],\n",
       " [1, 2],\n",
       " [1],\n",
       " [1, 2],\n",
       " [1, 2, 3],\n",
       " [3],\n",
       " [2],\n",
       " [2, 3],\n",
       " [0],\n",
       " [1],\n",
       " [1, 2, 3],\n",
       " [0],\n",
       " [2, 3],\n",
       " [1, 2],\n",
       " [0],\n",
       " [3],\n",
       " [1, 2],\n",
       " [0],\n",
       " [1, 3],\n",
       " [1, 2, 3],\n",
       " [1],\n",
       " [0],\n",
       " [1, 2],\n",
       " [2, 3],\n",
       " [1, 2, 3],\n",
       " [0],\n",
       " [1, 3],\n",
       " [0],\n",
       " [1, 2, 3],\n",
       " [1, 2, 3],\n",
       " [1],\n",
       " [2, 3],\n",
       " [1, 3],\n",
       " [2, 3],\n",
       " [0],\n",
       " [1],\n",
       " [1, 2],\n",
       " [2],\n",
       " [1, 3],\n",
       " [0],\n",
       " [1, 2, 3],\n",
       " [1, 3],\n",
       " [1, 3],\n",
       " [0],\n",
       " [2],\n",
       " [1],\n",
       " [1, 3],\n",
       " [1, 3],\n",
       " [0],\n",
       " [1, 3],\n",
       " [1],\n",
       " [2],\n",
       " [0],\n",
       " [1, 3],\n",
       " [1],\n",
       " [0],\n",
       " [1, 2, 3],\n",
       " [2],\n",
       " [1],\n",
       " [1, 2],\n",
       " [1],\n",
       " [1, 3],\n",
       " [1],\n",
       " [2, 3],\n",
       " [1],\n",
       " [0],\n",
       " [2],\n",
       " [0],\n",
       " [3],\n",
       " [1, 2],\n",
       " [3],\n",
       " [0],\n",
       " [2],\n",
       " [0],\n",
       " [2],\n",
       " [1, 2, 3],\n",
       " [1],\n",
       " [0],\n",
       " [3],\n",
       " [1, 2, 3],\n",
       " [2],\n",
       " [1],\n",
       " [1, 3],\n",
       " [0],\n",
       " [0],\n",
       " [0],\n",
       " [1, 3],\n",
       " [1, 2],\n",
       " [0],\n",
       " [0],\n",
       " [1, 3],\n",
       " [1, 2, 3],\n",
       " [1],\n",
       " [1, 3],\n",
       " [0],\n",
       " [1],\n",
       " [1],\n",
       " [1, 2, 3],\n",
       " [1, 2, 3],\n",
       " [2],\n",
       " [0],\n",
       " [1, 2, 3],\n",
       " [1, 2],\n",
       " [0],\n",
       " [1, 2],\n",
       " [2],\n",
       " [1, 3],\n",
       " [1],\n",
       " [1, 3],\n",
       " [1, 2, 3],\n",
       " [0],\n",
       " [2, 3],\n",
       " [3],\n",
       " [0],\n",
       " [0],\n",
       " [1],\n",
       " [0, 1],\n",
       " [0],\n",
       " [0],\n",
       " [0],\n",
       " [3],\n",
       " [1],\n",
       " [0],\n",
       " [2],\n",
       " [0],\n",
       " [1, 2, 3],\n",
       " [1, 3],\n",
       " [1],\n",
       " [1, 3],\n",
       " [0],\n",
       " [1],\n",
       " [1, 3],\n",
       " [2, 3],\n",
       " [0],\n",
       " [1, 2, 3],\n",
       " [0],\n",
       " [1, 3],\n",
       " [1, 3],\n",
       " [1, 2, 3],\n",
       " [1],\n",
       " [1, 2],\n",
       " [0],\n",
       " [1, 3],\n",
       " [2, 3],\n",
       " [1, 3],\n",
       " [2],\n",
       " [0, 3],\n",
       " [1, 2],\n",
       " [2],\n",
       " [2, 3],\n",
       " [2],\n",
       " [0],\n",
       " [1, 3],\n",
       " [1],\n",
       " [0],\n",
       " [0],\n",
       " [3],\n",
       " [3],\n",
       " [0],\n",
       " [1, 2, 3],\n",
       " [0],\n",
       " [1],\n",
       " [1, 2, 3],\n",
       " [1],\n",
       " [1, 2],\n",
       " [1, 2, 3],\n",
       " [1, 2],\n",
       " [0],\n",
       " [1, 3],\n",
       " [1, 2],\n",
       " [1, 3],\n",
       " [1, 3],\n",
       " [1],\n",
       " [2],\n",
       " [1, 3],\n",
       " [1],\n",
       " [1, 3],\n",
       " [2],\n",
       " [2],\n",
       " [1, 3],\n",
       " [1],\n",
       " [2],\n",
       " [2, 3],\n",
       " [0],\n",
       " [0],\n",
       " [1, 2, 3],\n",
       " [1, 3],\n",
       " [1, 2],\n",
       " [1, 3],\n",
       " [0],\n",
       " [3],\n",
       " [1, 3],\n",
       " [1, 3],\n",
       " [1, 2, 3],\n",
       " [1, 2, 3],\n",
       " [2, 3],\n",
       " [1],\n",
       " [2],\n",
       " [2, 3],\n",
       " [1, 2],\n",
       " [0],\n",
       " [0],\n",
       " [1, 2, 3],\n",
       " [1, 2, 3],\n",
       " [1, 3],\n",
       " [1, 2],\n",
       " [1],\n",
       " [2],\n",
       " [1, 2],\n",
       " [1],\n",
       " [0],\n",
       " [1, 2, 3],\n",
       " [2, 3],\n",
       " [2, 3],\n",
       " [1, 2, 3],\n",
       " [2],\n",
       " [1, 3],\n",
       " [3],\n",
       " [1],\n",
       " [1, 3],\n",
       " [1],\n",
       " [0],\n",
       " [1, 2],\n",
       " [1],\n",
       " [1, 3],\n",
       " [1, 2],\n",
       " [1],\n",
       " [1, 2],\n",
       " [1],\n",
       " [1, 2, 3],\n",
       " [0],\n",
       " [0],\n",
       " [1, 2, 3],\n",
       " [1, 2],\n",
       " [0],\n",
       " [1, 2, 3],\n",
       " [1, 2, 3],\n",
       " [2, 3],\n",
       " [1, 2, 3],\n",
       " [1, 2],\n",
       " [1],\n",
       " [2, 3],\n",
       " [1, 3],\n",
       " [1, 2],\n",
       " [1, 2, 3],\n",
       " [2],\n",
       " [1],\n",
       " [3],\n",
       " [2],\n",
       " [0],\n",
       " [2],\n",
       " [2, 3],\n",
       " [1],\n",
       " [1, 3],\n",
       " [1],\n",
       " [2],\n",
       " [1, 3],\n",
       " [0],\n",
       " [0],\n",
       " [0],\n",
       " [1, 3],\n",
       " [2],\n",
       " [1, 2, 3],\n",
       " [0],\n",
       " [1],\n",
       " [2],\n",
       " [1, 2, 3],\n",
       " [1, 2],\n",
       " [3],\n",
       " [1, 2, 3],\n",
       " [2],\n",
       " [1, 2, 3],\n",
       " [1],\n",
       " [1, 3],\n",
       " [1],\n",
       " [0],\n",
       " [0],\n",
       " [1, 2, 3],\n",
       " [1, 3],\n",
       " [1, 2],\n",
       " [1, 2],\n",
       " [1, 2, 3],\n",
       " [1, 3],\n",
       " [0],\n",
       " [1, 2, 3],\n",
       " [1, 2],\n",
       " [1, 2],\n",
       " [1],\n",
       " [1, 3],\n",
       " [0],\n",
       " [0],\n",
       " [1, 2, 3],\n",
       " [1, 2, 3],\n",
       " [1, 3],\n",
       " [1, 2],\n",
       " [1, 2, 3],\n",
       " [0],\n",
       " [2],\n",
       " [2],\n",
       " [1, 2, 3],\n",
       " [1],\n",
       " [0],\n",
       " [0],\n",
       " [1, 2],\n",
       " [1, 2, 3],\n",
       " [1, 2],\n",
       " [1],\n",
       " [1, 2],\n",
       " [1, 2, 3],\n",
       " [1, 2],\n",
       " [2, 3],\n",
       " [0],\n",
       " [1],\n",
       " [1, 2],\n",
       " [1, 3],\n",
       " [0],\n",
       " [0],\n",
       " [0],\n",
       " [2, 3],\n",
       " [0],\n",
       " [1, 3],\n",
       " [0],\n",
       " [2],\n",
       " [1],\n",
       " [0],\n",
       " [1],\n",
       " [1, 3],\n",
       " [0],\n",
       " [2],\n",
       " [0, 2],\n",
       " [0],\n",
       " [0, 1, 2],\n",
       " [1, 2],\n",
       " [1, 3],\n",
       " [2],\n",
       " [0],\n",
       " [1, 3],\n",
       " [2],\n",
       " [2],\n",
       " [1, 2],\n",
       " [0],\n",
       " [1, 2],\n",
       " [3],\n",
       " [1, 2],\n",
       " [1],\n",
       " [1, 2, 3],\n",
       " [0],\n",
       " [2],\n",
       " [1, 2, 3],\n",
       " [0],\n",
       " [1],\n",
       " [0, 1, 3],\n",
       " [1, 2, 3],\n",
       " [0, 1, 3],\n",
       " [2],\n",
       " [1, 3],\n",
       " [1, 2, 3],\n",
       " [0],\n",
       " [1],\n",
       " [2],\n",
       " [1, 2, 3],\n",
       " [0],\n",
       " [1, 2],\n",
       " [0],\n",
       " [0],\n",
       " [2, 3],\n",
       " [0],\n",
       " [1, 3],\n",
       " [1, 3],\n",
       " [0, 2],\n",
       " [1, 2],\n",
       " [0],\n",
       " [1, 3],\n",
       " [2],\n",
       " [2],\n",
       " [0],\n",
       " [1],\n",
       " [0],\n",
       " [1],\n",
       " [0],\n",
       " [0],\n",
       " [0],\n",
       " [1, 3],\n",
       " [0],\n",
       " [2, 3],\n",
       " [2],\n",
       " [2],\n",
       " [2],\n",
       " [2, 3],\n",
       " [1, 2, 3],\n",
       " [2],\n",
       " [1, 2],\n",
       " [0],\n",
       " [1, 2, 3],\n",
       " [2],\n",
       " [2],\n",
       " [1, 3],\n",
       " [1, 2, 3],\n",
       " [1],\n",
       " [0],\n",
       " [1, 2, 3],\n",
       " [2],\n",
       " [1],\n",
       " [1, 3],\n",
       " [1, 3],\n",
       " [0],\n",
       " [0],\n",
       " [0],\n",
       " [1, 2, 3],\n",
       " [0],\n",
       " [0],\n",
       " [0],\n",
       " [0],\n",
       " [1, 2, 3],\n",
       " [0],\n",
       " [1],\n",
       " [1, 3],\n",
       " [3],\n",
       " [1],\n",
       " [1],\n",
       " [1, 2],\n",
       " [2],\n",
       " [2, 3],\n",
       " [3],\n",
       " [0],\n",
       " [1],\n",
       " [1, 2, 3],\n",
       " [0],\n",
       " [0],\n",
       " [0],\n",
       " [0],\n",
       " [1],\n",
       " [1, 2],\n",
       " [1, 2, 3],\n",
       " [0, 3],\n",
       " [1],\n",
       " [0],\n",
       " [1, 2, 3],\n",
       " [3],\n",
       " [1, 2],\n",
       " [0, 2],\n",
       " [2, 3],\n",
       " [1, 3],\n",
       " [0, 2],\n",
       " [0, 2],\n",
       " [1, 3],\n",
       " [1, 2, 3],\n",
       " [2, 3],\n",
       " [2, 3],\n",
       " [1, 2, 3],\n",
       " [3],\n",
       " [1, 2],\n",
       " [1, 2],\n",
       " [1, 2],\n",
       " [1, 2],\n",
       " [0],\n",
       " [0],\n",
       " [0],\n",
       " [1, 2, 3],\n",
       " [1, 2],\n",
       " [0],\n",
       " [1, 3],\n",
       " [1, 2],\n",
       " [1, 3],\n",
       " [1, 2, 3],\n",
       " [0],\n",
       " [2],\n",
       " [1],\n",
       " [1, 3],\n",
       " [1, 3],\n",
       " [0],\n",
       " [0],\n",
       " [2],\n",
       " [1],\n",
       " [0],\n",
       " [0],\n",
       " [0],\n",
       " [0],\n",
       " [1, 3],\n",
       " [1, 2, 3],\n",
       " [1],\n",
       " [1],\n",
       " [1],\n",
       " [0],\n",
       " [1, 2, 3],\n",
       " [0],\n",
       " [0],\n",
       " [1],\n",
       " [1, 2, 3],\n",
       " [1, 2],\n",
       " [1, 3],\n",
       " [0],\n",
       " [1, 2],\n",
       " [2],\n",
       " [1, 2, 3],\n",
       " [1, 2, 3],\n",
       " [1, 2],\n",
       " [1, 2, 3],\n",
       " [2],\n",
       " [1, 2],\n",
       " [2, 3],\n",
       " [1, 3],\n",
       " [1, 2],\n",
       " [1, 3],\n",
       " [1, 3],\n",
       " [2],\n",
       " [2, 3],\n",
       " [0],\n",
       " [1, 2],\n",
       " [1, 3],\n",
       " [0],\n",
       " [1, 2, 3],\n",
       " [2],\n",
       " [2, 3],\n",
       " [1, 2],\n",
       " [0],\n",
       " [1],\n",
       " [1, 2, 3],\n",
       " [0],\n",
       " [1, 2, 3],\n",
       " [0],\n",
       " [0],\n",
       " [1, 2, 3],\n",
       " [2],\n",
       " [0],\n",
       " [2],\n",
       " [1, 2, 3],\n",
       " [2, 3],\n",
       " [0],\n",
       " [2],\n",
       " [1],\n",
       " [1, 0],\n",
       " [1],\n",
       " [0],\n",
       " [0, 2],\n",
       " [1, 2, 3],\n",
       " [1, 3],\n",
       " [1],\n",
       " [1, 3],\n",
       " [2],\n",
       " [0],\n",
       " [0],\n",
       " [2],\n",
       " [3],\n",
       " [1, 2, 3],\n",
       " [1, 2],\n",
       " [2, 3],\n",
       " [1],\n",
       " [1, 2],\n",
       " [2, 3],\n",
       " [1, 2],\n",
       " [1],\n",
       " [1, 2, 3],\n",
       " [2],\n",
       " [1],\n",
       " [1, 2],\n",
       " [0],\n",
       " [2, 3],\n",
       " [3],\n",
       " [1, 2, 3],\n",
       " [1, 2],\n",
       " [0, 3],\n",
       " [0],\n",
       " [1, 3],\n",
       " [1],\n",
       " [1, 2, 3],\n",
       " [0],\n",
       " [2, 3],\n",
       " [1],\n",
       " [1, 2],\n",
       " [2],\n",
       " [1],\n",
       " [1],\n",
       " [0],\n",
       " [0],\n",
       " [1],\n",
       " [1, 3],\n",
       " [0],\n",
       " [2, 3],\n",
       " [1, 2, 3],\n",
       " [2],\n",
       " [1],\n",
       " [3],\n",
       " [2, 3],\n",
       " [1, 3],\n",
       " [0],\n",
       " [0],\n",
       " [1, 2, 3],\n",
       " [2],\n",
       " [1, 2, 3],\n",
       " [2],\n",
       " [0],\n",
       " [1, 3],\n",
       " [2, 3],\n",
       " [1, 2],\n",
       " [1, 3],\n",
       " [1, 2, 3],\n",
       " [1, 2, 3],\n",
       " [1],\n",
       " [1, 3],\n",
       " [1, 2],\n",
       " [0],\n",
       " [1, 2],\n",
       " [1, 3],\n",
       " [1, 2],\n",
       " [1],\n",
       " [1, 2, 3],\n",
       " [2],\n",
       " [2],\n",
       " [0],\n",
       " [1, 2, 3],\n",
       " [1],\n",
       " [1],\n",
       " [0],\n",
       " [0],\n",
       " [1],\n",
       " [0],\n",
       " [3],\n",
       " [1],\n",
       " [1, 3],\n",
       " [1, 2],\n",
       " [1, 3],\n",
       " [1, 3],\n",
       " [0],\n",
       " [0],\n",
       " [0],\n",
       " [1],\n",
       " [1, 2],\n",
       " [2, 3],\n",
       " [1, 2],\n",
       " [1],\n",
       " [0],\n",
       " [2],\n",
       " [1],\n",
       " [1, 2],\n",
       " [1],\n",
       " [0],\n",
       " [3],\n",
       " [3],\n",
       " [0],\n",
       " [1, 2],\n",
       " [0],\n",
       " [1],\n",
       " [3],\n",
       " [1, 2, 3],\n",
       " [0],\n",
       " [2],\n",
       " [3],\n",
       " [0],\n",
       " [1, 2],\n",
       " [0],\n",
       " [2],\n",
       " [1, 2, 3],\n",
       " [2],\n",
       " [1],\n",
       " [0],\n",
       " [2, 3],\n",
       " [1, 2],\n",
       " [1],\n",
       " [1, 2],\n",
       " [0],\n",
       " [2, 3],\n",
       " [1],\n",
       " [1, 2, 3],\n",
       " [1, 3],\n",
       " [0],\n",
       " [1, 2],\n",
       " [0],\n",
       " [3],\n",
       " [1, 3],\n",
       " [1],\n",
       " [1, 2],\n",
       " [1, 3],\n",
       " [0],\n",
       " [1, 2, 3],\n",
       " [0],\n",
       " [0],\n",
       " [2],\n",
       " [1],\n",
       " [0],\n",
       " [1, 2, 3],\n",
       " [3],\n",
       " [1, 2, 3],\n",
       " [1, 2, 3],\n",
       " [2, 3],\n",
       " [1, 2],\n",
       " [0],\n",
       " [1],\n",
       " [1],\n",
       " [1, 2],\n",
       " [1, 2, 3],\n",
       " [0],\n",
       " [1],\n",
       " [1]]"
      ]
     },
     "execution_count": 23,
     "metadata": {},
     "output_type": "execute_result"
    }
   ],
   "source": [
    "cohere_preds"
   ]
  },
  {
   "cell_type": "code",
   "execution_count": 24,
   "id": "7f964298-cc3a-4400-943f-ca9338ddf13d",
   "metadata": {},
   "outputs": [
    {
     "name": "stdout",
     "output_type": "stream",
     "text": [
      "Gemini - Macro F1: 0.7929, Weighted F1: 0.7925\n",
      "Cohere - Macro F1: 0.8032, Weighted F1: 0.8012\n"
     ]
    }
   ],
   "source": [
    "from sklearn.metrics import f1_score\n",
    "\n",
    "# Label index to name (in case needed for interpretability)\n",
    "label_names = ['neutral', 'low mood', 'anxious', 'stressed']\n",
    "label_cols = ['label_0', 'label_1', 'label_2', 'label_3']  # assumed ground truth one-hot columns\n",
    "\n",
    "# Convert list of predicted label indices to binary format\n",
    "def convert_preds_to_binary(preds):\n",
    "    binary = []\n",
    "    for pred in preds:\n",
    "        row = [0] * len(label_names)\n",
    "        for label in pred:\n",
    "            if isinstance(label, int) and 0 <= label < len(label_names):\n",
    "                row[label] = 1\n",
    "        binary.append(row)\n",
    "    return binary\n",
    "\n",
    "# Evaluate macro/weighted F1\n",
    "def evaluate_predictions(df, column_name):\n",
    "    pred_binary = convert_preds_to_binary(df[column_name])\n",
    "    true_binary = df[label_cols].astype(int).values.tolist()\n",
    "    macro = f1_score(true_binary, pred_binary, average='macro')\n",
    "    weighted = f1_score(true_binary, pred_binary, average='weighted')\n",
    "    return macro, weighted\n",
    "\n",
    "# Usage\n",
    "macro_g, weighted_g = evaluate_predictions(subset_df, 'gemini_pred')\n",
    "macro_c, weighted_c = evaluate_predictions(subset_df, 'cohere_pred')\n",
    "\n",
    "print(f\"Gemini - Macro F1: {macro_g:.4f}, Weighted F1: {weighted_g:.4f}\")\n",
    "print(f\"Cohere - Macro F1: {macro_c:.4f}, Weighted F1: {weighted_c:.4f}\")"
   ]
  }
 ],
 "metadata": {
  "kernelspec": {
   "display_name": "Python 3 (ipykernel)",
   "language": "python",
   "name": "python3"
  },
  "language_info": {
   "codemirror_mode": {
    "name": "ipython",
    "version": 3
   },
   "file_extension": ".py",
   "mimetype": "text/x-python",
   "name": "python",
   "nbconvert_exporter": "python",
   "pygments_lexer": "ipython3",
   "version": "3.12.0"
  }
 },
 "nbformat": 4,
 "nbformat_minor": 5
}
